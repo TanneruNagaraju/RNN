{
 "cells": [
  {
   "cell_type": "code",
   "execution_count": 2,
   "metadata": {},
   "outputs": [],
   "source": [
    "import numpy as np"
   ]
  },
  {
   "cell_type": "code",
   "execution_count": 5,
   "metadata": {},
   "outputs": [],
   "source": [
    "def split_sequences(sequences,n_steps):\n",
    "    X = list()\n",
    "    Y = list()\n",
    "    for i in range(len(sequences)):\n",
    "        # find the end of this pattern\n",
    "        end_ix = i + n_steps\n",
    "        # check if we are beyond the dataset\n",
    "        if end_ix > len(sequences)-1:\n",
    "            break\n",
    "        # gather input and output parts of the pattern\n",
    "        seq_x = sequences[i:end_ix, :]\n",
    "        seq_y = sequences[end_ix, : ]\n",
    "        X.append(seq_x)\n",
    "        Y.append(seq_y)\n",
    "    return np.array(X),np.array(Y)"
   ]
  },
  {
   "cell_type": "code",
   "execution_count": 12,
   "metadata": {},
   "outputs": [],
   "source": [
    "# define input sequence\n",
    "seq1 = np.array([10,20,30,40,50,60,70,80,90])\n",
    "seq2 = np.array([15,25,35,45,55,65,75,85,95])"
   ]
  },
  {
   "cell_type": "code",
   "execution_count": 13,
   "metadata": {},
   "outputs": [],
   "source": [
    "out_seq = np.array([seq1[i]+seq2[i] for i in range(len(seq1))])"
   ]
  },
  {
   "cell_type": "code",
   "execution_count": 14,
   "metadata": {},
   "outputs": [],
   "source": [
    "# convert to [rows, columns] structure\n",
    "seq1 = seq1.reshape((len(seq1),1))\n",
    "seq2 = seq2.reshape((len(seq2),1))\n",
    "out_seq = out_seq.reshape((len(out_seq),1))"
   ]
  },
  {
   "cell_type": "code",
   "execution_count": 20,
   "metadata": {},
   "outputs": [
    {
     "name": "stdout",
     "output_type": "stream",
     "text": [
      "(9, 1)\n"
     ]
    }
   ],
   "source": [
    "print(seq1.shape)"
   ]
  },
  {
   "cell_type": "code",
   "execution_count": 15,
   "metadata": {},
   "outputs": [],
   "source": [
    "# horizontally stack columns\n",
    "dataset = np.hstack((seq1,seq2,out_seq))"
   ]
  },
  {
   "cell_type": "code",
   "execution_count": 25,
   "metadata": {},
   "outputs": [
    {
     "data": {
      "text/plain": [
       "array([[ 10,  15,  25],\n",
       "       [ 20,  25,  45],\n",
       "       [ 30,  35,  65],\n",
       "       [ 40,  45,  85],\n",
       "       [ 50,  55, 105],\n",
       "       [ 60,  65, 125],\n",
       "       [ 70,  75, 145],\n",
       "       [ 80,  85, 165],\n",
       "       [ 90,  95, 185]])"
      ]
     },
     "execution_count": 25,
     "metadata": {},
     "output_type": "execute_result"
    }
   ],
   "source": [
    "dataset"
   ]
  },
  {
   "cell_type": "code",
   "execution_count": 16,
   "metadata": {},
   "outputs": [],
   "source": [
    "# choose a number of time steps\n",
    "n_steps = 3"
   ]
  },
  {
   "cell_type": "code",
   "execution_count": 18,
   "metadata": {},
   "outputs": [],
   "source": [
    "X,Y = split_sequences(dataset,n_steps)"
   ]
  },
  {
   "cell_type": "markdown",
   "metadata": {},
   "source": [
    "The shape of X is three-dimensional, including the number of samples (6), the number of time steps chosen per sample (3), and the number of parallel time series or features (3).\n",
    "\n",
    "The shape of y is two-dimensional as we might expect for the number of samples (6) and the number of time variables per sample to be predicted (3)."
   ]
  },
  {
   "cell_type": "code",
   "execution_count": 21,
   "metadata": {},
   "outputs": [
    {
     "data": {
      "text/plain": [
       "(6, 3, 3)"
      ]
     },
     "execution_count": 21,
     "metadata": {},
     "output_type": "execute_result"
    }
   ],
   "source": [
    "X.shape"
   ]
  },
  {
   "cell_type": "code",
   "execution_count": 22,
   "metadata": {},
   "outputs": [
    {
     "data": {
      "text/plain": [
       "(6, 3)"
      ]
     },
     "execution_count": 22,
     "metadata": {},
     "output_type": "execute_result"
    }
   ],
   "source": [
    "Y.shape"
   ]
  },
  {
   "cell_type": "code",
   "execution_count": 19,
   "metadata": {},
   "outputs": [],
   "source": [
    "n_features = X.shape[2]"
   ]
  },
  {
   "cell_type": "code",
   "execution_count": 23,
   "metadata": {},
   "outputs": [
    {
     "data": {
      "text/plain": [
       "array([[[ 10,  15,  25],\n",
       "        [ 20,  25,  45],\n",
       "        [ 30,  35,  65]],\n",
       "\n",
       "       [[ 20,  25,  45],\n",
       "        [ 30,  35,  65],\n",
       "        [ 40,  45,  85]],\n",
       "\n",
       "       [[ 30,  35,  65],\n",
       "        [ 40,  45,  85],\n",
       "        [ 50,  55, 105]],\n",
       "\n",
       "       [[ 40,  45,  85],\n",
       "        [ 50,  55, 105],\n",
       "        [ 60,  65, 125]],\n",
       "\n",
       "       [[ 50,  55, 105],\n",
       "        [ 60,  65, 125],\n",
       "        [ 70,  75, 145]],\n",
       "\n",
       "       [[ 60,  65, 125],\n",
       "        [ 70,  75, 145],\n",
       "        [ 80,  85, 165]]])"
      ]
     },
     "execution_count": 23,
     "metadata": {},
     "output_type": "execute_result"
    }
   ],
   "source": [
    "X"
   ]
  },
  {
   "cell_type": "code",
   "execution_count": 24,
   "metadata": {},
   "outputs": [
    {
     "data": {
      "text/plain": [
       "array([[ 40,  45,  85],\n",
       "       [ 50,  55, 105],\n",
       "       [ 60,  65, 125],\n",
       "       [ 70,  75, 145],\n",
       "       [ 80,  85, 165],\n",
       "       [ 90,  95, 185]])"
      ]
     },
     "execution_count": 24,
     "metadata": {},
     "output_type": "execute_result"
    }
   ],
   "source": [
    "Y"
   ]
  },
  {
   "cell_type": "markdown",
   "metadata": {},
   "source": [
    "# Model Building"
   ]
  },
  {
   "cell_type": "code",
   "execution_count": 27,
   "metadata": {},
   "outputs": [],
   "source": [
    "from keras.models import Sequential\n",
    "from keras.layers import Dense\n",
    "from keras.layers import LSTM"
   ]
  },
  {
   "cell_type": "markdown",
   "metadata": {},
   "source": [
    "# Multi - parallel :\n",
    "\n",
    "An alternate time series problem is the case where there are multiple parallel time series and a value must be predicted for each."
   ]
  },
  {
   "cell_type": "code",
   "execution_count": 52,
   "metadata": {},
   "outputs": [],
   "source": [
    "model = Sequential()\n",
    "model.add(LSTM(100,activation = 'relu',return_sequences = True,input_shape = (n_steps,n_features)))\n",
    "model.add(LSTM(100,activation = 'relu'))\n",
    "model.add(Dense(n_features))\n",
    "model.compile(optimizer = 'adam',loss = 'mse')"
   ]
  },
  {
   "cell_type": "code",
   "execution_count": 30,
   "metadata": {},
   "outputs": [
    {
     "name": "stdout",
     "output_type": "stream",
     "text": [
      "Model: \"sequential_2\"\n",
      "_________________________________________________________________\n",
      "Layer (type)                 Output Shape              Param #   \n",
      "=================================================================\n",
      "lstm_3 (LSTM)                (None, 3, 100)            41600     \n",
      "_________________________________________________________________\n",
      "lstm_4 (LSTM)                (None, 100)               80400     \n",
      "_________________________________________________________________\n",
      "dense_2 (Dense)              (None, 3)                 303       \n",
      "=================================================================\n",
      "Total params: 122,303\n",
      "Trainable params: 122,303\n",
      "Non-trainable params: 0\n",
      "_________________________________________________________________\n"
     ]
    }
   ],
   "source": [
    "model.summary()"
   ]
  },
  {
   "cell_type": "code",
   "execution_count": 44,
   "metadata": {},
   "outputs": [
    {
     "name": "stdout",
     "output_type": "stream",
     "text": [
      "WARNING:tensorflow:From C:\\Users\\TANNERU\\anaconda3\\lib\\site-packages\\tensorflow\\python\\ops\\math_grad.py:1250: add_dispatch_support.<locals>.wrapper (from tensorflow.python.ops.array_ops) is deprecated and will be removed in a future version.\n",
      "Instructions for updating:\n",
      "Use tf.where in 2.0, which has the same broadcast rule as np.where\n",
      "Epoch 1/100\n",
      "6/6 [==============================] - 2s 393ms/step - loss: 9830.7021\n",
      "Epoch 2/100\n",
      "6/6 [==============================] - 0s 2ms/step - loss: 9517.7646\n",
      "Epoch 3/100\n",
      "6/6 [==============================] - 0s 1ms/step - loss: 9279.7910\n",
      "Epoch 4/100\n",
      "6/6 [==============================] - 0s 2ms/step - loss: 9053.2295\n",
      "Epoch 5/100\n",
      "6/6 [==============================] - 0s 2ms/step - loss: 8857.0068\n",
      "Epoch 6/100\n",
      "6/6 [==============================] - 0s 1ms/step - loss: 8604.1807\n",
      "Epoch 7/100\n",
      "6/6 [==============================] - 0s 2ms/step - loss: 8288.1689\n",
      "Epoch 8/100\n",
      "6/6 [==============================] - 0s 1ms/step - loss: 7892.6094\n",
      "Epoch 9/100\n",
      "6/6 [==============================] - 0s 1ms/step - loss: 7456.0054\n",
      "Epoch 10/100\n",
      "6/6 [==============================] - 0s 1ms/step - loss: 7020.2993\n",
      "Epoch 11/100\n",
      "6/6 [==============================] - 0s 1ms/step - loss: 6574.1470\n",
      "Epoch 12/100\n",
      "6/6 [==============================] - 0s 1ms/step - loss: 6080.1660\n",
      "Epoch 13/100\n",
      "6/6 [==============================] - 0s 1ms/step - loss: 5477.3813\n",
      "Epoch 14/100\n",
      "6/6 [==============================] - 0s 1ms/step - loss: 4824.9038\n",
      "Epoch 15/100\n",
      "6/6 [==============================] - 0s 1ms/step - loss: 4174.5688\n",
      "Epoch 16/100\n",
      "6/6 [==============================] - 0s 1ms/step - loss: 3447.0029\n",
      "Epoch 17/100\n",
      "6/6 [==============================] - 0s 1ms/step - loss: 2639.5415\n",
      "Epoch 18/100\n",
      "6/6 [==============================] - 0s 1ms/step - loss: 1903.7035\n",
      "Epoch 19/100\n",
      "6/6 [==============================] - 0s 1ms/step - loss: 1331.3224\n",
      "Epoch 20/100\n",
      "6/6 [==============================] - 0s 1ms/step - loss: 875.7901\n",
      "Epoch 21/100\n",
      "6/6 [==============================] - 0s 1ms/step - loss: 604.1124\n",
      "Epoch 22/100\n",
      "6/6 [==============================] - 0s 1ms/step - loss: 569.3051\n",
      "Epoch 23/100\n",
      "6/6 [==============================] - 0s 2ms/step - loss: 629.4442\n",
      "Epoch 24/100\n",
      "6/6 [==============================] - 0s 2ms/step - loss: 653.2763\n",
      "Epoch 25/100\n",
      "6/6 [==============================] - 0s 1ms/step - loss: 589.1457\n",
      "Epoch 26/100\n",
      "6/6 [==============================] - 0s 2ms/step - loss: 523.9168\n",
      "Epoch 27/100\n",
      "6/6 [==============================] - 0s 2ms/step - loss: 452.5412\n",
      "Epoch 28/100\n",
      "6/6 [==============================] - 0s 1ms/step - loss: 369.0172\n",
      "Epoch 29/100\n",
      "6/6 [==============================] - 0s 1ms/step - loss: 284.1200\n",
      "Epoch 30/100\n",
      "6/6 [==============================] - 0s 2ms/step - loss: 211.1360\n",
      "Epoch 31/100\n",
      "6/6 [==============================] - 0s 1ms/step - loss: 156.9488\n",
      "Epoch 32/100\n",
      "6/6 [==============================] - 0s 2ms/step - loss: 118.2897\n",
      "Epoch 33/100\n",
      "6/6 [==============================] - 0s 997us/step - loss: 94.5762\n",
      "Epoch 34/100\n",
      "6/6 [==============================] - 0s 997us/step - loss: 79.7470\n",
      "Epoch 35/100\n",
      "6/6 [==============================] - 0s 1ms/step - loss: 67.1622\n",
      "Epoch 36/100\n",
      "6/6 [==============================] - 0s 1ms/step - loss: 55.5762\n",
      "Epoch 37/100\n",
      "6/6 [==============================] - 0s 1ms/step - loss: 48.8977\n",
      "Epoch 38/100\n",
      "6/6 [==============================] - 0s 997us/step - loss: 36.4577\n",
      "Epoch 39/100\n",
      "6/6 [==============================] - 0s 997us/step - loss: 31.2837\n",
      "Epoch 40/100\n",
      "6/6 [==============================] - 0s 997us/step - loss: 29.6567\n",
      "Epoch 41/100\n",
      "6/6 [==============================] - 0s 1ms/step - loss: 29.6355\n",
      "Epoch 42/100\n",
      "6/6 [==============================] - 0s 1ms/step - loss: 28.3443\n",
      "Epoch 43/100\n",
      "6/6 [==============================] - 0s 1ms/step - loss: 22.6280\n",
      "Epoch 44/100\n",
      "6/6 [==============================] - 0s 997us/step - loss: 20.1372\n",
      "Epoch 45/100\n",
      "6/6 [==============================] - 0s 1ms/step - loss: 14.6406\n",
      "Epoch 46/100\n",
      "6/6 [==============================] - 0s 994us/step - loss: 11.6823\n",
      "Epoch 47/100\n",
      "6/6 [==============================] - 0s 1ms/step - loss: 9.3466\n",
      "Epoch 48/100\n",
      "6/6 [==============================] - 0s 997us/step - loss: 7.5985\n",
      "Epoch 49/100\n",
      "6/6 [==============================] - 0s 1ms/step - loss: 8.2406\n",
      "Epoch 50/100\n",
      "6/6 [==============================] - 0s 1ms/step - loss: 7.4211\n",
      "Epoch 51/100\n",
      "6/6 [==============================] - 0s 1ms/step - loss: 6.5084\n",
      "Epoch 52/100\n",
      "6/6 [==============================] - 0s 915us/step - loss: 6.1232\n",
      "Epoch 53/100\n",
      "6/6 [==============================] - 0s 1ms/step - loss: 5.0069\n",
      "Epoch 54/100\n",
      "6/6 [==============================] - 0s 1ms/step - loss: 4.2321\n",
      "Epoch 55/100\n",
      "6/6 [==============================] - 0s 1ms/step - loss: 3.7720\n",
      "Epoch 56/100\n",
      "6/6 [==============================] - 0s 1ms/step - loss: 2.9403\n",
      "Epoch 57/100\n",
      "6/6 [==============================] - 0s 1ms/step - loss: 2.7477\n",
      "Epoch 58/100\n",
      "6/6 [==============================] - 0s 1ms/step - loss: 2.5002\n",
      "Epoch 59/100\n",
      "6/6 [==============================] - 0s 1ms/step - loss: 1.9401\n",
      "Epoch 60/100\n",
      "6/6 [==============================] - 0s 1ms/step - loss: 1.6119\n",
      "Epoch 61/100\n",
      "6/6 [==============================] - 0s 1ms/step - loss: 1.1676\n",
      "Epoch 62/100\n",
      "6/6 [==============================] - 0s 997us/step - loss: 0.9554\n",
      "Epoch 63/100\n",
      "6/6 [==============================] - 0s 997us/step - loss: 1.0449\n",
      "Epoch 64/100\n",
      "6/6 [==============================] - 0s 986us/step - loss: 0.8940\n",
      "Epoch 65/100\n",
      "6/6 [==============================] - 0s 997us/step - loss: 0.8611\n",
      "Epoch 66/100\n",
      "6/6 [==============================] - 0s 1ms/step - loss: 0.7853\n",
      "Epoch 67/100\n",
      "6/6 [==============================] - 0s 1ms/step - loss: 0.5923\n",
      "Epoch 68/100\n",
      "6/6 [==============================] - 0s 1ms/step - loss: 0.6341\n",
      "Epoch 69/100\n",
      "6/6 [==============================] - 0s 1ms/step - loss: 0.5495\n",
      "Epoch 70/100\n",
      "6/6 [==============================] - 0s 1ms/step - loss: 0.5712\n",
      "Epoch 71/100\n",
      "6/6 [==============================] - 0s 1ms/step - loss: 0.5435\n",
      "Epoch 72/100\n",
      "6/6 [==============================] - 0s 1ms/step - loss: 0.3901\n",
      "Epoch 73/100\n",
      "6/6 [==============================] - 0s 2ms/step - loss: 0.3586\n",
      "Epoch 74/100\n",
      "6/6 [==============================] - 0s 1ms/step - loss: 0.2789\n",
      "Epoch 75/100\n",
      "6/6 [==============================] - 0s 2ms/step - loss: 0.3075\n",
      "Epoch 76/100\n",
      "6/6 [==============================] - 0s 2ms/step - loss: 0.3382\n",
      "Epoch 77/100\n",
      "6/6 [==============================] - 0s 2ms/step - loss: 0.3209\n",
      "Epoch 78/100\n",
      "6/6 [==============================] - 0s 1ms/step - loss: 0.3316\n",
      "Epoch 79/100\n",
      "6/6 [==============================] - 0s 2ms/step - loss: 0.2632\n",
      "Epoch 80/100\n",
      "6/6 [==============================] - 0s 2ms/step - loss: 0.2492\n",
      "Epoch 81/100\n",
      "6/6 [==============================] - 0s 1ms/step - loss: 0.2253\n",
      "Epoch 82/100\n",
      "6/6 [==============================] - 0s 2ms/step - loss: 0.2142\n",
      "Epoch 83/100\n",
      "6/6 [==============================] - 0s 1ms/step - loss: 0.2159\n",
      "Epoch 84/100\n",
      "6/6 [==============================] - 0s 1ms/step - loss: 0.1813\n",
      "Epoch 85/100\n",
      "6/6 [==============================] - 0s 1ms/step - loss: 0.1731\n",
      "Epoch 86/100\n",
      "6/6 [==============================] - 0s 1ms/step - loss: 0.1605\n",
      "Epoch 87/100\n",
      "6/6 [==============================] - 0s 997us/step - loss: 0.1614\n",
      "Epoch 88/100\n",
      "6/6 [==============================] - 0s 1ms/step - loss: 0.1667\n",
      "Epoch 89/100\n",
      "6/6 [==============================] - 0s 1ms/step - loss: 0.1494\n",
      "Epoch 90/100\n",
      "6/6 [==============================] - 0s 1ms/step - loss: 0.1414\n",
      "Epoch 91/100\n",
      "6/6 [==============================] - 0s 998us/step - loss: 0.1151\n",
      "Epoch 92/100\n",
      "6/6 [==============================] - 0s 1ms/step - loss: 0.1031\n",
      "Epoch 93/100\n",
      "6/6 [==============================] - 0s 997us/step - loss: 0.0958\n",
      "Epoch 94/100\n",
      "6/6 [==============================] - 0s 2ms/step - loss: 0.0934\n",
      "Epoch 95/100\n",
      "6/6 [==============================] - 0s 997us/step - loss: 0.0942\n",
      "Epoch 96/100\n",
      "6/6 [==============================] - 0s 1ms/step - loss: 0.0847\n",
      "Epoch 97/100\n",
      "6/6 [==============================] - 0s 1ms/step - loss: 0.0820\n",
      "Epoch 98/100\n",
      "6/6 [==============================] - 0s 1ms/step - loss: 0.0757\n"
     ]
    },
    {
     "name": "stdout",
     "output_type": "stream",
     "text": [
      "Epoch 99/100\n",
      "6/6 [==============================] - 0s 1000us/step - loss: 0.0730\n",
      "Epoch 100/100\n",
      "6/6 [==============================] - 0s 1ms/step - loss: 0.0677\n"
     ]
    },
    {
     "data": {
      "text/plain": [
       "<keras.callbacks.History at 0x2c9cdf225c8>"
      ]
     },
     "execution_count": 44,
     "metadata": {},
     "output_type": "execute_result"
    }
   ],
   "source": [
    "model.fit(X,Y,epochs = 100)"
   ]
  },
  {
   "cell_type": "markdown",
   "metadata": {},
   "source": [
    "# Prediction"
   ]
  },
  {
   "cell_type": "code",
   "execution_count": 45,
   "metadata": {},
   "outputs": [],
   "source": [
    "x_input = np.array([[30,35,65],[40,45,85],[50,55,105]])"
   ]
  },
  {
   "cell_type": "code",
   "execution_count": 46,
   "metadata": {},
   "outputs": [],
   "source": [
    "x_input = x_input.reshape((1,n_steps,n_features))"
   ]
  },
  {
   "cell_type": "markdown",
   "metadata": {},
   "source": [
    "The shape of the input for making a single prediction must be 1 sample, 3 time steps, and 3 features, or [1, 3, 3]"
   ]
  },
  {
   "cell_type": "code",
   "execution_count": 47,
   "metadata": {},
   "outputs": [
    {
     "data": {
      "text/plain": [
       "(1, 3, 3)"
      ]
     },
     "execution_count": 47,
     "metadata": {},
     "output_type": "execute_result"
    }
   ],
   "source": [
    "x_input.shape"
   ]
  },
  {
   "cell_type": "code",
   "execution_count": 48,
   "metadata": {},
   "outputs": [
    {
     "data": {
      "text/plain": [
       "array([[[ 30,  35,  65],\n",
       "        [ 40,  45,  85],\n",
       "        [ 50,  55, 105]]])"
      ]
     },
     "execution_count": 48,
     "metadata": {},
     "output_type": "execute_result"
    }
   ],
   "source": [
    "x_input"
   ]
  },
  {
   "cell_type": "code",
   "execution_count": 49,
   "metadata": {},
   "outputs": [],
   "source": [
    "pred = model.predict(x_input)"
   ]
  },
  {
   "cell_type": "code",
   "execution_count": 50,
   "metadata": {},
   "outputs": [
    {
     "data": {
      "text/plain": [
       "array([[ 60.156055,  64.98491 , 124.96425 ]], dtype=float32)"
      ]
     },
     "execution_count": 50,
     "metadata": {},
     "output_type": "execute_result"
    }
   ],
   "source": [
    "pred"
   ]
  },
  {
   "cell_type": "code",
   "execution_count": null,
   "metadata": {},
   "outputs": [],
   "source": []
  }
 ],
 "metadata": {
  "kernelspec": {
   "display_name": "Python 3",
   "language": "python",
   "name": "python3"
  },
  "language_info": {
   "codemirror_mode": {
    "name": "ipython",
    "version": 3
   },
   "file_extension": ".py",
   "mimetype": "text/x-python",
   "name": "python",
   "nbconvert_exporter": "python",
   "pygments_lexer": "ipython3",
   "version": "3.7.6"
  }
 },
 "nbformat": 4,
 "nbformat_minor": 4
}
