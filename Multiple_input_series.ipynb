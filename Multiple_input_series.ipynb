{
 "cells": [
  {
   "cell_type": "code",
   "execution_count": 1,
   "metadata": {},
   "outputs": [],
   "source": [
    "import numpy as np"
   ]
  },
  {
   "cell_type": "code",
   "execution_count": 56,
   "metadata": {},
   "outputs": [],
   "source": [
    "# split a univariate sequence into samples\n",
    "def split_sequence(sequence,n_steps):\n",
    "    X = list()\n",
    "    Y = list()\n",
    "    for i in range(len(sequence)):#0-8\n",
    "        # find the end of this pattern\n",
    "        end_ix = i + n_steps#i+3(3,4,5,6,7,8,9,10,11)\n",
    "        # check if we are beyond the sequence\n",
    "        if end_ix > len(sequence): #end_ix[3,4,5,6,7,8,9] > 9\n",
    "            break\n",
    "        seq_x = sequence[i:end_ix,:-1]#\n",
    "        seq_y = sequence[end_ix-1,-1]#\n",
    "        X.append(seq_x)\n",
    "        Y.append(seq_y)\n",
    "    return np.array(X),np.array(Y)"
   ]
  },
  {
   "cell_type": "code",
   "execution_count": 57,
   "metadata": {},
   "outputs": [],
   "source": [
    "#input sequences\n",
    "seq1 = np.array([10,20,30,40,50,60,70,80,90])\n",
    "seq2 = np.array([15,25,35,45,55,65,75,85,95])"
   ]
  },
  {
   "cell_type": "code",
   "execution_count": 58,
   "metadata": {},
   "outputs": [
    {
     "name": "stdout",
     "output_type": "stream",
     "text": [
      "(9,)\n",
      "(9,)\n"
     ]
    }
   ],
   "source": [
    "print(seq1.shape)\n",
    "print(seq2.shape)"
   ]
  },
  {
   "cell_type": "code",
   "execution_count": 59,
   "metadata": {},
   "outputs": [],
   "source": [
    "#output sequence\n",
    "out_seq = np.array([seq1[i]+seq2[i] for i in range(len(seq1)) ])"
   ]
  },
  {
   "cell_type": "code",
   "execution_count": 60,
   "metadata": {},
   "outputs": [
    {
     "data": {
      "text/plain": [
       "array([ 25,  45,  65,  85, 105, 125, 145, 165, 185])"
      ]
     },
     "execution_count": 60,
     "metadata": {},
     "output_type": "execute_result"
    }
   ],
   "source": [
    "out_seq"
   ]
  },
  {
   "cell_type": "code",
   "execution_count": 61,
   "metadata": {},
   "outputs": [],
   "source": [
    "# convert to [rows, columns] structure"
   ]
  },
  {
   "cell_type": "code",
   "execution_count": 62,
   "metadata": {},
   "outputs": [],
   "source": [
    "seq1 = seq1.reshape(len(seq1),1)\n",
    "seq2 = seq2.reshape(len(seq2),1)\n",
    "out_seq = out_seq.reshape(len(out_seq ),1)"
   ]
  },
  {
   "cell_type": "code",
   "execution_count": 63,
   "metadata": {},
   "outputs": [
    {
     "name": "stdout",
     "output_type": "stream",
     "text": [
      "(9, 1)\n",
      "(9, 1)\n",
      "(9, 1)\n"
     ]
    }
   ],
   "source": [
    "print(seq1.shape)\n",
    "print(seq2.shape)\n",
    "print(out_seq.shape)\n"
   ]
  },
  {
   "cell_type": "code",
   "execution_count": 64,
   "metadata": {},
   "outputs": [],
   "source": [
    "dataset = np.hstack((seq1,seq2,out_seq))"
   ]
  },
  {
   "cell_type": "code",
   "execution_count": 65,
   "metadata": {},
   "outputs": [
    {
     "data": {
      "text/plain": [
       "array([[ 10,  15,  25],\n",
       "       [ 20,  25,  45],\n",
       "       [ 30,  35,  65],\n",
       "       [ 40,  45,  85],\n",
       "       [ 50,  55, 105],\n",
       "       [ 60,  65, 125],\n",
       "       [ 70,  75, 145],\n",
       "       [ 80,  85, 165],\n",
       "       [ 90,  95, 185]])"
      ]
     },
     "execution_count": 65,
     "metadata": {},
     "output_type": "execute_result"
    }
   ],
   "source": [
    "dataset"
   ]
  },
  {
   "cell_type": "code",
   "execution_count": 66,
   "metadata": {},
   "outputs": [
    {
     "data": {
      "text/plain": [
       "(9, 3)"
      ]
     },
     "execution_count": 66,
     "metadata": {},
     "output_type": "execute_result"
    }
   ],
   "source": [
    "dataset.shape"
   ]
  },
  {
   "cell_type": "code",
   "execution_count": 67,
   "metadata": {},
   "outputs": [],
   "source": [
    "# choose a number of time steps\n",
    "n_steps = 3"
   ]
  },
  {
   "cell_type": "code",
   "execution_count": 68,
   "metadata": {},
   "outputs": [],
   "source": [
    "X,Y = split_sequence(dataset,n_steps)"
   ]
  },
  {
   "cell_type": "code",
   "execution_count": 69,
   "metadata": {},
   "outputs": [
    {
     "data": {
      "text/plain": [
       "array([[[10, 15],\n",
       "        [20, 25],\n",
       "        [30, 35]],\n",
       "\n",
       "       [[20, 25],\n",
       "        [30, 35],\n",
       "        [40, 45]],\n",
       "\n",
       "       [[30, 35],\n",
       "        [40, 45],\n",
       "        [50, 55]],\n",
       "\n",
       "       [[40, 45],\n",
       "        [50, 55],\n",
       "        [60, 65]],\n",
       "\n",
       "       [[50, 55],\n",
       "        [60, 65],\n",
       "        [70, 75]],\n",
       "\n",
       "       [[60, 65],\n",
       "        [70, 75],\n",
       "        [80, 85]],\n",
       "\n",
       "       [[70, 75],\n",
       "        [80, 85],\n",
       "        [90, 95]]])"
      ]
     },
     "execution_count": 69,
     "metadata": {},
     "output_type": "execute_result"
    }
   ],
   "source": [
    "X"
   ]
  },
  {
   "cell_type": "code",
   "execution_count": 70,
   "metadata": {},
   "outputs": [
    {
     "data": {
      "text/plain": [
       "array([ 65,  85, 105, 125, 145, 165, 185])"
      ]
     },
     "execution_count": 70,
     "metadata": {},
     "output_type": "execute_result"
    }
   ],
   "source": [
    "Y"
   ]
  },
  {
   "cell_type": "code",
   "execution_count": 73,
   "metadata": {},
   "outputs": [
    {
     "data": {
      "text/plain": [
       "(7, 3, 2)"
      ]
     },
     "execution_count": 73,
     "metadata": {},
     "output_type": "execute_result"
    }
   ],
   "source": [
    "X.shape"
   ]
  },
  {
   "cell_type": "markdown",
   "metadata": {},
   "source": [
    "The first dimension is the number of samples, in this case 7. \n",
    "\n",
    "The second dimension is the number of time steps per sample, in this case 3, the value specified to the function.\n",
    "\n",
    "Finally, the last dimension specifies the number of parallel time series or the number of variables,\n",
    "\n",
    "in this case 2 for the two parallel series"
   ]
  },
  {
   "cell_type": "code",
   "execution_count": 75,
   "metadata": {},
   "outputs": [
    {
     "data": {
      "text/plain": [
       "(7,)"
      ]
     },
     "execution_count": 75,
     "metadata": {},
     "output_type": "execute_result"
    }
   ],
   "source": [
    "Y.shape"
   ]
  },
  {
   "cell_type": "code",
   "execution_count": 77,
   "metadata": {},
   "outputs": [
    {
     "name": "stdout",
     "output_type": "stream",
     "text": [
      "[[10 15]\n",
      " [20 25]\n",
      " [30 35]] 65\n",
      "[[20 25]\n",
      " [30 35]\n",
      " [40 45]] 85\n",
      "[[30 35]\n",
      " [40 45]\n",
      " [50 55]] 105\n",
      "[[40 45]\n",
      " [50 55]\n",
      " [60 65]] 125\n",
      "[[50 55]\n",
      " [60 65]\n",
      " [70 75]] 145\n",
      "[[60 65]\n",
      " [70 75]\n",
      " [80 85]] 165\n",
      "[[70 75]\n",
      " [80 85]\n",
      " [90 95]] 185\n"
     ]
    }
   ],
   "source": [
    "for i in range(len(X)):\n",
    "    print(X[i], Y[i])"
   ]
  },
  {
   "cell_type": "markdown",
   "metadata": {},
   "source": [
    "# Model Building"
   ]
  },
  {
   "cell_type": "code",
   "execution_count": 79,
   "metadata": {},
   "outputs": [],
   "source": [
    "from keras.models import Sequential\n",
    "from keras.layers import LSTM\n",
    "from keras.layers import Dense"
   ]
  },
  {
   "cell_type": "code",
   "execution_count": 80,
   "metadata": {},
   "outputs": [],
   "source": [
    "# the dataset knows the number of features, e.g. 2\n",
    "n_features = X.shape[2]"
   ]
  },
  {
   "cell_type": "code",
   "execution_count": 82,
   "metadata": {},
   "outputs": [],
   "source": [
    "model = Sequential()\n",
    "model.add(LSTM(50,activation = 'relu',input_shape = (n_steps,n_features)))\n",
    "model.add(Dense(1))\n",
    "model.compile(optimizer = 'adam',loss = 'mean_squared_error')"
   ]
  },
  {
   "cell_type": "code",
   "execution_count": 83,
   "metadata": {},
   "outputs": [
    {
     "name": "stdout",
     "output_type": "stream",
     "text": [
      "Model: \"sequential_2\"\n",
      "_________________________________________________________________\n",
      "Layer (type)                 Output Shape              Param #   \n",
      "=================================================================\n",
      "lstm_2 (LSTM)                (None, 50)                10600     \n",
      "_________________________________________________________________\n",
      "dense_2 (Dense)              (None, 1)                 51        \n",
      "=================================================================\n",
      "Total params: 10,651\n",
      "Trainable params: 10,651\n",
      "Non-trainable params: 0\n",
      "_________________________________________________________________\n"
     ]
    }
   ],
   "source": [
    "model.summary()"
   ]
  },
  {
   "cell_type": "code",
   "execution_count": 85,
   "metadata": {},
   "outputs": [
    {
     "name": "stdout",
     "output_type": "stream",
     "text": [
      "Epoch 1/200\n",
      " - 0s - loss: 0.0557\n",
      "Epoch 2/200\n",
      " - 0s - loss: 0.0548\n",
      "Epoch 3/200\n",
      " - 0s - loss: 0.0539\n",
      "Epoch 4/200\n",
      " - 0s - loss: 0.0531\n",
      "Epoch 5/200\n",
      " - 0s - loss: 0.0524\n",
      "Epoch 6/200\n",
      " - 0s - loss: 0.0517\n",
      "Epoch 7/200\n",
      " - 0s - loss: 0.0510\n",
      "Epoch 8/200\n",
      " - 0s - loss: 0.0504\n",
      "Epoch 9/200\n",
      " - 0s - loss: 0.0499\n",
      "Epoch 10/200\n",
      " - 0s - loss: 0.0493\n",
      "Epoch 11/200\n",
      " - 0s - loss: 0.0488\n",
      "Epoch 12/200\n",
      " - 0s - loss: 0.0483\n",
      "Epoch 13/200\n",
      " - 0s - loss: 0.0478\n",
      "Epoch 14/200\n",
      " - 0s - loss: 0.0474\n",
      "Epoch 15/200\n",
      " - 0s - loss: 0.0469\n",
      "Epoch 16/200\n",
      " - 0s - loss: 0.0465\n",
      "Epoch 17/200\n",
      " - 0s - loss: 0.0460\n",
      "Epoch 18/200\n",
      " - 0s - loss: 0.0456\n",
      "Epoch 19/200\n",
      " - 0s - loss: 0.0451\n",
      "Epoch 20/200\n",
      " - 0s - loss: 0.0446\n",
      "Epoch 21/200\n",
      " - 0s - loss: 0.0442\n",
      "Epoch 22/200\n",
      " - 0s - loss: 0.0437\n",
      "Epoch 23/200\n",
      " - 0s - loss: 0.0433\n",
      "Epoch 24/200\n",
      " - 0s - loss: 0.0428\n",
      "Epoch 25/200\n",
      " - 0s - loss: 0.0423\n",
      "Epoch 26/200\n",
      " - 0s - loss: 0.0419\n",
      "Epoch 27/200\n",
      " - 0s - loss: 0.0414\n",
      "Epoch 28/200\n",
      " - 0s - loss: 0.0409\n",
      "Epoch 29/200\n",
      " - 0s - loss: 0.0405\n",
      "Epoch 30/200\n",
      " - 0s - loss: 0.0401\n",
      "Epoch 31/200\n",
      " - 0s - loss: 0.0397\n",
      "Epoch 32/200\n",
      " - 0s - loss: 0.0393\n",
      "Epoch 33/200\n",
      " - 0s - loss: 0.0389\n",
      "Epoch 34/200\n",
      " - 0s - loss: 0.0384\n",
      "Epoch 35/200\n",
      " - 0s - loss: 0.0380\n",
      "Epoch 36/200\n",
      " - 0s - loss: 0.0376\n",
      "Epoch 37/200\n",
      " - 0s - loss: 0.0372\n",
      "Epoch 38/200\n",
      " - 0s - loss: 0.0368\n",
      "Epoch 39/200\n",
      " - 0s - loss: 0.0364\n",
      "Epoch 40/200\n",
      " - 0s - loss: 0.0360\n",
      "Epoch 41/200\n",
      " - 0s - loss: 0.0356\n",
      "Epoch 42/200\n",
      " - 0s - loss: 0.0352\n",
      "Epoch 43/200\n",
      " - 0s - loss: 0.0349\n",
      "Epoch 44/200\n",
      " - 0s - loss: 0.0345\n",
      "Epoch 45/200\n",
      " - 0s - loss: 0.0341\n",
      "Epoch 46/200\n",
      " - 0s - loss: 0.0337\n",
      "Epoch 47/200\n",
      " - 0s - loss: 0.0334\n",
      "Epoch 48/200\n",
      " - 0s - loss: 0.0330\n",
      "Epoch 49/200\n",
      " - 0s - loss: 0.0326\n",
      "Epoch 50/200\n",
      " - 0s - loss: 0.0323\n",
      "Epoch 51/200\n",
      " - 0s - loss: 0.0319\n",
      "Epoch 52/200\n",
      " - 0s - loss: 0.0316\n",
      "Epoch 53/200\n",
      " - 0s - loss: 0.0312\n",
      "Epoch 54/200\n",
      " - 0s - loss: 0.0309\n",
      "Epoch 55/200\n",
      " - 0s - loss: 0.0306\n",
      "Epoch 56/200\n",
      " - 0s - loss: 0.0307\n",
      "Epoch 57/200\n",
      " - 0s - loss: 0.0304\n",
      "Epoch 58/200\n",
      " - 0s - loss: 0.0298\n",
      "Epoch 59/200\n",
      " - 0s - loss: 0.0298\n",
      "Epoch 60/200\n",
      " - 0s - loss: 0.0293\n",
      "Epoch 61/200\n",
      " - 0s - loss: 0.0287\n",
      "Epoch 62/200\n",
      " - 0s - loss: 0.0285\n",
      "Epoch 63/200\n",
      " - 0s - loss: 0.0281\n",
      "Epoch 64/200\n",
      " - 0s - loss: 0.0277\n",
      "Epoch 65/200\n",
      " - 0s - loss: 0.0277\n",
      "Epoch 66/200\n",
      " - 0s - loss: 0.0272\n",
      "Epoch 67/200\n",
      " - 0s - loss: 0.0269\n",
      "Epoch 68/200\n",
      " - 0s - loss: 0.0267\n",
      "Epoch 69/200\n",
      " - 0s - loss: 0.0262\n",
      "Epoch 70/200\n",
      " - 0s - loss: 0.0259\n",
      "Epoch 71/200\n",
      " - 0s - loss: 0.0257\n",
      "Epoch 72/200\n",
      " - 0s - loss: 0.0253\n",
      "Epoch 73/200\n",
      " - 0s - loss: 0.0251\n",
      "Epoch 74/200\n",
      " - 0s - loss: 0.0248\n",
      "Epoch 75/200\n",
      " - 0s - loss: 0.0244\n",
      "Epoch 76/200\n",
      " - 0s - loss: 0.0242\n",
      "Epoch 77/200\n",
      " - 0s - loss: 0.0239\n",
      "Epoch 78/200\n",
      " - 0s - loss: 0.0236\n",
      "Epoch 79/200\n",
      " - 0s - loss: 0.0234\n",
      "Epoch 80/200\n",
      " - 0s - loss: 0.0231\n",
      "Epoch 81/200\n",
      " - 0s - loss: 0.0228\n",
      "Epoch 82/200\n",
      " - 0s - loss: 0.0226\n",
      "Epoch 83/200\n",
      " - 0s - loss: 0.0223\n",
      "Epoch 84/200\n",
      " - 0s - loss: 0.0220\n",
      "Epoch 85/200\n",
      " - 0s - loss: 0.0218\n",
      "Epoch 86/200\n",
      " - 0s - loss: 0.0216\n",
      "Epoch 87/200\n",
      " - 0s - loss: 0.0215\n",
      "Epoch 88/200\n",
      " - 0s - loss: 0.0214\n",
      "Epoch 89/200\n",
      " - 0s - loss: 0.0212\n",
      "Epoch 90/200\n",
      " - 0s - loss: 0.0212\n",
      "Epoch 91/200\n",
      " - 0s - loss: 0.0211\n",
      "Epoch 92/200\n",
      " - 0s - loss: 0.0210\n",
      "Epoch 93/200\n",
      " - 0s - loss: 0.0209\n",
      "Epoch 94/200\n",
      " - 0s - loss: 0.0207\n",
      "Epoch 95/200\n",
      " - 0s - loss: 0.0206\n",
      "Epoch 96/200\n",
      " - 0s - loss: 0.0205\n",
      "Epoch 97/200\n",
      " - 0s - loss: 0.0204\n",
      "Epoch 98/200\n",
      " - 0s - loss: 0.0203\n",
      "Epoch 99/200\n",
      " - 0s - loss: 0.0202\n",
      "Epoch 100/200\n",
      " - 0s - loss: 0.0201\n",
      "Epoch 101/200\n",
      " - 0s - loss: 0.0202\n",
      "Epoch 102/200\n",
      " - 0s - loss: 0.0206\n",
      "Epoch 103/200\n",
      " - 0s - loss: 0.0203\n",
      "Epoch 104/200\n",
      " - 0s - loss: 0.0201\n",
      "Epoch 105/200\n",
      " - 0s - loss: 0.0203\n",
      "Epoch 106/200\n",
      " - 0s - loss: 0.0197\n",
      "Epoch 107/200\n",
      " - 0s - loss: 0.0196\n",
      "Epoch 108/200\n",
      " - 0s - loss: 0.0197\n",
      "Epoch 109/200\n",
      " - 0s - loss: 0.0196\n",
      "Epoch 110/200\n",
      " - 0s - loss: 0.0192\n",
      "Epoch 111/200\n",
      " - 0s - loss: 0.0191\n",
      "Epoch 112/200\n",
      " - 0s - loss: 0.0191\n",
      "Epoch 113/200\n",
      " - 0s - loss: 0.0190\n",
      "Epoch 114/200\n",
      " - 0s - loss: 0.0189\n",
      "Epoch 115/200\n",
      " - 0s - loss: 0.0188\n",
      "Epoch 116/200\n",
      " - 0s - loss: 0.0187\n",
      "Epoch 117/200\n",
      " - 0s - loss: 0.0186\n",
      "Epoch 118/200\n",
      " - 0s - loss: 0.0185\n",
      "Epoch 119/200\n",
      " - 0s - loss: 0.0184\n",
      "Epoch 120/200\n",
      " - 0s - loss: 0.0183\n",
      "Epoch 121/200\n",
      " - 0s - loss: 0.0182\n",
      "Epoch 122/200\n",
      " - 0s - loss: 0.0181\n",
      "Epoch 123/200\n",
      " - 0s - loss: 0.0180\n",
      "Epoch 124/200\n",
      " - 0s - loss: 0.0179\n",
      "Epoch 125/200\n",
      " - 0s - loss: 0.0178\n",
      "Epoch 126/200\n",
      " - 0s - loss: 0.0177\n",
      "Epoch 127/200\n",
      " - 0s - loss: 0.0176\n",
      "Epoch 128/200\n",
      " - 0s - loss: 0.0175\n",
      "Epoch 129/200\n",
      " - 0s - loss: 0.0174\n",
      "Epoch 130/200\n",
      " - 0s - loss: 0.0173\n",
      "Epoch 131/200\n",
      " - 0s - loss: 0.0172\n",
      "Epoch 132/200\n",
      " - 0s - loss: 0.0171\n",
      "Epoch 133/200\n",
      " - 0s - loss: 0.0170\n",
      "Epoch 134/200\n",
      " - 0s - loss: 0.0170\n",
      "Epoch 135/200\n",
      " - 0s - loss: 0.0173\n",
      "Epoch 136/200\n",
      " - 0s - loss: 0.0172\n",
      "Epoch 137/200\n",
      " - 0s - loss: 0.0170\n",
      "Epoch 138/200\n",
      " - 0s - loss: 0.0172\n",
      "Epoch 139/200\n",
      " - 0s - loss: 0.0167\n",
      "Epoch 140/200\n",
      " - 0s - loss: 0.0166\n",
      "Epoch 141/200\n",
      " - 0s - loss: 0.0166\n",
      "Epoch 142/200\n",
      " - 0s - loss: 0.0164\n",
      "Epoch 143/200\n",
      " - 0s - loss: 0.0169\n",
      "Epoch 144/200\n",
      " - 0s - loss: 0.0162\n",
      "Epoch 145/200\n",
      " - 0s - loss: 0.0164\n",
      "Epoch 146/200\n",
      " - 0s - loss: 0.0161\n",
      "Epoch 147/200\n",
      " - 0s - loss: 0.0163\n",
      "Epoch 148/200\n",
      " - 0s - loss: 0.0161\n",
      "Epoch 149/200\n",
      " - 0s - loss: 0.0158\n",
      "Epoch 150/200\n",
      " - 0s - loss: 0.0158\n",
      "Epoch 151/200\n",
      " - 0s - loss: 0.0156\n",
      "Epoch 152/200\n",
      " - 0s - loss: 0.0157\n",
      "Epoch 153/200\n",
      " - 0s - loss: 0.0156\n",
      "Epoch 154/200\n",
      " - 0s - loss: 0.0154\n",
      "Epoch 155/200\n",
      " - 0s - loss: 0.0154\n",
      "Epoch 156/200\n",
      " - 0s - loss: 0.0152\n",
      "Epoch 157/200\n",
      " - 0s - loss: 0.0152\n",
      "Epoch 158/200\n",
      " - 0s - loss: 0.0151\n",
      "Epoch 159/200\n",
      " - 0s - loss: 0.0150\n",
      "Epoch 160/200\n",
      " - 0s - loss: 0.0150\n",
      "Epoch 161/200\n",
      " - 0s - loss: 0.0148\n",
      "Epoch 162/200\n",
      " - 0s - loss: 0.0147\n",
      "Epoch 163/200\n",
      " - 0s - loss: 0.0147\n",
      "Epoch 164/200\n",
      " - 0s - loss: 0.0146\n",
      "Epoch 165/200\n",
      " - 0s - loss: 0.0145\n",
      "Epoch 166/200\n",
      " - 0s - loss: 0.0144\n",
      "Epoch 167/200\n",
      " - 0s - loss: 0.0143\n",
      "Epoch 168/200\n",
      " - 0s - loss: 0.0142\n",
      "Epoch 169/200\n",
      " - 0s - loss: 0.0141\n",
      "Epoch 170/200\n",
      " - 0s - loss: 0.0141\n",
      "Epoch 171/200\n",
      " - 0s - loss: 0.0142\n",
      "Epoch 172/200\n",
      " - 0s - loss: 0.0143\n",
      "Epoch 173/200\n",
      " - 0s - loss: 0.0141\n",
      "Epoch 174/200\n",
      " - 0s - loss: 0.0141\n",
      "Epoch 175/200\n",
      " - 0s - loss: 0.0140\n",
      "Epoch 176/200\n",
      " - 0s - loss: 0.0137\n",
      "Epoch 177/200\n",
      " - 0s - loss: 0.0137\n",
      "Epoch 178/200\n",
      " - 0s - loss: 0.0136\n",
      "Epoch 179/200\n",
      " - 0s - loss: 0.0140\n",
      "Epoch 180/200\n",
      " - 0s - loss: 0.0134\n",
      "Epoch 181/200\n",
      " - 0s - loss: 0.0134\n",
      "Epoch 182/200\n",
      " - 0s - loss: 0.0134\n",
      "Epoch 183/200\n",
      " - 0s - loss: 0.0135\n",
      "Epoch 184/200\n",
      " - 0s - loss: 0.0132\n",
      "Epoch 185/200\n",
      " - 0s - loss: 0.0131\n",
      "Epoch 186/200\n",
      " - 0s - loss: 0.0130\n",
      "Epoch 187/200\n",
      " - 0s - loss: 0.0130\n",
      "Epoch 188/200\n",
      " - 0s - loss: 0.0130\n",
      "Epoch 189/200\n",
      " - 0s - loss: 0.0129\n",
      "Epoch 190/200\n",
      " - 0s - loss: 0.0128\n",
      "Epoch 191/200\n",
      " - 0s - loss: 0.0126\n",
      "Epoch 192/200\n",
      " - 0s - loss: 0.0126\n",
      "Epoch 193/200\n",
      " - 0s - loss: 0.0126\n",
      "Epoch 194/200\n",
      " - 0s - loss: 0.0125\n",
      "Epoch 195/200\n",
      " - 0s - loss: 0.0124\n",
      "Epoch 196/200\n",
      " - 0s - loss: 0.0123\n",
      "Epoch 197/200\n",
      " - 0s - loss: 0.0122\n",
      "Epoch 198/200\n",
      " - 0s - loss: 0.0122\n",
      "Epoch 199/200\n",
      " - 0s - loss: 0.0121\n",
      "Epoch 200/200\n",
      " - 0s - loss: 0.0121\n"
     ]
    },
    {
     "data": {
      "text/plain": [
       "<keras.callbacks.History at 0x20eb043a3c8>"
      ]
     },
     "execution_count": 85,
     "metadata": {},
     "output_type": "execute_result"
    }
   ],
   "source": [
    "model.fit(X,Y,epochs = 200,verbose = 2)"
   ]
  },
  {
   "cell_type": "code",
   "execution_count": 87,
   "metadata": {},
   "outputs": [],
   "source": [
    "x_input = np.array([[80,85],[90,95],[100,105]])"
   ]
  },
  {
   "cell_type": "markdown",
   "metadata": {},
   "source": [
    "The shape of the one sample with three time steps and two variables must be [1, 3, 2]."
   ]
  },
  {
   "cell_type": "code",
   "execution_count": 89,
   "metadata": {},
   "outputs": [],
   "source": [
    "x_input = x_input.reshape((1,n_steps,n_features))"
   ]
  },
  {
   "cell_type": "code",
   "execution_count": 90,
   "metadata": {},
   "outputs": [
    {
     "data": {
      "text/plain": [
       "(1, 3, 2)"
      ]
     },
     "execution_count": 90,
     "metadata": {},
     "output_type": "execute_result"
    }
   ],
   "source": [
    "x_input.shape"
   ]
  },
  {
   "cell_type": "markdown",
   "metadata": {},
   "source": [
    "When making a prediction, the model expects three time steps for two input time series."
   ]
  },
  {
   "cell_type": "code",
   "execution_count": 91,
   "metadata": {},
   "outputs": [
    {
     "data": {
      "text/plain": [
       "array([[207.29121]], dtype=float32)"
      ]
     },
     "execution_count": 91,
     "metadata": {},
     "output_type": "execute_result"
    }
   ],
   "source": [
    "model.predict(x_input)"
   ]
  },
  {
   "cell_type": "code",
   "execution_count": null,
   "metadata": {},
   "outputs": [],
   "source": []
  }
 ],
 "metadata": {
  "kernelspec": {
   "display_name": "Python 3",
   "language": "python",
   "name": "python3"
  },
  "language_info": {
   "codemirror_mode": {
    "name": "ipython",
    "version": 3
   },
   "file_extension": ".py",
   "mimetype": "text/x-python",
   "name": "python",
   "nbconvert_exporter": "python",
   "pygments_lexer": "ipython3",
   "version": "3.7.6"
  }
 },
 "nbformat": 4,
 "nbformat_minor": 4
}
