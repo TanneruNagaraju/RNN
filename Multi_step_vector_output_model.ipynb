{
 "cells": [
  {
   "cell_type": "code",
   "execution_count": 1,
   "metadata": {},
   "outputs": [],
   "source": [
    "import numpy as np"
   ]
  },
  {
   "cell_type": "code",
   "execution_count": 2,
   "metadata": {},
   "outputs": [],
   "source": [
    "def split_sequences(sequences,n_steps_in,n_steps_out):\n",
    "    X = list()\n",
    "    Y = list()\n",
    "    for i in range(len(sequences)):\n",
    "        # find the end of this pattern\n",
    "        end_ix = i + n_steps_in #(0+3,1+3,2+3,4+3,5+3)\n",
    "        out_end_ix = end_ix + n_steps_out #(3+2,4+2,5+2,6+2,7+2)\n",
    "        # check if we are beyond the dataset\n",
    "        if out_end_ix > len(sequences):\n",
    "            break\n",
    "        # gather input and output parts of the pattern\n",
    "        seq_x = sequences[i:end_ix]\n",
    "        seq_y = sequences[end_ix:out_end_ix]\n",
    "        X.append(seq_x)\n",
    "        Y.append(seq_y)\n",
    "    return np.array(X),np.array(Y)"
   ]
  },
  {
   "cell_type": "code",
   "execution_count": 3,
   "metadata": {},
   "outputs": [],
   "source": [
    "# define input sequence\n",
    "sequence = [10,20,30,40,50,60,70,80,90]"
   ]
  },
  {
   "cell_type": "code",
   "execution_count": 4,
   "metadata": {},
   "outputs": [],
   "source": [
    "n_steps = 3\n",
    "n_steps_out = 2"
   ]
  },
  {
   "cell_type": "code",
   "execution_count": 6,
   "metadata": {},
   "outputs": [],
   "source": [
    "X,Y = split_sequences(sequence,n_steps,n_steps_out)"
   ]
  },
  {
   "cell_type": "code",
   "execution_count": 7,
   "metadata": {},
   "outputs": [
    {
     "data": {
      "text/plain": [
       "array([[10, 20, 30],\n",
       "       [20, 30, 40],\n",
       "       [30, 40, 50],\n",
       "       [40, 50, 60],\n",
       "       [50, 60, 70]])"
      ]
     },
     "execution_count": 7,
     "metadata": {},
     "output_type": "execute_result"
    }
   ],
   "source": [
    "X"
   ]
  },
  {
   "cell_type": "code",
   "execution_count": 8,
   "metadata": {},
   "outputs": [
    {
     "data": {
      "text/plain": [
       "(5, 3)"
      ]
     },
     "execution_count": 8,
     "metadata": {},
     "output_type": "execute_result"
    }
   ],
   "source": [
    "X.shape"
   ]
  },
  {
   "cell_type": "code",
   "execution_count": 9,
   "metadata": {},
   "outputs": [
    {
     "data": {
      "text/plain": [
       "array([[40, 50],\n",
       "       [50, 60],\n",
       "       [60, 70],\n",
       "       [70, 80],\n",
       "       [80, 90]])"
      ]
     },
     "execution_count": 9,
     "metadata": {},
     "output_type": "execute_result"
    }
   ],
   "source": [
    "Y"
   ]
  },
  {
   "cell_type": "code",
   "execution_count": 10,
   "metadata": {},
   "outputs": [
    {
     "data": {
      "text/plain": [
       "(5, 2)"
      ]
     },
     "execution_count": 10,
     "metadata": {},
     "output_type": "execute_result"
    }
   ],
   "source": [
    "Y.shape"
   ]
  },
  {
   "cell_type": "code",
   "execution_count": 11,
   "metadata": {},
   "outputs": [],
   "source": [
    "n_features = 1"
   ]
  },
  {
   "cell_type": "markdown",
   "metadata": {},
   "source": [
    "The LSTM expects data to have a three-dimensional structure of [samples, timesteps, features], and in this case,\n",
    "\n",
    "we only have one feature so the reshape is straightforward."
   ]
  },
  {
   "cell_type": "code",
   "execution_count": 12,
   "metadata": {},
   "outputs": [],
   "source": [
    "# reshape from [samples, timesteps] into [samples, timesteps, features]\n",
    "X = X.reshape((X.shape[0],X.shape[1],n_features))"
   ]
  },
  {
   "cell_type": "code",
   "execution_count": 13,
   "metadata": {},
   "outputs": [
    {
     "data": {
      "text/plain": [
       "(5, 3, 1)"
      ]
     },
     "execution_count": 13,
     "metadata": {},
     "output_type": "execute_result"
    }
   ],
   "source": [
    "X.shape"
   ]
  },
  {
   "cell_type": "markdown",
   "metadata": {},
   "source": [
    "# Model Building"
   ]
  },
  {
   "cell_type": "code",
   "execution_count": 15,
   "metadata": {},
   "outputs": [],
   "source": [
    "from keras.models import Sequential\n",
    "from keras.layers import Dense\n",
    "from keras.layers import LSTM"
   ]
  },
  {
   "cell_type": "code",
   "execution_count": 45,
   "metadata": {},
   "outputs": [],
   "source": [
    "model = Sequential()\n",
    "model.add(LSTM(50,activation = 'relu',return_sequences = True,input_shape = (n_steps,n_features)))\n",
    "model.add(LSTM(50,activation = 'relu'))\n",
    "model.add(Dense(n_steps_out))\n",
    "model.compile(optimizer = 'adam',loss = 'mse')"
   ]
  },
  {
   "cell_type": "code",
   "execution_count": 46,
   "metadata": {},
   "outputs": [
    {
     "name": "stdout",
     "output_type": "stream",
     "text": [
      "Model: \"sequential_6\"\n",
      "_________________________________________________________________\n",
      "Layer (type)                 Output Shape              Param #   \n",
      "=================================================================\n",
      "lstm_11 (LSTM)               (None, 3, 50)             10400     \n",
      "_________________________________________________________________\n",
      "lstm_12 (LSTM)               (None, 50)                20200     \n",
      "_________________________________________________________________\n",
      "dense_6 (Dense)              (None, 2)                 102       \n",
      "=================================================================\n",
      "Total params: 30,702\n",
      "Trainable params: 30,702\n",
      "Non-trainable params: 0\n",
      "_________________________________________________________________\n"
     ]
    }
   ],
   "source": [
    "model.summary()"
   ]
  },
  {
   "cell_type": "code",
   "execution_count": 47,
   "metadata": {},
   "outputs": [
    {
     "name": "stdout",
     "output_type": "stream",
     "text": [
      "Epoch 1/200\n",
      "5/5 [==============================] - 1s 295ms/step - loss: 4446.5117\n",
      "Epoch 2/200\n",
      "5/5 [==============================] - 0s 991us/step - loss: 4439.9551\n",
      "Epoch 3/200\n",
      "5/5 [==============================] - 0s 1ms/step - loss: 4433.7354\n",
      "Epoch 4/200\n",
      "5/5 [==============================] - 0s 1ms/step - loss: 4427.6245\n",
      "Epoch 5/200\n",
      "5/5 [==============================] - 0s 1ms/step - loss: 4421.4126\n",
      "Epoch 6/200\n",
      "5/5 [==============================] - 0s 1ms/step - loss: 4415.0283\n",
      "Epoch 7/200\n",
      "5/5 [==============================] - 0s 1ms/step - loss: 4408.4370\n",
      "Epoch 8/200\n",
      "5/5 [==============================] - 0s 999us/step - loss: 4401.4316\n",
      "Epoch 9/200\n",
      "5/5 [==============================] - 0s 2ms/step - loss: 4393.6543\n",
      "Epoch 10/200\n",
      "5/5 [==============================] - 0s 1ms/step - loss: 4385.2930\n",
      "Epoch 11/200\n",
      "5/5 [==============================] - 0s 2ms/step - loss: 4375.8901\n",
      "Epoch 12/200\n",
      "5/5 [==============================] - 0s 1ms/step - loss: 4365.4766\n",
      "Epoch 13/200\n",
      "5/5 [==============================] - 0s 2ms/step - loss: 4353.7637\n",
      "Epoch 14/200\n",
      "5/5 [==============================] - 0s 998us/step - loss: 4340.6758\n",
      "Epoch 15/200\n",
      "5/5 [==============================] - 0s 1ms/step - loss: 4325.7808\n",
      "Epoch 16/200\n",
      "5/5 [==============================] - 0s 1ms/step - loss: 4308.9341\n",
      "Epoch 17/200\n",
      "5/5 [==============================] - 0s 997us/step - loss: 4289.5400\n",
      "Epoch 18/200\n",
      "5/5 [==============================] - 0s 1ms/step - loss: 4266.8296\n",
      "Epoch 19/200\n",
      "5/5 [==============================] - 0s 997us/step - loss: 4240.3984\n",
      "Epoch 20/200\n",
      "5/5 [==============================] - 0s 1ms/step - loss: 4210.2100\n",
      "Epoch 21/200\n",
      "5/5 [==============================] - 0s 1ms/step - loss: 4175.0498\n",
      "Epoch 22/200\n",
      "5/5 [==============================] - 0s 998us/step - loss: 4133.6348\n",
      "Epoch 23/200\n",
      "5/5 [==============================] - 0s 2ms/step - loss: 4085.0493\n",
      "Epoch 24/200\n",
      "5/5 [==============================] - 0s 996us/step - loss: 4026.8032\n",
      "Epoch 25/200\n",
      "5/5 [==============================] - 0s 2ms/step - loss: 3957.2415\n",
      "Epoch 26/200\n",
      "5/5 [==============================] - 0s 997us/step - loss: 3871.8120\n",
      "Epoch 27/200\n",
      "5/5 [==============================] - 0s 2ms/step - loss: 3769.9927\n",
      "Epoch 28/200\n",
      "5/5 [==============================] - 0s 997us/step - loss: 3649.2214\n",
      "Epoch 29/200\n",
      "5/5 [==============================] - 0s 997us/step - loss: 3507.7476\n",
      "Epoch 30/200\n",
      "5/5 [==============================] - 0s 996us/step - loss: 3347.8621\n",
      "Epoch 31/200\n",
      "5/5 [==============================] - 0s 1ms/step - loss: 3164.2351\n",
      "Epoch 32/200\n",
      "5/5 [==============================] - 0s 2ms/step - loss: 2950.7065\n",
      "Epoch 33/200\n",
      "5/5 [==============================] - 0s 1ms/step - loss: 2709.4407\n",
      "Epoch 34/200\n",
      "5/5 [==============================] - 0s 2ms/step - loss: 2448.4187\n",
      "Epoch 35/200\n",
      "5/5 [==============================] - 0s 1ms/step - loss: 2165.6382\n",
      "Epoch 36/200\n",
      "5/5 [==============================] - 0s 2ms/step - loss: 1861.1433\n",
      "Epoch 37/200\n",
      "5/5 [==============================] - 0s 998us/step - loss: 1533.2528\n",
      "Epoch 38/200\n",
      "5/5 [==============================] - 0s 1ms/step - loss: 1196.3953\n",
      "Epoch 39/200\n",
      "5/5 [==============================] - 0s 997us/step - loss: 861.9276\n",
      "Epoch 40/200\n",
      "5/5 [==============================] - 0s 2ms/step - loss: 551.7892\n",
      "Epoch 41/200\n",
      "5/5 [==============================] - 0s 997us/step - loss: 303.3776\n",
      "Epoch 42/200\n",
      "5/5 [==============================] - 0s 2ms/step - loss: 164.7110\n",
      "Epoch 43/200\n",
      "5/5 [==============================] - 0s 798us/step - loss: 177.6432\n",
      "Epoch 44/200\n",
      "5/5 [==============================] - 0s 1ms/step - loss: 321.7840\n",
      "Epoch 45/200\n",
      "5/5 [==============================] - 0s 997us/step - loss: 489.6559\n",
      "Epoch 46/200\n",
      "5/5 [==============================] - 0s 2ms/step - loss: 574.4769\n",
      "Epoch 47/200\n",
      "5/5 [==============================] - 0s 997us/step - loss: 554.1562\n",
      "Epoch 48/200\n",
      "5/5 [==============================] - 0s 1ms/step - loss: 465.2708\n",
      "Epoch 49/200\n",
      "5/5 [==============================] - 0s 988us/step - loss: 348.3589\n",
      "Epoch 50/200\n",
      "5/5 [==============================] - 0s 1ms/step - loss: 237.9774\n",
      "Epoch 51/200\n",
      "5/5 [==============================] - 0s 996us/step - loss: 151.1056\n",
      "Epoch 52/200\n",
      "5/5 [==============================] - 0s 1ms/step - loss: 94.6066\n",
      "Epoch 53/200\n",
      "5/5 [==============================] - 0s 2ms/step - loss: 64.4765\n",
      "Epoch 54/200\n",
      "5/5 [==============================] - 0s 1ms/step - loss: 53.8490\n",
      "Epoch 55/200\n",
      "5/5 [==============================] - 0s 1ms/step - loss: 55.5586\n",
      "Epoch 56/200\n",
      "5/5 [==============================] - 0s 1ms/step - loss: 62.7917\n",
      "Epoch 57/200\n",
      "5/5 [==============================] - 0s 1ms/step - loss: 70.0894\n",
      "Epoch 58/200\n",
      "5/5 [==============================] - 0s 797us/step - loss: 73.4801\n",
      "Epoch 59/200\n",
      "5/5 [==============================] - 0s 1ms/step - loss: 70.7852\n",
      "Epoch 60/200\n",
      "5/5 [==============================] - 0s 1ms/step - loss: 63.1932\n",
      "Epoch 61/200\n",
      "5/5 [==============================] - 0s 1ms/step - loss: 51.2058\n",
      "Epoch 62/200\n",
      "5/5 [==============================] - 0s 997us/step - loss: 38.9862\n",
      "Epoch 63/200\n",
      "5/5 [==============================] - 0s 997us/step - loss: 30.4152\n",
      "Epoch 64/200\n",
      "5/5 [==============================] - 0s 1ms/step - loss: 29.1609\n",
      "Epoch 65/200\n",
      "5/5 [==============================] - 0s 997us/step - loss: 35.5746\n",
      "Epoch 66/200\n",
      "5/5 [==============================] - 0s 1ms/step - loss: 42.8045\n",
      "Epoch 67/200\n",
      "5/5 [==============================] - 0s 997us/step - loss: 43.4885\n",
      "Epoch 68/200\n",
      "5/5 [==============================] - 0s 798us/step - loss: 37.3465\n",
      "Epoch 69/200\n",
      "5/5 [==============================] - 0s 1ms/step - loss: 28.3834\n",
      "Epoch 70/200\n",
      "5/5 [==============================] - 0s 997us/step - loss: 19.8890\n",
      "Epoch 71/200\n",
      "5/5 [==============================] - 0s 1ms/step - loss: 14.4934\n",
      "Epoch 72/200\n",
      "5/5 [==============================] - 0s 998us/step - loss: 11.6672\n",
      "Epoch 73/200\n",
      "5/5 [==============================] - 0s 1ms/step - loss: 10.8024\n",
      "Epoch 74/200\n",
      "5/5 [==============================] - 0s 998us/step - loss: 10.8004\n",
      "Epoch 75/200\n",
      "5/5 [==============================] - 0s 798us/step - loss: 10.7632\n",
      "Epoch 76/200\n",
      "5/5 [==============================] - 0s 2ms/step - loss: 10.1491\n",
      "Epoch 77/200\n",
      "5/5 [==============================] - 0s 997us/step - loss: 8.7739\n",
      "Epoch 78/200\n",
      "5/5 [==============================] - 0s 1ms/step - loss: 6.9364\n",
      "Epoch 79/200\n",
      "5/5 [==============================] - 0s 997us/step - loss: 5.1832\n",
      "Epoch 80/200\n",
      "5/5 [==============================] - 0s 997us/step - loss: 3.9732\n",
      "Epoch 81/200\n",
      "5/5 [==============================] - 0s 997us/step - loss: 3.5106\n",
      "Epoch 82/200\n",
      "5/5 [==============================] - 0s 1ms/step - loss: 3.6837\n",
      "Epoch 83/200\n",
      "5/5 [==============================] - 0s 1ms/step - loss: 4.1346\n",
      "Epoch 84/200\n",
      "5/5 [==============================] - 0s 998us/step - loss: 4.4195\n",
      "Epoch 85/200\n",
      "5/5 [==============================] - 0s 1ms/step - loss: 4.2830\n",
      "Epoch 86/200\n",
      "5/5 [==============================] - 0s 1ms/step - loss: 3.6476\n",
      "Epoch 87/200\n",
      "5/5 [==============================] - 0s 995us/step - loss: 2.7139\n",
      "Epoch 88/200\n",
      "5/5 [==============================] - 0s 1ms/step - loss: 1.7688\n",
      "Epoch 89/200\n",
      "5/5 [==============================] - 0s 999us/step - loss: 1.0380\n",
      "Epoch 90/200\n",
      "5/5 [==============================] - 0s 1ms/step - loss: 0.6324\n",
      "Epoch 91/200\n",
      "5/5 [==============================] - 0s 998us/step - loss: 0.5409\n",
      "Epoch 92/200\n",
      "5/5 [==============================] - 0s 1ms/step - loss: 0.6132\n",
      "Epoch 93/200\n",
      "5/5 [==============================] - 0s 997us/step - loss: 0.7196\n",
      "Epoch 94/200\n",
      "5/5 [==============================] - 0s 1ms/step - loss: 0.7597\n",
      "Epoch 95/200\n",
      "5/5 [==============================] - 0s 1ms/step - loss: 0.7488\n",
      "Epoch 96/200\n",
      "5/5 [==============================] - 0s 1ms/step - loss: 0.7341\n",
      "Epoch 97/200\n",
      "5/5 [==============================] - 0s 1ms/step - loss: 0.7646\n",
      "Epoch 98/200\n",
      "5/5 [==============================] - 0s 997us/step - loss: 0.8098\n",
      "Epoch 99/200\n",
      "5/5 [==============================] - 0s 997us/step - loss: 0.8260\n",
      "Epoch 100/200\n",
      "5/5 [==============================] - 0s 1ms/step - loss: 0.7623\n",
      "Epoch 101/200\n",
      "5/5 [==============================] - 0s 998us/step - loss: 0.6170\n"
     ]
    },
    {
     "name": "stdout",
     "output_type": "stream",
     "text": [
      "Epoch 102/200\n",
      "5/5 [==============================] - 0s 1ms/step - loss: 0.4492\n",
      "Epoch 103/200\n",
      "5/5 [==============================] - 0s 997us/step - loss: 0.3083\n",
      "Epoch 104/200\n",
      "5/5 [==============================] - 0s 999us/step - loss: 0.2178\n",
      "Epoch 105/200\n",
      "5/5 [==============================] - 0s 997us/step - loss: 0.1824\n",
      "Epoch 106/200\n",
      "5/5 [==============================] - 0s 997us/step - loss: 0.1811\n",
      "Epoch 107/200\n",
      "5/5 [==============================] - 0s 1ms/step - loss: 0.1850\n",
      "Epoch 108/200\n",
      "5/5 [==============================] - 0s 798us/step - loss: 0.1849\n",
      "Epoch 109/200\n",
      "5/5 [==============================] - 0s 1ms/step - loss: 0.1821\n",
      "Epoch 110/200\n",
      "5/5 [==============================] - 0s 997us/step - loss: 0.1820\n",
      "Epoch 111/200\n",
      "5/5 [==============================] - 0s 997us/step - loss: 0.1877\n",
      "Epoch 112/200\n",
      "5/5 [==============================] - 0s 996us/step - loss: 0.1964\n",
      "Epoch 113/200\n",
      "5/5 [==============================] - 0s 997us/step - loss: 0.2059\n",
      "Epoch 114/200\n",
      "5/5 [==============================] - 0s 1ms/step - loss: 0.2020\n",
      "Epoch 115/200\n",
      "5/5 [==============================] - 0s 997us/step - loss: 0.1796\n",
      "Epoch 116/200\n",
      "5/5 [==============================] - 0s 997us/step - loss: 0.1480\n",
      "Epoch 117/200\n",
      "5/5 [==============================] - 0s 1ms/step - loss: 0.1195\n",
      "Epoch 118/200\n",
      "5/5 [==============================] - 0s 997us/step - loss: 0.1015\n",
      "Epoch 119/200\n",
      "5/5 [==============================] - 0s 1ms/step - loss: 0.0900\n",
      "Epoch 120/200\n",
      "5/5 [==============================] - 0s 997us/step - loss: 0.0795\n",
      "Epoch 121/200\n",
      "5/5 [==============================] - 0s 1ms/step - loss: 0.0676\n",
      "Epoch 122/200\n",
      "5/5 [==============================] - 0s 1ms/step - loss: 0.0555\n",
      "Epoch 123/200\n",
      "5/5 [==============================] - 0s 997us/step - loss: 0.0465\n",
      "Epoch 124/200\n",
      "5/5 [==============================] - 0s 1ms/step - loss: 0.0443\n",
      "Epoch 125/200\n",
      "5/5 [==============================] - 0s 1ms/step - loss: 0.0482\n",
      "Epoch 126/200\n",
      "5/5 [==============================] - 0s 1ms/step - loss: 0.0537\n",
      "Epoch 127/200\n",
      "5/5 [==============================] - 0s 1ms/step - loss: 0.0561\n",
      "Epoch 128/200\n",
      "5/5 [==============================] - 0s 798us/step - loss: 0.0540\n",
      "Epoch 129/200\n",
      "5/5 [==============================] - 0s 1ms/step - loss: 0.0495\n",
      "Epoch 130/200\n",
      "5/5 [==============================] - 0s 997us/step - loss: 0.0457\n",
      "Epoch 131/200\n",
      "5/5 [==============================] - 0s 1ms/step - loss: 0.0434\n",
      "Epoch 132/200\n",
      "5/5 [==============================] - 0s 1ms/step - loss: 0.0415\n",
      "Epoch 133/200\n",
      "5/5 [==============================] - 0s 798us/step - loss: 0.0382\n",
      "Epoch 134/200\n",
      "5/5 [==============================] - 0s 1ms/step - loss: 0.0332\n",
      "Epoch 135/200\n",
      "5/5 [==============================] - 0s 1ms/step - loss: 0.0281\n",
      "Epoch 136/200\n",
      "5/5 [==============================] - 0s 1ms/step - loss: 0.0246\n",
      "Epoch 137/200\n",
      "5/5 [==============================] - 0s 1ms/step - loss: 0.0235\n",
      "Epoch 138/200\n",
      "5/5 [==============================] - 0s 997us/step - loss: 0.0240\n",
      "Epoch 139/200\n",
      "5/5 [==============================] - 0s 1ms/step - loss: 0.0246\n",
      "Epoch 140/200\n",
      "5/5 [==============================] - 0s 1ms/step - loss: 0.0246\n",
      "Epoch 141/200\n",
      "5/5 [==============================] - 0s 1ms/step - loss: 0.0242\n",
      "Epoch 142/200\n",
      "5/5 [==============================] - 0s 997us/step - loss: 0.0240\n",
      "Epoch 143/200\n",
      "5/5 [==============================] - 0s 997us/step - loss: 0.0243\n",
      "Epoch 144/200\n",
      "5/5 [==============================] - 0s 1ms/step - loss: 0.0247\n",
      "Epoch 145/200\n",
      "5/5 [==============================] - 0s 997us/step - loss: 0.0246\n",
      "Epoch 146/200\n",
      "5/5 [==============================] - 0s 1ms/step - loss: 0.0235\n",
      "Epoch 147/200\n",
      "5/5 [==============================] - 0s 997us/step - loss: 0.0219\n",
      "Epoch 148/200\n",
      "5/5 [==============================] - 0s 997us/step - loss: 0.0203\n",
      "Epoch 149/200\n",
      "5/5 [==============================] - 0s 1ms/step - loss: 0.0192\n",
      "Epoch 150/200\n",
      "5/5 [==============================] - 0s 997us/step - loss: 0.0184\n",
      "Epoch 151/200\n",
      "5/5 [==============================] - 0s 1ms/step - loss: 0.0178\n",
      "Epoch 152/200\n",
      "5/5 [==============================] - 0s 1ms/step - loss: 0.0170\n",
      "Epoch 153/200\n",
      "5/5 [==============================] - 0s 1ms/step - loss: 0.0162\n",
      "Epoch 154/200\n",
      "5/5 [==============================] - 0s 998us/step - loss: 0.0156\n",
      "Epoch 155/200\n",
      "5/5 [==============================] - 0s 997us/step - loss: 0.0153\n",
      "Epoch 156/200\n",
      "5/5 [==============================] - 0s 1ms/step - loss: 0.0153\n",
      "Epoch 157/200\n",
      "5/5 [==============================] - 0s 997us/step - loss: 0.0151\n",
      "Epoch 158/200\n",
      "5/5 [==============================] - 0s 997us/step - loss: 0.0148\n",
      "Epoch 159/200\n",
      "5/5 [==============================] - 0s 995us/step - loss: 0.0143\n",
      "Epoch 160/200\n",
      "5/5 [==============================] - 0s 1ms/step - loss: 0.0138\n",
      "Epoch 161/200\n",
      "5/5 [==============================] - 0s 1ms/step - loss: 0.0133\n",
      "Epoch 162/200\n",
      "5/5 [==============================] - 0s 1ms/step - loss: 0.0130\n",
      "Epoch 163/200\n",
      "5/5 [==============================] - 0s 997us/step - loss: 0.0125\n",
      "Epoch 164/200\n",
      "5/5 [==============================] - 0s 996us/step - loss: 0.0120\n",
      "Epoch 165/200\n",
      "5/5 [==============================] - 0s 1ms/step - loss: 0.0115\n",
      "Epoch 166/200\n",
      "5/5 [==============================] - 0s 997us/step - loss: 0.0111\n",
      "Epoch 167/200\n",
      "5/5 [==============================] - 0s 1ms/step - loss: 0.0108\n",
      "Epoch 168/200\n",
      "5/5 [==============================] - 0s 997us/step - loss: 0.0106\n",
      "Epoch 169/200\n",
      "5/5 [==============================] - 0s 1ms/step - loss: 0.0104\n",
      "Epoch 170/200\n",
      "5/5 [==============================] - 0s 997us/step - loss: 0.0102\n",
      "Epoch 171/200\n",
      "5/5 [==============================] - 0s 1ms/step - loss: 0.0100\n",
      "Epoch 172/200\n",
      "5/5 [==============================] - 0s 998us/step - loss: 0.0097\n",
      "Epoch 173/200\n",
      "5/5 [==============================] - 0s 997us/step - loss: 0.0095\n",
      "Epoch 174/200\n",
      "5/5 [==============================] - 0s 997us/step - loss: 0.0094\n",
      "Epoch 175/200\n",
      "5/5 [==============================] - 0s 997us/step - loss: 0.0091\n",
      "Epoch 176/200\n",
      "5/5 [==============================] - 0s 1ms/step - loss: 0.0089\n",
      "Epoch 177/200\n",
      "5/5 [==============================] - 0s 1ms/step - loss: 0.0086\n",
      "Epoch 178/200\n",
      "5/5 [==============================] - 0s 998us/step - loss: 0.0084\n",
      "Epoch 179/200\n",
      "5/5 [==============================] - 0s 1ms/step - loss: 0.0082\n",
      "Epoch 180/200\n",
      "5/5 [==============================] - 0s 1ms/step - loss: 0.0080\n",
      "Epoch 181/200\n",
      "5/5 [==============================] - 0s 1ms/step - loss: 0.0078\n",
      "Epoch 182/200\n",
      "5/5 [==============================] - 0s 997us/step - loss: 0.0076\n",
      "Epoch 183/200\n",
      "5/5 [==============================] - 0s 798us/step - loss: 0.0074\n",
      "Epoch 184/200\n",
      "5/5 [==============================] - 0s 997us/step - loss: 0.0073\n",
      "Epoch 185/200\n",
      "5/5 [==============================] - 0s 1ms/step - loss: 0.0071\n",
      "Epoch 186/200\n",
      "5/5 [==============================] - 0s 1ms/step - loss: 0.0070\n",
      "Epoch 187/200\n",
      "5/5 [==============================] - 0s 997us/step - loss: 0.0068\n",
      "Epoch 188/200\n",
      "5/5 [==============================] - 0s 1ms/step - loss: 0.0067\n",
      "Epoch 189/200\n",
      "5/5 [==============================] - 0s 997us/step - loss: 0.0065\n",
      "Epoch 190/200\n",
      "5/5 [==============================] - 0s 997us/step - loss: 0.0064\n",
      "Epoch 191/200\n",
      "5/5 [==============================] - 0s 1ms/step - loss: 0.0062\n",
      "Epoch 192/200\n",
      "5/5 [==============================] - 0s 997us/step - loss: 0.0061\n",
      "Epoch 193/200\n",
      "5/5 [==============================] - 0s 1ms/step - loss: 0.0060\n",
      "Epoch 194/200\n",
      "5/5 [==============================] - 0s 997us/step - loss: 0.0058\n",
      "Epoch 195/200\n",
      "5/5 [==============================] - 0s 997us/step - loss: 0.0057\n",
      "Epoch 196/200\n",
      "5/5 [==============================] - 0s 1ms/step - loss: 0.0056\n",
      "Epoch 197/200\n",
      "5/5 [==============================] - 0s 1ms/step - loss: 0.0055\n",
      "Epoch 198/200\n",
      "5/5 [==============================] - 0s 1ms/step - loss: 0.0054\n",
      "Epoch 199/200\n",
      "5/5 [==============================] - 0s 1ms/step - loss: 0.0052\n",
      "Epoch 200/200\n",
      "5/5 [==============================] - 0s 997us/step - loss: 0.0051\n"
     ]
    },
    {
     "data": {
      "text/plain": [
       "<keras.callbacks.History at 0x1406f35cf08>"
      ]
     },
     "execution_count": 47,
     "metadata": {},
     "output_type": "execute_result"
    }
   ],
   "source": [
    "model.fit(X,Y,epochs = 200)"
   ]
  },
  {
   "cell_type": "code",
   "execution_count": 48,
   "metadata": {},
   "outputs": [],
   "source": [
    "x_input = np.array([70,80,90])"
   ]
  },
  {
   "cell_type": "code",
   "execution_count": 49,
   "metadata": {},
   "outputs": [
    {
     "data": {
      "text/plain": [
       "(3,)"
      ]
     },
     "execution_count": 49,
     "metadata": {},
     "output_type": "execute_result"
    }
   ],
   "source": [
    "x_input.shape"
   ]
  },
  {
   "cell_type": "code",
   "execution_count": 50,
   "metadata": {},
   "outputs": [],
   "source": [
    "x_input = x_input.reshape((1,n_steps,n_features))\n"
   ]
  },
  {
   "cell_type": "code",
   "execution_count": 51,
   "metadata": {},
   "outputs": [
    {
     "data": {
      "text/plain": [
       "(1, 3, 1)"
      ]
     },
     "execution_count": 51,
     "metadata": {},
     "output_type": "execute_result"
    }
   ],
   "source": [
    "x_input.shape"
   ]
  },
  {
   "cell_type": "code",
   "execution_count": 52,
   "metadata": {},
   "outputs": [
    {
     "data": {
      "text/plain": [
       "array([[100.25543, 109.41533]], dtype=float32)"
      ]
     },
     "execution_count": 52,
     "metadata": {},
     "output_type": "execute_result"
    }
   ],
   "source": [
    "model.predict(x_input)"
   ]
  },
  {
   "cell_type": "code",
   "execution_count": null,
   "metadata": {},
   "outputs": [],
   "source": []
  },
  {
   "cell_type": "code",
   "execution_count": null,
   "metadata": {},
   "outputs": [],
   "source": []
  }
 ],
 "metadata": {
  "kernelspec": {
   "display_name": "Python 3",
   "language": "python",
   "name": "python3"
  },
  "language_info": {
   "codemirror_mode": {
    "name": "ipython",
    "version": 3
   },
   "file_extension": ".py",
   "mimetype": "text/x-python",
   "name": "python",
   "nbconvert_exporter": "python",
   "pygments_lexer": "ipython3",
   "version": "3.7.6"
  }
 },
 "nbformat": 4,
 "nbformat_minor": 4
}
