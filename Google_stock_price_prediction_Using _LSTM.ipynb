{
 "cells": [
  {
   "cell_type": "code",
   "execution_count": 1,
   "metadata": {},
   "outputs": [],
   "source": [
    "import numpy as np\n",
    "import pandas as pd"
   ]
  },
  {
   "cell_type": "code",
   "execution_count": 2,
   "metadata": {},
   "outputs": [],
   "source": [
    "df = pd.read_csv(\"C:/Users/TANNERU/Downloads/Dataset for coding/Google_Stock_Price_Train.csv\")"
   ]
  },
  {
   "cell_type": "code",
   "execution_count": 3,
   "metadata": {},
   "outputs": [
    {
     "data": {
      "text/html": [
       "<div>\n",
       "<style scoped>\n",
       "    .dataframe tbody tr th:only-of-type {\n",
       "        vertical-align: middle;\n",
       "    }\n",
       "\n",
       "    .dataframe tbody tr th {\n",
       "        vertical-align: top;\n",
       "    }\n",
       "\n",
       "    .dataframe thead th {\n",
       "        text-align: right;\n",
       "    }\n",
       "</style>\n",
       "<table border=\"1\" class=\"dataframe\">\n",
       "  <thead>\n",
       "    <tr style=\"text-align: right;\">\n",
       "      <th></th>\n",
       "      <th>Date</th>\n",
       "      <th>Open</th>\n",
       "      <th>High</th>\n",
       "      <th>Low</th>\n",
       "      <th>Close</th>\n",
       "      <th>Volume</th>\n",
       "    </tr>\n",
       "  </thead>\n",
       "  <tbody>\n",
       "    <tr>\n",
       "      <th>0</th>\n",
       "      <td>1/3/2012</td>\n",
       "      <td>325.25</td>\n",
       "      <td>332.83</td>\n",
       "      <td>324.97</td>\n",
       "      <td>663.59</td>\n",
       "      <td>7,380,500</td>\n",
       "    </tr>\n",
       "    <tr>\n",
       "      <th>1</th>\n",
       "      <td>1/4/2012</td>\n",
       "      <td>331.27</td>\n",
       "      <td>333.87</td>\n",
       "      <td>329.08</td>\n",
       "      <td>666.45</td>\n",
       "      <td>5,749,400</td>\n",
       "    </tr>\n",
       "    <tr>\n",
       "      <th>2</th>\n",
       "      <td>1/5/2012</td>\n",
       "      <td>329.83</td>\n",
       "      <td>330.75</td>\n",
       "      <td>326.89</td>\n",
       "      <td>657.21</td>\n",
       "      <td>6,590,300</td>\n",
       "    </tr>\n",
       "    <tr>\n",
       "      <th>3</th>\n",
       "      <td>1/6/2012</td>\n",
       "      <td>328.34</td>\n",
       "      <td>328.77</td>\n",
       "      <td>323.68</td>\n",
       "      <td>648.24</td>\n",
       "      <td>5,405,900</td>\n",
       "    </tr>\n",
       "    <tr>\n",
       "      <th>4</th>\n",
       "      <td>1/9/2012</td>\n",
       "      <td>322.04</td>\n",
       "      <td>322.29</td>\n",
       "      <td>309.46</td>\n",
       "      <td>620.76</td>\n",
       "      <td>11,688,800</td>\n",
       "    </tr>\n",
       "    <tr>\n",
       "      <th>...</th>\n",
       "      <td>...</td>\n",
       "      <td>...</td>\n",
       "      <td>...</td>\n",
       "      <td>...</td>\n",
       "      <td>...</td>\n",
       "      <td>...</td>\n",
       "    </tr>\n",
       "    <tr>\n",
       "      <th>1253</th>\n",
       "      <td>12/23/2016</td>\n",
       "      <td>790.90</td>\n",
       "      <td>792.74</td>\n",
       "      <td>787.28</td>\n",
       "      <td>789.91</td>\n",
       "      <td>623,400</td>\n",
       "    </tr>\n",
       "    <tr>\n",
       "      <th>1254</th>\n",
       "      <td>12/27/2016</td>\n",
       "      <td>790.68</td>\n",
       "      <td>797.86</td>\n",
       "      <td>787.66</td>\n",
       "      <td>791.55</td>\n",
       "      <td>789,100</td>\n",
       "    </tr>\n",
       "    <tr>\n",
       "      <th>1255</th>\n",
       "      <td>12/28/2016</td>\n",
       "      <td>793.70</td>\n",
       "      <td>794.23</td>\n",
       "      <td>783.20</td>\n",
       "      <td>785.05</td>\n",
       "      <td>1,153,800</td>\n",
       "    </tr>\n",
       "    <tr>\n",
       "      <th>1256</th>\n",
       "      <td>12/29/2016</td>\n",
       "      <td>783.33</td>\n",
       "      <td>785.93</td>\n",
       "      <td>778.92</td>\n",
       "      <td>782.79</td>\n",
       "      <td>744,300</td>\n",
       "    </tr>\n",
       "    <tr>\n",
       "      <th>1257</th>\n",
       "      <td>12/30/2016</td>\n",
       "      <td>782.75</td>\n",
       "      <td>782.78</td>\n",
       "      <td>770.41</td>\n",
       "      <td>771.82</td>\n",
       "      <td>1,770,000</td>\n",
       "    </tr>\n",
       "  </tbody>\n",
       "</table>\n",
       "<p>1258 rows × 6 columns</p>\n",
       "</div>"
      ],
      "text/plain": [
       "            Date    Open    High     Low   Close      Volume\n",
       "0       1/3/2012  325.25  332.83  324.97  663.59   7,380,500\n",
       "1       1/4/2012  331.27  333.87  329.08  666.45   5,749,400\n",
       "2       1/5/2012  329.83  330.75  326.89  657.21   6,590,300\n",
       "3       1/6/2012  328.34  328.77  323.68  648.24   5,405,900\n",
       "4       1/9/2012  322.04  322.29  309.46  620.76  11,688,800\n",
       "...          ...     ...     ...     ...     ...         ...\n",
       "1253  12/23/2016  790.90  792.74  787.28  789.91     623,400\n",
       "1254  12/27/2016  790.68  797.86  787.66  791.55     789,100\n",
       "1255  12/28/2016  793.70  794.23  783.20  785.05   1,153,800\n",
       "1256  12/29/2016  783.33  785.93  778.92  782.79     744,300\n",
       "1257  12/30/2016  782.75  782.78  770.41  771.82   1,770,000\n",
       "\n",
       "[1258 rows x 6 columns]"
      ]
     },
     "execution_count": 3,
     "metadata": {},
     "output_type": "execute_result"
    }
   ],
   "source": [
    "df"
   ]
  },
  {
   "cell_type": "code",
   "execution_count": 25,
   "metadata": {},
   "outputs": [],
   "source": [
    "training = df.iloc[:, 1:2].values #open column"
   ]
  },
  {
   "cell_type": "code",
   "execution_count": 26,
   "metadata": {},
   "outputs": [
    {
     "data": {
      "text/plain": [
       "array([[325.25],\n",
       "       [331.27],\n",
       "       [329.83],\n",
       "       ...,\n",
       "       [793.7 ],\n",
       "       [783.33],\n",
       "       [782.75]])"
      ]
     },
     "execution_count": 26,
     "metadata": {},
     "output_type": "execute_result"
    }
   ],
   "source": [
    "training"
   ]
  },
  {
   "cell_type": "code",
   "execution_count": 34,
   "metadata": {},
   "outputs": [
    {
     "name": "stdout",
     "output_type": "stream",
     "text": [
      "(1258, 1)\n"
     ]
    }
   ],
   "source": [
    "type(training)\n",
    "print(training.shape)"
   ]
  },
  {
   "cell_type": "markdown",
   "metadata": {},
   "source": [
    "# Feature scaling"
   ]
  },
  {
   "cell_type": "code",
   "execution_count": 35,
   "metadata": {},
   "outputs": [],
   "source": [
    "#It is recommended to take Normalization rather than standardization, particularly when working on RNN with a Sigmoid function in the output layer.\n",
    "from sklearn.preprocessing import MinMaxScaler\n",
    "sc = MinMaxScaler(feature_range = (0,1))\n",
    "training_scaled = sc.fit_transform(training)"
   ]
  },
  {
   "cell_type": "code",
   "execution_count": 36,
   "metadata": {},
   "outputs": [
    {
     "data": {
      "text/plain": [
       "array([[0.08581368],\n",
       "       [0.09701243],\n",
       "       [0.09433366],\n",
       "       ...,\n",
       "       [0.95725128],\n",
       "       [0.93796041],\n",
       "       [0.93688146]])"
      ]
     },
     "execution_count": 36,
     "metadata": {},
     "output_type": "execute_result"
    }
   ],
   "source": [
    "training_scaled"
   ]
  },
  {
   "cell_type": "markdown",
   "metadata": {},
   "source": [
    "# Creating a data structure with 60 timesteps and 1 output"
   ]
  },
  {
   "cell_type": "code",
   "execution_count": 37,
   "metadata": {},
   "outputs": [],
   "source": [
    "Xtrain = []\n",
    "Ytrain = []"
   ]
  },
  {
   "cell_type": "code",
   "execution_count": 41,
   "metadata": {},
   "outputs": [],
   "source": [
    "#A special data structure is needed to cover 60-time stamps, \n",
    "#based on which RNN will predict the 61st price. Here the number of past timestamps is set to 60 based on experimentation.\n",
    "for i in range(60,len(training_scaled)):\n",
    "    Xtrain.append(training_scaled[i-60:i,0]) #0:60-->1:61-->2:62-->3:63-->4-64 \n",
    "    Ytrain.append(training_scaled[i,0])\n",
    "    "
   ]
  },
  {
   "cell_type": "code",
   "execution_count": 42,
   "metadata": {},
   "outputs": [],
   "source": [
    "Xtrain = np.array(Xtrain)\n",
    "Ytrain = np.array(Ytrain)"
   ]
  },
  {
   "cell_type": "code",
   "execution_count": 44,
   "metadata": {},
   "outputs": [
    {
     "name": "stdout",
     "output_type": "stream",
     "text": [
      "[[0.08581368 0.09701243 0.09433366 ... 0.07846566 0.08034452 0.08497656]\n",
      " [0.09701243 0.09433366 0.09156187 ... 0.08034452 0.08497656 0.08627874]\n",
      " [0.09433366 0.09156187 0.07984225 ... 0.08497656 0.08627874 0.08471612]\n",
      " ...\n",
      " [0.92106928 0.92438053 0.93048218 ... 0.95475854 0.95204256 0.95163331]\n",
      " [0.92438053 0.93048218 0.9299055  ... 0.95204256 0.95163331 0.95725128]\n",
      " [0.93048218 0.9299055  0.93113327 ... 0.95163331 0.95725128 0.93796041]]\n",
      "(1198, 60)\n"
     ]
    }
   ],
   "source": [
    "#Each row in Xtrain with 60 prices is used to predict the corresponding next-day stock price in y_train.\n",
    "#1st row = 0-60 values,2nd row = 1-61 values,3rd row = 2-62,...........................  \n",
    "print(Xtrain)\n",
    "print(Xtrain.shape)"
   ]
  },
  {
   "cell_type": "code",
   "execution_count": 45,
   "metadata": {},
   "outputs": [
    {
     "name": "stdout",
     "output_type": "stream",
     "text": [
      "[0.08627874 0.08471612 0.07454052 ... 0.95725128 0.93796041 0.93688146]\n",
      "(1198,)\n"
     ]
    }
   ],
   "source": [
    "#Open price for prediction[60 to all values ]\n",
    "print(Ytrain)\n",
    "print(Ytrain.shape)"
   ]
  },
  {
   "cell_type": "code",
   "execution_count": 46,
   "metadata": {},
   "outputs": [
    {
     "data": {
      "text/plain": [
       "array([[0.08627874],\n",
       "       [0.08471612],\n",
       "       [0.07454052],\n",
       "       ...,\n",
       "       [0.95725128],\n",
       "       [0.93796041],\n",
       "       [0.93688146]])"
      ]
     },
     "execution_count": 46,
     "metadata": {},
     "output_type": "execute_result"
    }
   ],
   "source": [
    "training_scaled[60:]"
   ]
  },
  {
   "cell_type": "code",
   "execution_count": 47,
   "metadata": {},
   "outputs": [],
   "source": [
    "Xtrain = np.reshape(Xtrain,newshape=(Xtrain.shape[0],Xtrain.shape[1],1))"
   ]
  },
  {
   "cell_type": "code",
   "execution_count": 48,
   "metadata": {},
   "outputs": [
    {
     "data": {
      "text/plain": [
       "(1198, 60, 1)"
      ]
     },
     "execution_count": 48,
     "metadata": {},
     "output_type": "execute_result"
    }
   ],
   "source": [
    "#1198 rows,60 columns,1 dimension(indicator)\n",
    "Xtrain.shape"
   ]
  },
  {
   "cell_type": "markdown",
   "metadata": {},
   "source": [
    "# Model building"
   ]
  },
  {
   "cell_type": "code",
   "execution_count": 50,
   "metadata": {},
   "outputs": [],
   "source": [
    "from keras.models import Sequential\n",
    "from keras.layers import Dense\n",
    "from keras.layers import LSTM\n",
    "from keras.layers import Dropout"
   ]
  },
  {
   "cell_type": "code",
   "execution_count": 114,
   "metadata": {},
   "outputs": [],
   "source": [
    "# Initialising the RNN\n",
    "#Fundamentally, we are building a NN regressor for continuous value prediction using LSTM.\n",
    "regressor = Sequential()\n",
    "\n",
    "#adding first LSTM and dropout to avoid overfitting\n",
    "# return_sequences = True--> as we need to add another LSTM layer after the current one\n",
    "#input_shape corresponds to the number of time stamps and the number of indicators.\n",
    "#dropout to avoid overfitting\n",
    "regressor.add(LSTM(50,activation = 'relu',return_sequences = True,input_shape = (Xtrain.shape[1],1)))\n",
    "regressor.add(Dropout(0.3))\n",
    "\n",
    "#add 2nd lstm layer\n",
    "regressor.add(LSTM(50,activation = 'relu',return_sequences = True))\n",
    "regressor.add(Dropout(0.3))\n",
    "\n",
    "#add 3rd lstm layer\n",
    "regressor.add(LSTM(50,activation = 'relu',return_sequences = True))\n",
    "regressor.add(Dropout(0.3))\n",
    "\n",
    "#add 4th lstm layer\n",
    "#return_sequences is False as we will not add more LSTM layers.\n",
    "regressor.add(LSTM(50,activation = 'relu',return_sequences = False))\n",
    "regressor.add(Dropout(0.3))"
   ]
  },
  {
   "cell_type": "code",
   "execution_count": 115,
   "metadata": {},
   "outputs": [],
   "source": [
    "# Adding the output layer\n",
    "#We have created an LSTM based RNN model\n",
    "regressor.add(Dense(1))"
   ]
  },
  {
   "cell_type": "markdown",
   "metadata": {},
   "source": [
    "# Compliling"
   ]
  },
  {
   "cell_type": "code",
   "execution_count": 116,
   "metadata": {},
   "outputs": [],
   "source": [
    "regressor.compile(optimizer = 'adam',loss = 'mean_squared_error')"
   ]
  },
  {
   "cell_type": "code",
   "execution_count": 117,
   "metadata": {},
   "outputs": [
    {
     "name": "stdout",
     "output_type": "stream",
     "text": [
      "Model: \"sequential_3\"\n",
      "_________________________________________________________________\n",
      "Layer (type)                 Output Shape              Param #   \n",
      "=================================================================\n",
      "lstm_9 (LSTM)                (None, 60, 50)            10400     \n",
      "_________________________________________________________________\n",
      "dropout_9 (Dropout)          (None, 60, 50)            0         \n",
      "_________________________________________________________________\n",
      "lstm_10 (LSTM)               (None, 60, 50)            20200     \n",
      "_________________________________________________________________\n",
      "dropout_10 (Dropout)         (None, 60, 50)            0         \n",
      "_________________________________________________________________\n",
      "lstm_11 (LSTM)               (None, 60, 50)            20200     \n",
      "_________________________________________________________________\n",
      "dropout_11 (Dropout)         (None, 60, 50)            0         \n",
      "_________________________________________________________________\n",
      "lstm_12 (LSTM)               (None, 50)                20200     \n",
      "_________________________________________________________________\n",
      "dropout_12 (Dropout)         (None, 50)                0         \n",
      "_________________________________________________________________\n",
      "dense_2 (Dense)              (None, 1)                 51        \n",
      "=================================================================\n",
      "Total params: 71,051\n",
      "Trainable params: 71,051\n",
      "Non-trainable params: 0\n",
      "_________________________________________________________________\n"
     ]
    }
   ],
   "source": [
    "regressor.summary()"
   ]
  },
  {
   "cell_type": "markdown",
   "metadata": {},
   "source": [
    "# Model fitting"
   ]
  },
  {
   "cell_type": "code",
   "execution_count": 118,
   "metadata": {},
   "outputs": [
    {
     "name": "stdout",
     "output_type": "stream",
     "text": [
      "Epoch 1/20\n",
      "1198/1198 [==============================] - 12s 10ms/step - loss: 0.1207\n",
      "Epoch 2/20\n",
      "1198/1198 [==============================] - 7s 6ms/step - loss: 0.0217\n",
      "Epoch 3/20\n",
      "1198/1198 [==============================] - 7s 5ms/step - loss: 0.0152\n",
      "Epoch 4/20\n",
      "1198/1198 [==============================] - 7s 6ms/step - loss: 0.0132\n",
      "Epoch 5/20\n",
      "1198/1198 [==============================] - 7s 6ms/step - loss: 0.0118\n",
      "Epoch 6/20\n",
      "1198/1198 [==============================] - 7s 6ms/step - loss: 0.0109\n",
      "Epoch 7/20\n",
      "1198/1198 [==============================] - 7s 6ms/step - loss: 0.0101\n",
      "Epoch 8/20\n",
      "1198/1198 [==============================] - 7s 6ms/step - loss: 0.0101\n",
      "Epoch 9/20\n",
      "1198/1198 [==============================] - 7s 5ms/step - loss: 0.0090\n",
      "Epoch 10/20\n",
      "1198/1198 [==============================] - 7s 6ms/step - loss: 0.0094\n",
      "Epoch 11/20\n",
      "1198/1198 [==============================] - 7s 6ms/step - loss: 0.0085\n",
      "Epoch 12/20\n",
      "1198/1198 [==============================] - 7s 6ms/step - loss: 0.0083\n",
      "Epoch 13/20\n",
      "1198/1198 [==============================] - 7s 6ms/step - loss: 0.0082\n",
      "Epoch 14/20\n",
      "1198/1198 [==============================] - 7s 6ms/step - loss: 0.0076A: 2\n",
      "Epoch 15/20\n",
      "1198/1198 [==============================] - 7s 6ms/step - loss: 0.0081\n",
      "Epoch 16/20\n",
      "1198/1198 [==============================] - 6s 5ms/step - loss: 0.0075\n",
      "Epoch 17/20\n",
      "1198/1198 [==============================] - 7s 5ms/step - loss: 0.0072\n",
      "Epoch 18/20\n",
      "1198/1198 [==============================] - 6s 5ms/step - loss: 0.0068\n",
      "Epoch 19/20\n",
      "1198/1198 [==============================] - 7s 6ms/step - loss: 0.0065\n",
      "Epoch 20/20\n",
      "1198/1198 [==============================] - 7s 6ms/step - loss: 0.0068\n"
     ]
    },
    {
     "data": {
      "text/plain": [
       "<keras.callbacks.History at 0x2cec4f986c8>"
      ]
     },
     "execution_count": 118,
     "metadata": {},
     "output_type": "execute_result"
    }
   ],
   "source": [
    "#Now, let’s fit our RNN.\n",
    "regressor.fit(Xtrain,Ytrain,epochs = 20,batch_size = 32)"
   ]
  },
  {
   "cell_type": "markdown",
   "metadata": {},
   "source": [
    "# Model prediction"
   ]
  },
  {
   "cell_type": "code",
   "execution_count": 119,
   "metadata": {},
   "outputs": [],
   "source": [
    "testing_data = pd.read_csv(\"C:/Users/TANNERU/Downloads/Dataset for coding/Google_Stock_Price_Test.csv\")"
   ]
  },
  {
   "cell_type": "code",
   "execution_count": 120,
   "metadata": {},
   "outputs": [
    {
     "data": {
      "text/html": [
       "<div>\n",
       "<style scoped>\n",
       "    .dataframe tbody tr th:only-of-type {\n",
       "        vertical-align: middle;\n",
       "    }\n",
       "\n",
       "    .dataframe tbody tr th {\n",
       "        vertical-align: top;\n",
       "    }\n",
       "\n",
       "    .dataframe thead th {\n",
       "        text-align: right;\n",
       "    }\n",
       "</style>\n",
       "<table border=\"1\" class=\"dataframe\">\n",
       "  <thead>\n",
       "    <tr style=\"text-align: right;\">\n",
       "      <th></th>\n",
       "      <th>Date</th>\n",
       "      <th>Open</th>\n",
       "      <th>High</th>\n",
       "      <th>Low</th>\n",
       "      <th>Close</th>\n",
       "      <th>Volume</th>\n",
       "    </tr>\n",
       "  </thead>\n",
       "  <tbody>\n",
       "    <tr>\n",
       "      <th>0</th>\n",
       "      <td>1/3/2017</td>\n",
       "      <td>778.81</td>\n",
       "      <td>789.63</td>\n",
       "      <td>775.80</td>\n",
       "      <td>786.14</td>\n",
       "      <td>1,657,300</td>\n",
       "    </tr>\n",
       "    <tr>\n",
       "      <th>1</th>\n",
       "      <td>1/4/2017</td>\n",
       "      <td>788.36</td>\n",
       "      <td>791.34</td>\n",
       "      <td>783.16</td>\n",
       "      <td>786.90</td>\n",
       "      <td>1,073,000</td>\n",
       "    </tr>\n",
       "    <tr>\n",
       "      <th>2</th>\n",
       "      <td>1/5/2017</td>\n",
       "      <td>786.08</td>\n",
       "      <td>794.48</td>\n",
       "      <td>785.02</td>\n",
       "      <td>794.02</td>\n",
       "      <td>1,335,200</td>\n",
       "    </tr>\n",
       "    <tr>\n",
       "      <th>3</th>\n",
       "      <td>1/6/2017</td>\n",
       "      <td>795.26</td>\n",
       "      <td>807.90</td>\n",
       "      <td>792.20</td>\n",
       "      <td>806.15</td>\n",
       "      <td>1,640,200</td>\n",
       "    </tr>\n",
       "    <tr>\n",
       "      <th>4</th>\n",
       "      <td>1/9/2017</td>\n",
       "      <td>806.40</td>\n",
       "      <td>809.97</td>\n",
       "      <td>802.83</td>\n",
       "      <td>806.65</td>\n",
       "      <td>1,272,400</td>\n",
       "    </tr>\n",
       "    <tr>\n",
       "      <th>5</th>\n",
       "      <td>1/10/2017</td>\n",
       "      <td>807.86</td>\n",
       "      <td>809.13</td>\n",
       "      <td>803.51</td>\n",
       "      <td>804.79</td>\n",
       "      <td>1,176,800</td>\n",
       "    </tr>\n",
       "    <tr>\n",
       "      <th>6</th>\n",
       "      <td>1/11/2017</td>\n",
       "      <td>805.00</td>\n",
       "      <td>808.15</td>\n",
       "      <td>801.37</td>\n",
       "      <td>807.91</td>\n",
       "      <td>1,065,900</td>\n",
       "    </tr>\n",
       "    <tr>\n",
       "      <th>7</th>\n",
       "      <td>1/12/2017</td>\n",
       "      <td>807.14</td>\n",
       "      <td>807.39</td>\n",
       "      <td>799.17</td>\n",
       "      <td>806.36</td>\n",
       "      <td>1,353,100</td>\n",
       "    </tr>\n",
       "    <tr>\n",
       "      <th>8</th>\n",
       "      <td>1/13/2017</td>\n",
       "      <td>807.48</td>\n",
       "      <td>811.22</td>\n",
       "      <td>806.69</td>\n",
       "      <td>807.88</td>\n",
       "      <td>1,099,200</td>\n",
       "    </tr>\n",
       "    <tr>\n",
       "      <th>9</th>\n",
       "      <td>1/17/2017</td>\n",
       "      <td>807.08</td>\n",
       "      <td>807.14</td>\n",
       "      <td>800.37</td>\n",
       "      <td>804.61</td>\n",
       "      <td>1,362,100</td>\n",
       "    </tr>\n",
       "    <tr>\n",
       "      <th>10</th>\n",
       "      <td>1/18/2017</td>\n",
       "      <td>805.81</td>\n",
       "      <td>806.21</td>\n",
       "      <td>800.99</td>\n",
       "      <td>806.07</td>\n",
       "      <td>1,294,400</td>\n",
       "    </tr>\n",
       "    <tr>\n",
       "      <th>11</th>\n",
       "      <td>1/19/2017</td>\n",
       "      <td>805.12</td>\n",
       "      <td>809.48</td>\n",
       "      <td>801.80</td>\n",
       "      <td>802.17</td>\n",
       "      <td>919,300</td>\n",
       "    </tr>\n",
       "    <tr>\n",
       "      <th>12</th>\n",
       "      <td>1/20/2017</td>\n",
       "      <td>806.91</td>\n",
       "      <td>806.91</td>\n",
       "      <td>801.69</td>\n",
       "      <td>805.02</td>\n",
       "      <td>1,670,000</td>\n",
       "    </tr>\n",
       "    <tr>\n",
       "      <th>13</th>\n",
       "      <td>1/23/2017</td>\n",
       "      <td>807.25</td>\n",
       "      <td>820.87</td>\n",
       "      <td>803.74</td>\n",
       "      <td>819.31</td>\n",
       "      <td>1,963,600</td>\n",
       "    </tr>\n",
       "    <tr>\n",
       "      <th>14</th>\n",
       "      <td>1/24/2017</td>\n",
       "      <td>822.30</td>\n",
       "      <td>825.90</td>\n",
       "      <td>817.82</td>\n",
       "      <td>823.87</td>\n",
       "      <td>1,474,000</td>\n",
       "    </tr>\n",
       "    <tr>\n",
       "      <th>15</th>\n",
       "      <td>1/25/2017</td>\n",
       "      <td>829.62</td>\n",
       "      <td>835.77</td>\n",
       "      <td>825.06</td>\n",
       "      <td>835.67</td>\n",
       "      <td>1,494,500</td>\n",
       "    </tr>\n",
       "    <tr>\n",
       "      <th>16</th>\n",
       "      <td>1/26/2017</td>\n",
       "      <td>837.81</td>\n",
       "      <td>838.00</td>\n",
       "      <td>827.01</td>\n",
       "      <td>832.15</td>\n",
       "      <td>2,973,900</td>\n",
       "    </tr>\n",
       "    <tr>\n",
       "      <th>17</th>\n",
       "      <td>1/27/2017</td>\n",
       "      <td>834.71</td>\n",
       "      <td>841.95</td>\n",
       "      <td>820.44</td>\n",
       "      <td>823.31</td>\n",
       "      <td>2,965,800</td>\n",
       "    </tr>\n",
       "    <tr>\n",
       "      <th>18</th>\n",
       "      <td>1/30/2017</td>\n",
       "      <td>814.66</td>\n",
       "      <td>815.84</td>\n",
       "      <td>799.80</td>\n",
       "      <td>802.32</td>\n",
       "      <td>3,246,600</td>\n",
       "    </tr>\n",
       "    <tr>\n",
       "      <th>19</th>\n",
       "      <td>1/31/2017</td>\n",
       "      <td>796.86</td>\n",
       "      <td>801.25</td>\n",
       "      <td>790.52</td>\n",
       "      <td>796.79</td>\n",
       "      <td>2,160,600</td>\n",
       "    </tr>\n",
       "  </tbody>\n",
       "</table>\n",
       "</div>"
      ],
      "text/plain": [
       "         Date    Open    High     Low   Close     Volume\n",
       "0    1/3/2017  778.81  789.63  775.80  786.14  1,657,300\n",
       "1    1/4/2017  788.36  791.34  783.16  786.90  1,073,000\n",
       "2    1/5/2017  786.08  794.48  785.02  794.02  1,335,200\n",
       "3    1/6/2017  795.26  807.90  792.20  806.15  1,640,200\n",
       "4    1/9/2017  806.40  809.97  802.83  806.65  1,272,400\n",
       "5   1/10/2017  807.86  809.13  803.51  804.79  1,176,800\n",
       "6   1/11/2017  805.00  808.15  801.37  807.91  1,065,900\n",
       "7   1/12/2017  807.14  807.39  799.17  806.36  1,353,100\n",
       "8   1/13/2017  807.48  811.22  806.69  807.88  1,099,200\n",
       "9   1/17/2017  807.08  807.14  800.37  804.61  1,362,100\n",
       "10  1/18/2017  805.81  806.21  800.99  806.07  1,294,400\n",
       "11  1/19/2017  805.12  809.48  801.80  802.17    919,300\n",
       "12  1/20/2017  806.91  806.91  801.69  805.02  1,670,000\n",
       "13  1/23/2017  807.25  820.87  803.74  819.31  1,963,600\n",
       "14  1/24/2017  822.30  825.90  817.82  823.87  1,474,000\n",
       "15  1/25/2017  829.62  835.77  825.06  835.67  1,494,500\n",
       "16  1/26/2017  837.81  838.00  827.01  832.15  2,973,900\n",
       "17  1/27/2017  834.71  841.95  820.44  823.31  2,965,800\n",
       "18  1/30/2017  814.66  815.84  799.80  802.32  3,246,600\n",
       "19  1/31/2017  796.86  801.25  790.52  796.79  2,160,600"
      ]
     },
     "execution_count": 120,
     "metadata": {},
     "output_type": "execute_result"
    }
   ],
   "source": [
    "testing_data"
   ]
  },
  {
   "cell_type": "code",
   "execution_count": 121,
   "metadata": {},
   "outputs": [],
   "source": [
    "real_stock_price = testing_data.iloc[:,1:2].values"
   ]
  },
  {
   "cell_type": "code",
   "execution_count": 122,
   "metadata": {},
   "outputs": [
    {
     "data": {
      "text/plain": [
       "array([[778.81],\n",
       "       [788.36],\n",
       "       [786.08],\n",
       "       [795.26],\n",
       "       [806.4 ],\n",
       "       [807.86],\n",
       "       [805.  ],\n",
       "       [807.14],\n",
       "       [807.48],\n",
       "       [807.08],\n",
       "       [805.81],\n",
       "       [805.12],\n",
       "       [806.91],\n",
       "       [807.25],\n",
       "       [822.3 ],\n",
       "       [829.62],\n",
       "       [837.81],\n",
       "       [834.71],\n",
       "       [814.66],\n",
       "       [796.86]])"
      ]
     },
     "execution_count": 122,
     "metadata": {},
     "output_type": "execute_result"
    }
   ],
   "source": [
    "real_stock_price"
   ]
  },
  {
   "cell_type": "code",
   "execution_count": 123,
   "metadata": {},
   "outputs": [
    {
     "data": {
      "text/plain": [
       "1198    779.00\n",
       "1199    779.66\n",
       "1200    777.71\n",
       "1201    786.66\n",
       "1202    783.76\n",
       "1203    781.22\n",
       "1204    781.65\n",
       "1205    779.80\n",
       "1206    787.85\n",
       "1207    798.24\n",
       "1208    803.30\n",
       "1209    795.00\n",
       "1210    804.90\n",
       "1211    816.68\n",
       "1212    806.34\n",
       "1213    801.00\n",
       "1214    808.35\n",
       "1215    795.47\n",
       "1216    782.89\n",
       "1217    778.20\n",
       "1218    767.25\n",
       "1219    750.66\n",
       "1220    774.50\n",
       "1221    783.40\n",
       "1222    779.94\n",
       "1223    791.17\n",
       "1224    756.54\n",
       "1225    755.60\n",
       "1226    746.97\n",
       "1227    755.20\n",
       "1228    766.92\n",
       "1229    771.37\n",
       "1230    762.61\n",
       "1231    772.63\n",
       "1232    767.73\n",
       "1233    764.26\n",
       "1234    760.00\n",
       "1235    771.53\n",
       "1236    770.07\n",
       "1237    757.44\n",
       "1238    744.59\n",
       "1239    757.71\n",
       "1240    764.73\n",
       "1241    761.00\n",
       "1242    772.48\n",
       "1243    780.00\n",
       "1244    785.04\n",
       "1245    793.90\n",
       "1246    797.40\n",
       "1247    797.34\n",
       "1248    800.40\n",
       "1249    790.22\n",
       "1250    796.76\n",
       "1251    795.84\n",
       "1252    792.36\n",
       "1253    790.90\n",
       "1254    790.68\n",
       "1255    793.70\n",
       "1256    783.33\n",
       "1257    782.75\n",
       "Name: Open, dtype: float64"
      ]
     },
     "execution_count": 123,
     "metadata": {},
     "output_type": "execute_result"
    }
   ],
   "source": [
    "df['Open'][-60:]#last 60 prices for open "
   ]
  },
  {
   "cell_type": "code",
   "execution_count": 124,
   "metadata": {},
   "outputs": [],
   "source": [
    "\"\"\"First, we need to concatenate the train and test datasets for prediction,\n",
    "because we use the previous 60 days’ \n",
    "stock prices to predict the next-day price.\n",
    "In another word, we need the 60 days’ price before the 1st date in the test dataset.\n",
    "\"\"\"\n",
    "final = pd.concat((df['Open'][-60:],testing_data['Open']),axis = 0)"
   ]
  },
  {
   "cell_type": "code",
   "execution_count": 125,
   "metadata": {},
   "outputs": [
    {
     "data": {
      "text/plain": [
       "1198    779.00\n",
       "1199    779.66\n",
       "1200    777.71\n",
       "1201    786.66\n",
       "1202    783.76\n",
       "         ...  \n",
       "15      829.62\n",
       "16      837.81\n",
       "17      834.71\n",
       "18      814.66\n",
       "19      796.86\n",
       "Name: Open, Length: 80, dtype: float64"
      ]
     },
     "execution_count": 125,
     "metadata": {},
     "output_type": "execute_result"
    }
   ],
   "source": [
    "final"
   ]
  },
  {
   "cell_type": "code",
   "execution_count": 126,
   "metadata": {},
   "outputs": [
    {
     "name": "stdout",
     "output_type": "stream",
     "text": [
      "<class 'numpy.ndarray'>\n"
     ]
    }
   ],
   "source": [
    "final = np.array(final)\n",
    "print(type(final))"
   ]
  },
  {
   "cell_type": "code",
   "execution_count": 127,
   "metadata": {},
   "outputs": [
    {
     "data": {
      "text/plain": [
       "array([779.  , 779.66, 777.71, 786.66, 783.76, 781.22, 781.65, 779.8 ,\n",
       "       787.85, 798.24, 803.3 , 795.  , 804.9 , 816.68, 806.34, 801.  ,\n",
       "       808.35, 795.47, 782.89, 778.2 , 767.25, 750.66, 774.5 , 783.4 ,\n",
       "       779.94, 791.17, 756.54, 755.6 , 746.97, 755.2 , 766.92, 771.37,\n",
       "       762.61, 772.63, 767.73, 764.26, 760.  , 771.53, 770.07, 757.44,\n",
       "       744.59, 757.71, 764.73, 761.  , 772.48, 780.  , 785.04, 793.9 ,\n",
       "       797.4 , 797.34, 800.4 , 790.22, 796.76, 795.84, 792.36, 790.9 ,\n",
       "       790.68, 793.7 , 783.33, 782.75, 778.81, 788.36, 786.08, 795.26,\n",
       "       806.4 , 807.86, 805.  , 807.14, 807.48, 807.08, 805.81, 805.12,\n",
       "       806.91, 807.25, 822.3 , 829.62, 837.81, 834.71, 814.66, 796.86])"
      ]
     },
     "execution_count": 127,
     "metadata": {},
     "output_type": "execute_result"
    }
   ],
   "source": [
    "final"
   ]
  },
  {
   "cell_type": "code",
   "execution_count": 128,
   "metadata": {},
   "outputs": [
    {
     "name": "stdout",
     "output_type": "stream",
     "text": [
      "(80, 1)\n"
     ]
    }
   ],
   "source": [
    "final = final.reshape(-1,1)\n",
    "print(final.shape)"
   ]
  },
  {
   "cell_type": "code",
   "execution_count": 129,
   "metadata": {},
   "outputs": [],
   "source": [
    "final = sc.transform(final)"
   ]
  },
  {
   "cell_type": "code",
   "execution_count": 130,
   "metadata": {},
   "outputs": [
    {
     "data": {
      "text/plain": [
       "array([[0.9299055 ],\n",
       "       [0.93113327],\n",
       "       [0.92750577],\n",
       "       [0.94415507],\n",
       "       [0.93876032],\n",
       "       [0.93403527],\n",
       "       [0.93483518],\n",
       "       [0.9313937 ],\n",
       "       [0.94636878],\n",
       "       [0.96569685],\n",
       "       [0.97510976],\n",
       "       [0.95966962],\n",
       "       [0.97808617],\n",
       "       [1.        ],\n",
       "       [0.98076494],\n",
       "       [0.97083116],\n",
       "       [0.98450406],\n",
       "       [0.96054394],\n",
       "       [0.9371419 ],\n",
       "       [0.92841729],\n",
       "       [0.90804747],\n",
       "       [0.8771858 ],\n",
       "       [0.92153434],\n",
       "       [0.93809063],\n",
       "       [0.93165414],\n",
       "       [0.95254483],\n",
       "       [0.88812412],\n",
       "       [0.88637547],\n",
       "       [0.87032145],\n",
       "       [0.88563137],\n",
       "       [0.90743359],\n",
       "       [0.91571173],\n",
       "       [0.89941588],\n",
       "       [0.91805566],\n",
       "       [0.9089404 ],\n",
       "       [0.9024853 ],\n",
       "       [0.89456061],\n",
       "       [0.91600938],\n",
       "       [0.9132934 ],\n",
       "       [0.88979835],\n",
       "       [0.86589404],\n",
       "       [0.89030062],\n",
       "       [0.90335962],\n",
       "       [0.89642086],\n",
       "       [0.91777662],\n",
       "       [0.93176576],\n",
       "       [0.94114145],\n",
       "       [0.95762334],\n",
       "       [0.96413424],\n",
       "       [0.96402262],\n",
       "       [0.96971501],\n",
       "       [0.95077759],\n",
       "       [0.96294367],\n",
       "       [0.96123223],\n",
       "       [0.95475854],\n",
       "       [0.95204256],\n",
       "       [0.95163331],\n",
       "       [0.95725128],\n",
       "       [0.93796041],\n",
       "       [0.93688146],\n",
       "       [0.92955205],\n",
       "       [0.94731751],\n",
       "       [0.94307612],\n",
       "       [0.96015329],\n",
       "       [0.98087655],\n",
       "       [0.98359253],\n",
       "       [0.97827219],\n",
       "       [0.98225314],\n",
       "       [0.98288563],\n",
       "       [0.98214153],\n",
       "       [0.979779  ],\n",
       "       [0.97849542],\n",
       "       [0.98182528],\n",
       "       [0.98245777],\n",
       "       [1.01045465],\n",
       "       [1.02407173],\n",
       "       [1.03930724],\n",
       "       [1.03354044],\n",
       "       [0.99624228],\n",
       "       [0.9631297 ]])"
      ]
     },
     "execution_count": 130,
     "metadata": {},
     "output_type": "execute_result"
    }
   ],
   "source": [
    "final"
   ]
  },
  {
   "cell_type": "code",
   "execution_count": 131,
   "metadata": {},
   "outputs": [],
   "source": [
    "Xtest = []\n",
    "for i in range(60,len(final)):\n",
    "    Xtest.append(final[i-60:i,0])"
   ]
  },
  {
   "cell_type": "code",
   "execution_count": 132,
   "metadata": {},
   "outputs": [
    {
     "data": {
      "text/plain": [
       "[array([0.9299055 , 0.93113327, 0.92750577, 0.94415507, 0.93876032,\n",
       "        0.93403527, 0.93483518, 0.9313937 , 0.94636878, 0.96569685,\n",
       "        0.97510976, 0.95966962, 0.97808617, 1.        , 0.98076494,\n",
       "        0.97083116, 0.98450406, 0.96054394, 0.9371419 , 0.92841729,\n",
       "        0.90804747, 0.8771858 , 0.92153434, 0.93809063, 0.93165414,\n",
       "        0.95254483, 0.88812412, 0.88637547, 0.87032145, 0.88563137,\n",
       "        0.90743359, 0.91571173, 0.89941588, 0.91805566, 0.9089404 ,\n",
       "        0.9024853 , 0.89456061, 0.91600938, 0.9132934 , 0.88979835,\n",
       "        0.86589404, 0.89030062, 0.90335962, 0.89642086, 0.91777662,\n",
       "        0.93176576, 0.94114145, 0.95762334, 0.96413424, 0.96402262,\n",
       "        0.96971501, 0.95077759, 0.96294367, 0.96123223, 0.95475854,\n",
       "        0.95204256, 0.95163331, 0.95725128, 0.93796041, 0.93688146]),\n",
       " array([0.93113327, 0.92750577, 0.94415507, 0.93876032, 0.93403527,\n",
       "        0.93483518, 0.9313937 , 0.94636878, 0.96569685, 0.97510976,\n",
       "        0.95966962, 0.97808617, 1.        , 0.98076494, 0.97083116,\n",
       "        0.98450406, 0.96054394, 0.9371419 , 0.92841729, 0.90804747,\n",
       "        0.8771858 , 0.92153434, 0.93809063, 0.93165414, 0.95254483,\n",
       "        0.88812412, 0.88637547, 0.87032145, 0.88563137, 0.90743359,\n",
       "        0.91571173, 0.89941588, 0.91805566, 0.9089404 , 0.9024853 ,\n",
       "        0.89456061, 0.91600938, 0.9132934 , 0.88979835, 0.86589404,\n",
       "        0.89030062, 0.90335962, 0.89642086, 0.91777662, 0.93176576,\n",
       "        0.94114145, 0.95762334, 0.96413424, 0.96402262, 0.96971501,\n",
       "        0.95077759, 0.96294367, 0.96123223, 0.95475854, 0.95204256,\n",
       "        0.95163331, 0.95725128, 0.93796041, 0.93688146, 0.92955205]),\n",
       " array([0.92750577, 0.94415507, 0.93876032, 0.93403527, 0.93483518,\n",
       "        0.9313937 , 0.94636878, 0.96569685, 0.97510976, 0.95966962,\n",
       "        0.97808617, 1.        , 0.98076494, 0.97083116, 0.98450406,\n",
       "        0.96054394, 0.9371419 , 0.92841729, 0.90804747, 0.8771858 ,\n",
       "        0.92153434, 0.93809063, 0.93165414, 0.95254483, 0.88812412,\n",
       "        0.88637547, 0.87032145, 0.88563137, 0.90743359, 0.91571173,\n",
       "        0.89941588, 0.91805566, 0.9089404 , 0.9024853 , 0.89456061,\n",
       "        0.91600938, 0.9132934 , 0.88979835, 0.86589404, 0.89030062,\n",
       "        0.90335962, 0.89642086, 0.91777662, 0.93176576, 0.94114145,\n",
       "        0.95762334, 0.96413424, 0.96402262, 0.96971501, 0.95077759,\n",
       "        0.96294367, 0.96123223, 0.95475854, 0.95204256, 0.95163331,\n",
       "        0.95725128, 0.93796041, 0.93688146, 0.92955205, 0.94731751]),\n",
       " array([0.94415507, 0.93876032, 0.93403527, 0.93483518, 0.9313937 ,\n",
       "        0.94636878, 0.96569685, 0.97510976, 0.95966962, 0.97808617,\n",
       "        1.        , 0.98076494, 0.97083116, 0.98450406, 0.96054394,\n",
       "        0.9371419 , 0.92841729, 0.90804747, 0.8771858 , 0.92153434,\n",
       "        0.93809063, 0.93165414, 0.95254483, 0.88812412, 0.88637547,\n",
       "        0.87032145, 0.88563137, 0.90743359, 0.91571173, 0.89941588,\n",
       "        0.91805566, 0.9089404 , 0.9024853 , 0.89456061, 0.91600938,\n",
       "        0.9132934 , 0.88979835, 0.86589404, 0.89030062, 0.90335962,\n",
       "        0.89642086, 0.91777662, 0.93176576, 0.94114145, 0.95762334,\n",
       "        0.96413424, 0.96402262, 0.96971501, 0.95077759, 0.96294367,\n",
       "        0.96123223, 0.95475854, 0.95204256, 0.95163331, 0.95725128,\n",
       "        0.93796041, 0.93688146, 0.92955205, 0.94731751, 0.94307612]),\n",
       " array([0.93876032, 0.93403527, 0.93483518, 0.9313937 , 0.94636878,\n",
       "        0.96569685, 0.97510976, 0.95966962, 0.97808617, 1.        ,\n",
       "        0.98076494, 0.97083116, 0.98450406, 0.96054394, 0.9371419 ,\n",
       "        0.92841729, 0.90804747, 0.8771858 , 0.92153434, 0.93809063,\n",
       "        0.93165414, 0.95254483, 0.88812412, 0.88637547, 0.87032145,\n",
       "        0.88563137, 0.90743359, 0.91571173, 0.89941588, 0.91805566,\n",
       "        0.9089404 , 0.9024853 , 0.89456061, 0.91600938, 0.9132934 ,\n",
       "        0.88979835, 0.86589404, 0.89030062, 0.90335962, 0.89642086,\n",
       "        0.91777662, 0.93176576, 0.94114145, 0.95762334, 0.96413424,\n",
       "        0.96402262, 0.96971501, 0.95077759, 0.96294367, 0.96123223,\n",
       "        0.95475854, 0.95204256, 0.95163331, 0.95725128, 0.93796041,\n",
       "        0.93688146, 0.92955205, 0.94731751, 0.94307612, 0.96015329]),\n",
       " array([0.93403527, 0.93483518, 0.9313937 , 0.94636878, 0.96569685,\n",
       "        0.97510976, 0.95966962, 0.97808617, 1.        , 0.98076494,\n",
       "        0.97083116, 0.98450406, 0.96054394, 0.9371419 , 0.92841729,\n",
       "        0.90804747, 0.8771858 , 0.92153434, 0.93809063, 0.93165414,\n",
       "        0.95254483, 0.88812412, 0.88637547, 0.87032145, 0.88563137,\n",
       "        0.90743359, 0.91571173, 0.89941588, 0.91805566, 0.9089404 ,\n",
       "        0.9024853 , 0.89456061, 0.91600938, 0.9132934 , 0.88979835,\n",
       "        0.86589404, 0.89030062, 0.90335962, 0.89642086, 0.91777662,\n",
       "        0.93176576, 0.94114145, 0.95762334, 0.96413424, 0.96402262,\n",
       "        0.96971501, 0.95077759, 0.96294367, 0.96123223, 0.95475854,\n",
       "        0.95204256, 0.95163331, 0.95725128, 0.93796041, 0.93688146,\n",
       "        0.92955205, 0.94731751, 0.94307612, 0.96015329, 0.98087655]),\n",
       " array([0.93483518, 0.9313937 , 0.94636878, 0.96569685, 0.97510976,\n",
       "        0.95966962, 0.97808617, 1.        , 0.98076494, 0.97083116,\n",
       "        0.98450406, 0.96054394, 0.9371419 , 0.92841729, 0.90804747,\n",
       "        0.8771858 , 0.92153434, 0.93809063, 0.93165414, 0.95254483,\n",
       "        0.88812412, 0.88637547, 0.87032145, 0.88563137, 0.90743359,\n",
       "        0.91571173, 0.89941588, 0.91805566, 0.9089404 , 0.9024853 ,\n",
       "        0.89456061, 0.91600938, 0.9132934 , 0.88979835, 0.86589404,\n",
       "        0.89030062, 0.90335962, 0.89642086, 0.91777662, 0.93176576,\n",
       "        0.94114145, 0.95762334, 0.96413424, 0.96402262, 0.96971501,\n",
       "        0.95077759, 0.96294367, 0.96123223, 0.95475854, 0.95204256,\n",
       "        0.95163331, 0.95725128, 0.93796041, 0.93688146, 0.92955205,\n",
       "        0.94731751, 0.94307612, 0.96015329, 0.98087655, 0.98359253]),\n",
       " array([0.9313937 , 0.94636878, 0.96569685, 0.97510976, 0.95966962,\n",
       "        0.97808617, 1.        , 0.98076494, 0.97083116, 0.98450406,\n",
       "        0.96054394, 0.9371419 , 0.92841729, 0.90804747, 0.8771858 ,\n",
       "        0.92153434, 0.93809063, 0.93165414, 0.95254483, 0.88812412,\n",
       "        0.88637547, 0.87032145, 0.88563137, 0.90743359, 0.91571173,\n",
       "        0.89941588, 0.91805566, 0.9089404 , 0.9024853 , 0.89456061,\n",
       "        0.91600938, 0.9132934 , 0.88979835, 0.86589404, 0.89030062,\n",
       "        0.90335962, 0.89642086, 0.91777662, 0.93176576, 0.94114145,\n",
       "        0.95762334, 0.96413424, 0.96402262, 0.96971501, 0.95077759,\n",
       "        0.96294367, 0.96123223, 0.95475854, 0.95204256, 0.95163331,\n",
       "        0.95725128, 0.93796041, 0.93688146, 0.92955205, 0.94731751,\n",
       "        0.94307612, 0.96015329, 0.98087655, 0.98359253, 0.97827219]),\n",
       " array([0.94636878, 0.96569685, 0.97510976, 0.95966962, 0.97808617,\n",
       "        1.        , 0.98076494, 0.97083116, 0.98450406, 0.96054394,\n",
       "        0.9371419 , 0.92841729, 0.90804747, 0.8771858 , 0.92153434,\n",
       "        0.93809063, 0.93165414, 0.95254483, 0.88812412, 0.88637547,\n",
       "        0.87032145, 0.88563137, 0.90743359, 0.91571173, 0.89941588,\n",
       "        0.91805566, 0.9089404 , 0.9024853 , 0.89456061, 0.91600938,\n",
       "        0.9132934 , 0.88979835, 0.86589404, 0.89030062, 0.90335962,\n",
       "        0.89642086, 0.91777662, 0.93176576, 0.94114145, 0.95762334,\n",
       "        0.96413424, 0.96402262, 0.96971501, 0.95077759, 0.96294367,\n",
       "        0.96123223, 0.95475854, 0.95204256, 0.95163331, 0.95725128,\n",
       "        0.93796041, 0.93688146, 0.92955205, 0.94731751, 0.94307612,\n",
       "        0.96015329, 0.98087655, 0.98359253, 0.97827219, 0.98225314]),\n",
       " array([0.96569685, 0.97510976, 0.95966962, 0.97808617, 1.        ,\n",
       "        0.98076494, 0.97083116, 0.98450406, 0.96054394, 0.9371419 ,\n",
       "        0.92841729, 0.90804747, 0.8771858 , 0.92153434, 0.93809063,\n",
       "        0.93165414, 0.95254483, 0.88812412, 0.88637547, 0.87032145,\n",
       "        0.88563137, 0.90743359, 0.91571173, 0.89941588, 0.91805566,\n",
       "        0.9089404 , 0.9024853 , 0.89456061, 0.91600938, 0.9132934 ,\n",
       "        0.88979835, 0.86589404, 0.89030062, 0.90335962, 0.89642086,\n",
       "        0.91777662, 0.93176576, 0.94114145, 0.95762334, 0.96413424,\n",
       "        0.96402262, 0.96971501, 0.95077759, 0.96294367, 0.96123223,\n",
       "        0.95475854, 0.95204256, 0.95163331, 0.95725128, 0.93796041,\n",
       "        0.93688146, 0.92955205, 0.94731751, 0.94307612, 0.96015329,\n",
       "        0.98087655, 0.98359253, 0.97827219, 0.98225314, 0.98288563]),\n",
       " array([0.97510976, 0.95966962, 0.97808617, 1.        , 0.98076494,\n",
       "        0.97083116, 0.98450406, 0.96054394, 0.9371419 , 0.92841729,\n",
       "        0.90804747, 0.8771858 , 0.92153434, 0.93809063, 0.93165414,\n",
       "        0.95254483, 0.88812412, 0.88637547, 0.87032145, 0.88563137,\n",
       "        0.90743359, 0.91571173, 0.89941588, 0.91805566, 0.9089404 ,\n",
       "        0.9024853 , 0.89456061, 0.91600938, 0.9132934 , 0.88979835,\n",
       "        0.86589404, 0.89030062, 0.90335962, 0.89642086, 0.91777662,\n",
       "        0.93176576, 0.94114145, 0.95762334, 0.96413424, 0.96402262,\n",
       "        0.96971501, 0.95077759, 0.96294367, 0.96123223, 0.95475854,\n",
       "        0.95204256, 0.95163331, 0.95725128, 0.93796041, 0.93688146,\n",
       "        0.92955205, 0.94731751, 0.94307612, 0.96015329, 0.98087655,\n",
       "        0.98359253, 0.97827219, 0.98225314, 0.98288563, 0.98214153]),\n",
       " array([0.95966962, 0.97808617, 1.        , 0.98076494, 0.97083116,\n",
       "        0.98450406, 0.96054394, 0.9371419 , 0.92841729, 0.90804747,\n",
       "        0.8771858 , 0.92153434, 0.93809063, 0.93165414, 0.95254483,\n",
       "        0.88812412, 0.88637547, 0.87032145, 0.88563137, 0.90743359,\n",
       "        0.91571173, 0.89941588, 0.91805566, 0.9089404 , 0.9024853 ,\n",
       "        0.89456061, 0.91600938, 0.9132934 , 0.88979835, 0.86589404,\n",
       "        0.89030062, 0.90335962, 0.89642086, 0.91777662, 0.93176576,\n",
       "        0.94114145, 0.95762334, 0.96413424, 0.96402262, 0.96971501,\n",
       "        0.95077759, 0.96294367, 0.96123223, 0.95475854, 0.95204256,\n",
       "        0.95163331, 0.95725128, 0.93796041, 0.93688146, 0.92955205,\n",
       "        0.94731751, 0.94307612, 0.96015329, 0.98087655, 0.98359253,\n",
       "        0.97827219, 0.98225314, 0.98288563, 0.98214153, 0.979779  ]),\n",
       " array([0.97808617, 1.        , 0.98076494, 0.97083116, 0.98450406,\n",
       "        0.96054394, 0.9371419 , 0.92841729, 0.90804747, 0.8771858 ,\n",
       "        0.92153434, 0.93809063, 0.93165414, 0.95254483, 0.88812412,\n",
       "        0.88637547, 0.87032145, 0.88563137, 0.90743359, 0.91571173,\n",
       "        0.89941588, 0.91805566, 0.9089404 , 0.9024853 , 0.89456061,\n",
       "        0.91600938, 0.9132934 , 0.88979835, 0.86589404, 0.89030062,\n",
       "        0.90335962, 0.89642086, 0.91777662, 0.93176576, 0.94114145,\n",
       "        0.95762334, 0.96413424, 0.96402262, 0.96971501, 0.95077759,\n",
       "        0.96294367, 0.96123223, 0.95475854, 0.95204256, 0.95163331,\n",
       "        0.95725128, 0.93796041, 0.93688146, 0.92955205, 0.94731751,\n",
       "        0.94307612, 0.96015329, 0.98087655, 0.98359253, 0.97827219,\n",
       "        0.98225314, 0.98288563, 0.98214153, 0.979779  , 0.97849542]),\n",
       " array([1.        , 0.98076494, 0.97083116, 0.98450406, 0.96054394,\n",
       "        0.9371419 , 0.92841729, 0.90804747, 0.8771858 , 0.92153434,\n",
       "        0.93809063, 0.93165414, 0.95254483, 0.88812412, 0.88637547,\n",
       "        0.87032145, 0.88563137, 0.90743359, 0.91571173, 0.89941588,\n",
       "        0.91805566, 0.9089404 , 0.9024853 , 0.89456061, 0.91600938,\n",
       "        0.9132934 , 0.88979835, 0.86589404, 0.89030062, 0.90335962,\n",
       "        0.89642086, 0.91777662, 0.93176576, 0.94114145, 0.95762334,\n",
       "        0.96413424, 0.96402262, 0.96971501, 0.95077759, 0.96294367,\n",
       "        0.96123223, 0.95475854, 0.95204256, 0.95163331, 0.95725128,\n",
       "        0.93796041, 0.93688146, 0.92955205, 0.94731751, 0.94307612,\n",
       "        0.96015329, 0.98087655, 0.98359253, 0.97827219, 0.98225314,\n",
       "        0.98288563, 0.98214153, 0.979779  , 0.97849542, 0.98182528]),\n",
       " array([0.98076494, 0.97083116, 0.98450406, 0.96054394, 0.9371419 ,\n",
       "        0.92841729, 0.90804747, 0.8771858 , 0.92153434, 0.93809063,\n",
       "        0.93165414, 0.95254483, 0.88812412, 0.88637547, 0.87032145,\n",
       "        0.88563137, 0.90743359, 0.91571173, 0.89941588, 0.91805566,\n",
       "        0.9089404 , 0.9024853 , 0.89456061, 0.91600938, 0.9132934 ,\n",
       "        0.88979835, 0.86589404, 0.89030062, 0.90335962, 0.89642086,\n",
       "        0.91777662, 0.93176576, 0.94114145, 0.95762334, 0.96413424,\n",
       "        0.96402262, 0.96971501, 0.95077759, 0.96294367, 0.96123223,\n",
       "        0.95475854, 0.95204256, 0.95163331, 0.95725128, 0.93796041,\n",
       "        0.93688146, 0.92955205, 0.94731751, 0.94307612, 0.96015329,\n",
       "        0.98087655, 0.98359253, 0.97827219, 0.98225314, 0.98288563,\n",
       "        0.98214153, 0.979779  , 0.97849542, 0.98182528, 0.98245777]),\n",
       " array([0.97083116, 0.98450406, 0.96054394, 0.9371419 , 0.92841729,\n",
       "        0.90804747, 0.8771858 , 0.92153434, 0.93809063, 0.93165414,\n",
       "        0.95254483, 0.88812412, 0.88637547, 0.87032145, 0.88563137,\n",
       "        0.90743359, 0.91571173, 0.89941588, 0.91805566, 0.9089404 ,\n",
       "        0.9024853 , 0.89456061, 0.91600938, 0.9132934 , 0.88979835,\n",
       "        0.86589404, 0.89030062, 0.90335962, 0.89642086, 0.91777662,\n",
       "        0.93176576, 0.94114145, 0.95762334, 0.96413424, 0.96402262,\n",
       "        0.96971501, 0.95077759, 0.96294367, 0.96123223, 0.95475854,\n",
       "        0.95204256, 0.95163331, 0.95725128, 0.93796041, 0.93688146,\n",
       "        0.92955205, 0.94731751, 0.94307612, 0.96015329, 0.98087655,\n",
       "        0.98359253, 0.97827219, 0.98225314, 0.98288563, 0.98214153,\n",
       "        0.979779  , 0.97849542, 0.98182528, 0.98245777, 1.01045465]),\n",
       " array([0.98450406, 0.96054394, 0.9371419 , 0.92841729, 0.90804747,\n",
       "        0.8771858 , 0.92153434, 0.93809063, 0.93165414, 0.95254483,\n",
       "        0.88812412, 0.88637547, 0.87032145, 0.88563137, 0.90743359,\n",
       "        0.91571173, 0.89941588, 0.91805566, 0.9089404 , 0.9024853 ,\n",
       "        0.89456061, 0.91600938, 0.9132934 , 0.88979835, 0.86589404,\n",
       "        0.89030062, 0.90335962, 0.89642086, 0.91777662, 0.93176576,\n",
       "        0.94114145, 0.95762334, 0.96413424, 0.96402262, 0.96971501,\n",
       "        0.95077759, 0.96294367, 0.96123223, 0.95475854, 0.95204256,\n",
       "        0.95163331, 0.95725128, 0.93796041, 0.93688146, 0.92955205,\n",
       "        0.94731751, 0.94307612, 0.96015329, 0.98087655, 0.98359253,\n",
       "        0.97827219, 0.98225314, 0.98288563, 0.98214153, 0.979779  ,\n",
       "        0.97849542, 0.98182528, 0.98245777, 1.01045465, 1.02407173]),\n",
       " array([0.96054394, 0.9371419 , 0.92841729, 0.90804747, 0.8771858 ,\n",
       "        0.92153434, 0.93809063, 0.93165414, 0.95254483, 0.88812412,\n",
       "        0.88637547, 0.87032145, 0.88563137, 0.90743359, 0.91571173,\n",
       "        0.89941588, 0.91805566, 0.9089404 , 0.9024853 , 0.89456061,\n",
       "        0.91600938, 0.9132934 , 0.88979835, 0.86589404, 0.89030062,\n",
       "        0.90335962, 0.89642086, 0.91777662, 0.93176576, 0.94114145,\n",
       "        0.95762334, 0.96413424, 0.96402262, 0.96971501, 0.95077759,\n",
       "        0.96294367, 0.96123223, 0.95475854, 0.95204256, 0.95163331,\n",
       "        0.95725128, 0.93796041, 0.93688146, 0.92955205, 0.94731751,\n",
       "        0.94307612, 0.96015329, 0.98087655, 0.98359253, 0.97827219,\n",
       "        0.98225314, 0.98288563, 0.98214153, 0.979779  , 0.97849542,\n",
       "        0.98182528, 0.98245777, 1.01045465, 1.02407173, 1.03930724]),\n",
       " array([0.9371419 , 0.92841729, 0.90804747, 0.8771858 , 0.92153434,\n",
       "        0.93809063, 0.93165414, 0.95254483, 0.88812412, 0.88637547,\n",
       "        0.87032145, 0.88563137, 0.90743359, 0.91571173, 0.89941588,\n",
       "        0.91805566, 0.9089404 , 0.9024853 , 0.89456061, 0.91600938,\n",
       "        0.9132934 , 0.88979835, 0.86589404, 0.89030062, 0.90335962,\n",
       "        0.89642086, 0.91777662, 0.93176576, 0.94114145, 0.95762334,\n",
       "        0.96413424, 0.96402262, 0.96971501, 0.95077759, 0.96294367,\n",
       "        0.96123223, 0.95475854, 0.95204256, 0.95163331, 0.95725128,\n",
       "        0.93796041, 0.93688146, 0.92955205, 0.94731751, 0.94307612,\n",
       "        0.96015329, 0.98087655, 0.98359253, 0.97827219, 0.98225314,\n",
       "        0.98288563, 0.98214153, 0.979779  , 0.97849542, 0.98182528,\n",
       "        0.98245777, 1.01045465, 1.02407173, 1.03930724, 1.03354044]),\n",
       " array([0.92841729, 0.90804747, 0.8771858 , 0.92153434, 0.93809063,\n",
       "        0.93165414, 0.95254483, 0.88812412, 0.88637547, 0.87032145,\n",
       "        0.88563137, 0.90743359, 0.91571173, 0.89941588, 0.91805566,\n",
       "        0.9089404 , 0.9024853 , 0.89456061, 0.91600938, 0.9132934 ,\n",
       "        0.88979835, 0.86589404, 0.89030062, 0.90335962, 0.89642086,\n",
       "        0.91777662, 0.93176576, 0.94114145, 0.95762334, 0.96413424,\n",
       "        0.96402262, 0.96971501, 0.95077759, 0.96294367, 0.96123223,\n",
       "        0.95475854, 0.95204256, 0.95163331, 0.95725128, 0.93796041,\n",
       "        0.93688146, 0.92955205, 0.94731751, 0.94307612, 0.96015329,\n",
       "        0.98087655, 0.98359253, 0.97827219, 0.98225314, 0.98288563,\n",
       "        0.98214153, 0.979779  , 0.97849542, 0.98182528, 0.98245777,\n",
       "        1.01045465, 1.02407173, 1.03930724, 1.03354044, 0.99624228])]"
      ]
     },
     "execution_count": 132,
     "metadata": {},
     "output_type": "execute_result"
    }
   ],
   "source": [
    "Xtest"
   ]
  },
  {
   "cell_type": "code",
   "execution_count": 133,
   "metadata": {},
   "outputs": [
    {
     "name": "stdout",
     "output_type": "stream",
     "text": [
      "(20, 60)\n"
     ]
    }
   ],
   "source": [
    "Xtest = np.array(Xtest)\n",
    "print(Xtest.shape)"
   ]
  },
  {
   "cell_type": "code",
   "execution_count": 134,
   "metadata": {},
   "outputs": [
    {
     "name": "stdout",
     "output_type": "stream",
     "text": [
      "(20, 60, 1)\n"
     ]
    }
   ],
   "source": [
    "#make numpy array as 3D , adding num of indicator\n",
    "Xtest = np.reshape(Xtest,newshape = (Xtest.shape[0],Xtest.shape[1],1))\n",
    "print(Xtest.shape)"
   ]
  },
  {
   "cell_type": "code",
   "execution_count": 135,
   "metadata": {},
   "outputs": [],
   "source": [
    "#prediction\n",
    "predicted_stock_prices = regressor.predict(Xtest)"
   ]
  },
  {
   "cell_type": "code",
   "execution_count": 136,
   "metadata": {},
   "outputs": [
    {
     "data": {
      "text/plain": [
       "array([[0.8775413 ],\n",
       "       [0.8790604 ],\n",
       "       [0.8802689 ],\n",
       "       [0.8811935 ],\n",
       "       [0.8819114 ],\n",
       "       [0.8825415 ],\n",
       "       [0.88319266],\n",
       "       [0.8839337 ],\n",
       "       [0.8848083 ],\n",
       "       [0.88583356],\n",
       "       [0.88700235],\n",
       "       [0.8882876 ],\n",
       "       [0.8896512 ],\n",
       "       [0.8910583 ],\n",
       "       [0.8924786 ],\n",
       "       [0.89393973],\n",
       "       [0.895497  ],\n",
       "       [0.8972219 ],\n",
       "       [0.8991491 ],\n",
       "       [0.90120745]], dtype=float32)"
      ]
     },
     "execution_count": 136,
     "metadata": {},
     "output_type": "execute_result"
    }
   ],
   "source": [
    "predicted_stock_prices"
   ]
  },
  {
   "cell_type": "code",
   "execution_count": 137,
   "metadata": {},
   "outputs": [
    {
     "data": {
      "text/plain": [
       "(20, 1)"
      ]
     },
     "execution_count": 137,
     "metadata": {},
     "output_type": "execute_result"
    }
   ],
   "source": [
    "predicted_stock_prices.shape"
   ]
  },
  {
   "cell_type": "code",
   "execution_count": 138,
   "metadata": {},
   "outputs": [],
   "source": [
    "#transforming to orignal price values\n",
    "predicted_stock_prices = sc.inverse_transform(predicted_stock_prices)"
   ]
  },
  {
   "cell_type": "code",
   "execution_count": 139,
   "metadata": {},
   "outputs": [
    {
     "data": {
      "text/plain": [
       "array([[750.8511 ],\n",
       "       [751.66766],\n",
       "       [752.3173 ],\n",
       "       [752.8144 ],\n",
       "       [753.20026],\n",
       "       [753.539  ],\n",
       "       [753.88904],\n",
       "       [754.2874 ],\n",
       "       [754.7575 ],\n",
       "       [755.3087 ],\n",
       "       [755.93695],\n",
       "       [756.62787],\n",
       "       [757.36084],\n",
       "       [758.1173 ],\n",
       "       [758.88074],\n",
       "       [759.6662 ],\n",
       "       [760.50336],\n",
       "       [761.4306 ],\n",
       "       [762.4666 ],\n",
       "       [763.57306]], dtype=float32)"
      ]
     },
     "execution_count": 139,
     "metadata": {},
     "output_type": "execute_result"
    }
   ],
   "source": [
    "predicted_stock_prices"
   ]
  },
  {
   "cell_type": "markdown",
   "metadata": {},
   "source": [
    "# Data Visualization"
   ]
  },
  {
   "cell_type": "code",
   "execution_count": 140,
   "metadata": {},
   "outputs": [],
   "source": [
    "import matplotlib.pyplot as plt"
   ]
  },
  {
   "cell_type": "code",
   "execution_count": 141,
   "metadata": {},
   "outputs": [
    {
     "data": {
      "image/png": "[encoded data removed]",
      "text/plain": [
       "<Figure size 432x288 with 1 Axes>"
      ]
     },
     "metadata": {
      "needs_background": "light"
     },
     "output_type": "display_data"
    }
   ],
   "source": [
    "plt.plot(real_stock_price, color = 'red', label = 'Real price')\n",
    "plt.plot(predicted_stock_prices, color = 'blue', label = 'Predicted price')\n",
    "plt.title('Google price prediction')\n",
    "plt.xlabel('Time')\n",
    "plt.ylabel('Price')\n",
    "plt.legend()\n",
    "plt.show()"
   ]
  },
  {
   "cell_type": "code",
   "execution_count": null,
   "metadata": {},
   "outputs": [],
   "source": []
  }
 ],
 "metadata": {
  "kernelspec": {
   "display_name": "Python 3",
   "language": "python",
   "name": "python3"
  },
  "language_info": {
   "codemirror_mode": {
    "name": "ipython",
    "version": 3
   },
   "file_extension": ".py",
   "mimetype": "text/x-python",
   "name": "python",
   "nbconvert_exporter": "python",
   "pygments_lexer": "ipython3",
   "version": "3.7.6"
  }
 },
 "nbformat": 4,
 "nbformat_minor": 4
}
