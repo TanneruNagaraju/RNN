{
 "cells": [
  {
   "cell_type": "code",
   "execution_count": 1,
   "metadata": {},
   "outputs": [],
   "source": [
    "import numpy as np"
   ]
  },
  {
   "cell_type": "code",
   "execution_count": 2,
   "metadata": {},
   "outputs": [],
   "source": [
    "# split a univariate sequence into samples\n",
    "def split_sequence(sequence,n_steps):\n",
    "    X = list()\n",
    "    Y = list()\n",
    "    for i in range(len(sequence)):#0-8\n",
    "        # find the end of this pattern\n",
    "        end_ix = i + n_steps#i+3(3,4,5,6,7,8,9,10,11)\n",
    "        # check if we are beyond the sequence\n",
    "        if end_ix > len(sequence)-1: #end_ix[3,4,5,6,7,8] > 8\n",
    "            break\n",
    "        seq_x = sequence[i:end_ix]#[0-3][1-4][2-5][3-6][4-7][5-8][6-9]\n",
    "        seq_y = sequence[end_ix]#[3,4,5,6,7,8]\n",
    "        X.append(seq_x)\n",
    "        Y.append(seq_y)\n",
    "    return X,Y"
   ]
  },
  {
   "cell_type": "code",
   "execution_count": 3,
   "metadata": {},
   "outputs": [],
   "source": [
    "# define input sequence\n",
    "seq = [10,20,30,40,50,60,70,80,90]"
   ]
  },
  {
   "cell_type": "code",
   "execution_count": 4,
   "metadata": {},
   "outputs": [],
   "source": [
    "#time_steps\n",
    "n_steps = 3"
   ]
  },
  {
   "cell_type": "code",
   "execution_count": 5,
   "metadata": {},
   "outputs": [],
   "source": [
    "X,Y = split_sequence(seq,n_steps)"
   ]
  },
  {
   "cell_type": "code",
   "execution_count": 6,
   "metadata": {},
   "outputs": [
    {
     "data": {
      "text/plain": [
       "([[10, 20, 30],\n",
       "  [20, 30, 40],\n",
       "  [30, 40, 50],\n",
       "  [40, 50, 60],\n",
       "  [50, 60, 70],\n",
       "  [60, 70, 80]],\n",
       " [40, 50, 60, 70, 80, 90])"
      ]
     },
     "execution_count": 6,
     "metadata": {},
     "output_type": "execute_result"
    }
   ],
   "source": [
    "X,Y"
   ]
  },
  {
   "cell_type": "code",
   "execution_count": 7,
   "metadata": {},
   "outputs": [
    {
     "data": {
      "text/plain": [
       "9"
      ]
     },
     "execution_count": 7,
     "metadata": {},
     "output_type": "execute_result"
    }
   ],
   "source": [
    "len(seq)"
   ]
  },
  {
   "cell_type": "code",
   "execution_count": 8,
   "metadata": {},
   "outputs": [
    {
     "name": "stdout",
     "output_type": "stream",
     "text": [
      "0\n",
      "1\n",
      "2\n",
      "3\n",
      "4\n",
      "5\n",
      "6\n",
      "7\n",
      "8\n"
     ]
    }
   ],
   "source": [
    "for i in range(len(seq)):\n",
    "    print(i)"
   ]
  },
  {
   "cell_type": "code",
   "execution_count": 13,
   "metadata": {},
   "outputs": [
    {
     "name": "stdout",
     "output_type": "stream",
     "text": [
      "(6, 3)\n"
     ]
    }
   ],
   "source": [
    "X = np.array(X)\n",
    "print(X.shape)"
   ]
  },
  {
   "cell_type": "code",
   "execution_count": 14,
   "metadata": {},
   "outputs": [],
   "source": [
    "# reshape from [samples, timesteps] into [samples, timesteps, features]\n",
    "n_features = 1"
   ]
  },
  {
   "cell_type": "code",
   "execution_count": 15,
   "metadata": {},
   "outputs": [],
   "source": [
    "X = X.reshape(X.shape[0],X.shape[1],n_features)"
   ]
  },
  {
   "cell_type": "code",
   "execution_count": 22,
   "metadata": {},
   "outputs": [
    {
     "data": {
      "text/plain": [
       "(6, 3, 1)"
      ]
     },
     "execution_count": 22,
     "metadata": {},
     "output_type": "execute_result"
    }
   ],
   "source": [
    "X.shape"
   ]
  },
  {
   "cell_type": "markdown",
   "metadata": {},
   "source": [
    "# Model Building"
   ]
  },
  {
   "cell_type": "code",
   "execution_count": 23,
   "metadata": {},
   "outputs": [],
   "source": [
    "from keras.models import Sequential\n",
    "from keras.layers import LSTM\n",
    "from keras.layers import Dense"
   ]
  },
  {
   "cell_type": "markdown",
   "metadata": {},
   "source": [
    "# Vanilla LSTM\n",
    "A Vanilla LSTM is an LSTM model that has a single hidden layer of LSTM units, and an output layer used to make a prediction.\n",
    "Key in the definition is the shape of the input; that is what the model expects as input for each sample in terms of the number of time steps and the number of features.\n",
    "We are working with a univariate series, so the number of features is one, for one variable"
   ]
  },
  {
   "cell_type": "code",
   "execution_count": 24,
   "metadata": {},
   "outputs": [],
   "source": [
    "model = Sequential()\n",
    "model.add(LSTM(50,activation = 'relu',input_shape = (n_steps,n_features)))\n",
    "model.add(Dense(1))\n",
    "model.compile(optimizer = 'adam',loss = 'mean_squared_error')"
   ]
  },
  {
   "cell_type": "code",
   "execution_count": 25,
   "metadata": {},
   "outputs": [
    {
     "name": "stdout",
     "output_type": "stream",
     "text": [
      "Model: \"sequential_4\"\n",
      "_________________________________________________________________\n",
      "Layer (type)                 Output Shape              Param #   \n",
      "=================================================================\n",
      "lstm_3 (LSTM)                (None, 50)                10400     \n",
      "_________________________________________________________________\n",
      "dense_3 (Dense)              (None, 1)                 51        \n",
      "=================================================================\n",
      "Total params: 10,451\n",
      "Trainable params: 10,451\n",
      "Non-trainable params: 0\n",
      "_________________________________________________________________\n"
     ]
    }
   ],
   "source": [
    "model.summary()"
   ]
  },
  {
   "cell_type": "code",
   "execution_count": 28,
   "metadata": {},
   "outputs": [
    {
     "name": "stdout",
     "output_type": "stream",
     "text": [
      "Epoch 1/200\n",
      " - 0s - loss: 0.0011\n",
      "Epoch 2/200\n",
      " - 0s - loss: 0.0011\n",
      "Epoch 3/200\n",
      " - 0s - loss: 0.0011\n",
      "Epoch 4/200\n",
      " - 0s - loss: 0.0010\n",
      "Epoch 5/200\n",
      " - 0s - loss: 9.6869e-04\n",
      "Epoch 6/200\n",
      " - 0s - loss: 9.2778e-04\n",
      "Epoch 7/200\n",
      " - 0s - loss: 8.8998e-04\n",
      "Epoch 8/200\n",
      " - 0s - loss: 8.5502e-04\n",
      "Epoch 9/200\n",
      " - 0s - loss: 8.2209e-04\n",
      "Epoch 10/200\n",
      " - 0s - loss: 7.9001e-04\n",
      "Epoch 11/200\n",
      " - 0s - loss: 7.5790e-04\n",
      "Epoch 12/200\n",
      " - 0s - loss: 7.2576e-04\n",
      "Epoch 13/200\n",
      " - 0s - loss: 6.9480e-04\n",
      "Epoch 14/200\n",
      " - 0s - loss: 6.6702e-04\n",
      "Epoch 15/200\n",
      " - 0s - loss: 6.4112e-04\n",
      "Epoch 16/200\n",
      " - 0s - loss: 6.1694e-04\n",
      "Epoch 17/200\n",
      " - 0s - loss: 5.9250e-04\n",
      "Epoch 18/200\n",
      " - 0s - loss: 5.6808e-04\n",
      "Epoch 19/200\n",
      " - 0s - loss: 5.4376e-04\n",
      "Epoch 20/200\n",
      " - 0s - loss: 5.2031e-04\n",
      "Epoch 21/200\n",
      " - 0s - loss: 4.9877e-04\n",
      "Epoch 22/200\n",
      " - 0s - loss: 4.7856e-04\n",
      "Epoch 23/200\n",
      " - 0s - loss: 4.5911e-04\n",
      "Epoch 24/200\n",
      " - 0s - loss: 4.4002e-04\n",
      "Epoch 25/200\n",
      " - 0s - loss: 4.2105e-04\n",
      "Epoch 26/200\n",
      " - 0s - loss: 4.0268e-04\n",
      "Epoch 27/200\n",
      " - 0s - loss: 3.8537e-04\n",
      "Epoch 28/200\n",
      " - 0s - loss: 3.6875e-04\n",
      "Epoch 29/200\n",
      " - 0s - loss: 3.5314e-04\n",
      "Epoch 30/200\n",
      " - 0s - loss: 3.3788e-04\n",
      "Epoch 31/200\n",
      " - 0s - loss: 3.2315e-04\n",
      "Epoch 32/200\n",
      " - 0s - loss: 3.0882e-04\n",
      "Epoch 33/200\n",
      " - 0s - loss: 2.9514e-04\n",
      "Epoch 34/200\n",
      " - 0s - loss: 2.8212e-04\n",
      "Epoch 35/200\n",
      " - 0s - loss: 2.6974e-04\n",
      "Epoch 36/200\n",
      " - 0s - loss: 2.5796e-04\n",
      "Epoch 37/200\n",
      " - 0s - loss: 2.4667e-04\n",
      "Epoch 38/200\n",
      " - 0s - loss: 2.3558e-04\n",
      "Epoch 39/200\n",
      " - 0s - loss: 2.2493e-04\n",
      "Epoch 40/200\n",
      " - 0s - loss: 2.1479e-04\n",
      "Epoch 41/200\n",
      " - 0s - loss: 2.0519e-04\n",
      "Epoch 42/200\n",
      " - 0s - loss: 1.9607e-04\n",
      "Epoch 43/200\n",
      " - 0s - loss: 1.8730e-04\n",
      "Epoch 44/200\n",
      " - 0s - loss: 1.7892e-04\n",
      "Epoch 45/200\n",
      " - 0s - loss: 1.7072e-04\n",
      "Epoch 46/200\n",
      " - 0s - loss: 1.6294e-04\n",
      "Epoch 47/200\n",
      " - 0s - loss: 1.5546e-04\n",
      "Epoch 48/200\n",
      " - 0s - loss: 1.4857e-04\n",
      "Epoch 49/200\n",
      " - 0s - loss: 1.4190e-04\n",
      "Epoch 50/200\n",
      " - 0s - loss: 1.3546e-04\n",
      "Epoch 51/200\n",
      " - 0s - loss: 1.2931e-04\n",
      "Epoch 52/200\n",
      " - 0s - loss: 1.2346e-04\n",
      "Epoch 53/200\n",
      " - 0s - loss: 1.1784e-04\n",
      "Epoch 54/200\n",
      " - 0s - loss: 1.1239e-04\n",
      "Epoch 55/200\n",
      " - 0s - loss: 1.0727e-04\n",
      "Epoch 56/200\n",
      " - 0s - loss: 1.0234e-04\n",
      "Epoch 57/200\n",
      " - 0s - loss: 9.7661e-05\n",
      "Epoch 58/200\n",
      " - 0s - loss: 9.3126e-05\n",
      "Epoch 59/200\n",
      " - 0s - loss: 8.8756e-05\n",
      "Epoch 60/200\n",
      " - 0s - loss: 8.4619e-05\n",
      "Epoch 61/200\n",
      " - 0s - loss: 8.0757e-05\n",
      "Epoch 62/200\n",
      " - 0s - loss: 7.6906e-05\n",
      "Epoch 63/200\n",
      " - 0s - loss: 7.3258e-05\n",
      "Epoch 64/200\n",
      " - 0s - loss: 6.9800e-05\n",
      "Epoch 65/200\n",
      " - 0s - loss: 6.6580e-05\n",
      "Epoch 66/200\n",
      " - 0s - loss: 6.3397e-05\n",
      "Epoch 67/200\n",
      " - 0s - loss: 6.0366e-05\n",
      "Epoch 68/200\n",
      " - 0s - loss: 5.7505e-05\n",
      "Epoch 69/200\n",
      " - 0s - loss: 5.4743e-05\n",
      "Epoch 70/200\n",
      " - 0s - loss: 5.2143e-05\n",
      "Epoch 71/200\n",
      " - 0s - loss: 4.9644e-05\n",
      "Epoch 72/200\n",
      " - 0s - loss: 4.7208e-05\n",
      "Epoch 73/200\n",
      " - 0s - loss: 4.4910e-05\n",
      "Epoch 74/200\n",
      " - 0s - loss: 4.2703e-05\n",
      "Epoch 75/200\n",
      " - 0s - loss: 4.0632e-05\n",
      "Epoch 76/200\n",
      " - 0s - loss: 3.8679e-05\n",
      "Epoch 77/200\n",
      " - 0s - loss: 3.6772e-05\n",
      "Epoch 78/200\n",
      " - 0s - loss: 3.4935e-05\n",
      "Epoch 79/200\n",
      " - 0s - loss: 3.3192e-05\n",
      "Epoch 80/200\n",
      " - 0s - loss: 3.1561e-05\n",
      "Epoch 81/200\n",
      " - 0s - loss: 3.0024e-05\n",
      "Epoch 82/200\n",
      " - 0s - loss: 2.8494e-05\n",
      "Epoch 83/200\n",
      " - 0s - loss: 2.7055e-05\n",
      "Epoch 84/200\n",
      " - 0s - loss: 2.5696e-05\n",
      "Epoch 85/200\n",
      " - 0s - loss: 2.4417e-05\n",
      "Epoch 86/200\n",
      " - 0s - loss: 2.3172e-05\n",
      "Epoch 87/200\n",
      " - 0s - loss: 2.2026e-05\n",
      "Epoch 88/200\n",
      " - 0s - loss: 2.0912e-05\n",
      "Epoch 89/200\n",
      " - 0s - loss: 1.9838e-05\n",
      "Epoch 90/200\n",
      " - 0s - loss: 1.8809e-05\n",
      "Epoch 91/200\n",
      " - 0s - loss: 1.7859e-05\n",
      "Epoch 92/200\n",
      " - 0s - loss: 1.6929e-05\n",
      "Epoch 93/200\n",
      " - 0s - loss: 1.6050e-05\n",
      "Epoch 94/200\n",
      " - 0s - loss: 1.5226e-05\n",
      "Epoch 95/200\n",
      " - 0s - loss: 1.4444e-05\n",
      "Epoch 96/200\n",
      " - 0s - loss: 1.3676e-05\n",
      "Epoch 97/200\n",
      " - 0s - loss: 1.2974e-05\n",
      "Epoch 98/200\n",
      " - 0s - loss: 1.2285e-05\n",
      "Epoch 99/200\n",
      " - 0s - loss: 1.1644e-05\n",
      "Epoch 100/200\n",
      " - 0s - loss: 1.1027e-05\n",
      "Epoch 101/200\n",
      " - 0s - loss: 1.0447e-05\n",
      "Epoch 102/200\n",
      " - 0s - loss: 9.8918e-06\n",
      "Epoch 103/200\n",
      " - 0s - loss: 9.3752e-06\n",
      "Epoch 104/200\n",
      " - 0s - loss: 8.8814e-06\n",
      "Epoch 105/200\n",
      " - 0s - loss: 8.3931e-06\n",
      "Epoch 106/200\n",
      " - 0s - loss: 7.9405e-06\n",
      "Epoch 107/200\n",
      " - 0s - loss: 7.5420e-06\n",
      "Epoch 108/200\n",
      " - 0s - loss: 7.1131e-06\n",
      "Epoch 109/200\n",
      " - 0s - loss: 6.7370e-06\n",
      "Epoch 110/200\n",
      " - 0s - loss: 6.3607e-06\n",
      "Epoch 111/200\n",
      " - 0s - loss: 6.0054e-06\n",
      "Epoch 112/200\n",
      " - 0s - loss: 5.6716e-06\n",
      "Epoch 113/200\n",
      " - 0s - loss: 5.3770e-06\n",
      "Epoch 114/200\n",
      " - 0s - loss: 5.0644e-06\n",
      "Epoch 115/200\n",
      " - 0s - loss: 4.7876e-06\n",
      "Epoch 116/200\n",
      " - 0s - loss: 4.5261e-06\n",
      "Epoch 117/200\n",
      " - 0s - loss: 4.2791e-06\n",
      "Epoch 118/200\n",
      " - 0s - loss: 4.0367e-06\n",
      "Epoch 119/200\n",
      " - 0s - loss: 3.8187e-06\n",
      "Epoch 120/200\n",
      " - 0s - loss: 3.6091e-06\n",
      "Epoch 121/200\n",
      " - 0s - loss: 3.3935e-06\n",
      "Epoch 122/200\n",
      " - 0s - loss: 3.2160e-06\n",
      "Epoch 123/200\n",
      " - 0s - loss: 3.0298e-06\n",
      "Epoch 124/200\n",
      " - 0s - loss: 2.8467e-06\n",
      "Epoch 125/200\n",
      " - 0s - loss: 2.7022e-06\n",
      "Epoch 126/200\n",
      " - 0s - loss: 2.5394e-06\n",
      "Epoch 127/200\n",
      " - 0s - loss: 2.4017e-06\n",
      "Epoch 128/200\n",
      " - 0s - loss: 2.2634e-06\n",
      "Epoch 129/200\n",
      " - 0s - loss: 2.1319e-06\n",
      "Epoch 130/200\n",
      " - 0s - loss: 2.0119e-06\n",
      "Epoch 131/200\n",
      " - 0s - loss: 1.8951e-06\n",
      "Epoch 132/200\n",
      " - 0s - loss: 1.7796e-06\n",
      "Epoch 133/200\n",
      " - 0s - loss: 1.6806e-06\n",
      "Epoch 134/200\n",
      " - 0s - loss: 1.5821e-06\n",
      "Epoch 135/200\n",
      " - 0s - loss: 1.4853e-06\n",
      "Epoch 136/200\n",
      " - 0s - loss: 1.4011e-06\n",
      "Epoch 137/200\n",
      " - 0s - loss: 1.3157e-06\n",
      "Epoch 138/200\n",
      " - 0s - loss: 1.2413e-06\n",
      "Epoch 139/200\n",
      " - 0s - loss: 1.1711e-06\n",
      "Epoch 140/200\n",
      " - 0s - loss: 1.0984e-06\n",
      "Epoch 141/200\n",
      " - 0s - loss: 1.0355e-06\n",
      "Epoch 142/200\n",
      " - 0s - loss: 9.7173e-07\n",
      "Epoch 143/200\n",
      " - 0s - loss: 9.1619e-07\n",
      "Epoch 144/200\n",
      " - 0s - loss: 8.5904e-07\n",
      "Epoch 145/200\n",
      " - 0s - loss: 8.1131e-07\n",
      "Epoch 146/200\n",
      " - 0s - loss: 7.6064e-07\n",
      "Epoch 147/200\n",
      " - 0s - loss: 7.1778e-07\n",
      "Epoch 148/200\n",
      " - 0s - loss: 6.7451e-07\n",
      "Epoch 149/200\n",
      " - 0s - loss: 6.2820e-07\n",
      "Epoch 150/200\n",
      " - 0s - loss: 5.9017e-07\n",
      "Epoch 151/200\n",
      " - 0s - loss: 5.5479e-07\n",
      "Epoch 152/200\n",
      " - 0s - loss: 5.2586e-07\n",
      "Epoch 153/200\n",
      " - 0s - loss: 4.9159e-07\n",
      "Epoch 154/200\n",
      " - 0s - loss: 4.6197e-07\n",
      "Epoch 155/200\n",
      " - 0s - loss: 4.3211e-07\n",
      "Epoch 156/200\n",
      " - 0s - loss: 4.0347e-07\n",
      "Epoch 157/200\n",
      " - 0s - loss: 3.7867e-07\n",
      "Epoch 158/200\n",
      " - 0s - loss: 3.5635e-07\n",
      "Epoch 159/200\n",
      " - 0s - loss: 3.3188e-07\n",
      "Epoch 160/200\n",
      " - 0s - loss: 3.1443e-07\n",
      "Epoch 161/200\n",
      " - 0s - loss: 2.9746e-07\n",
      "Epoch 162/200\n",
      " - 0s - loss: 2.7539e-07\n",
      "Epoch 163/200\n",
      " - 0s - loss: 2.5670e-07\n",
      "Epoch 164/200\n",
      " - 0s - loss: 2.4166e-07\n",
      "Epoch 165/200\n",
      " - 0s - loss: 2.2524e-07\n",
      "Epoch 166/200\n",
      " - 0s - loss: 2.1280e-07\n",
      "Epoch 167/200\n",
      " - 0s - loss: 1.9981e-07\n",
      "Epoch 168/200\n",
      " - 0s - loss: 1.8767e-07\n",
      "Epoch 169/200\n",
      " - 0s - loss: 1.7543e-07\n",
      "Epoch 170/200\n",
      " - 0s - loss: 1.6317e-07\n",
      "Epoch 171/200\n",
      " - 0s - loss: 1.5094e-07\n",
      "Epoch 172/200\n",
      " - 0s - loss: 1.4295e-07\n",
      "Epoch 173/200\n",
      " - 0s - loss: 1.3314e-07\n",
      "Epoch 174/200\n",
      " - 0s - loss: 1.2592e-07\n",
      "Epoch 175/200\n",
      " - 0s - loss: 1.1550e-07\n",
      "Epoch 176/200\n",
      " - 0s - loss: 1.0879e-07\n",
      "Epoch 177/200\n",
      " - 0s - loss: 1.0335e-07\n",
      "Epoch 178/200\n",
      " - 0s - loss: 9.5211e-08\n",
      "Epoch 179/200\n",
      " - 0s - loss: 8.9211e-08\n",
      "Epoch 180/200\n",
      " - 0s - loss: 8.1971e-08\n",
      "Epoch 181/200\n",
      " - 0s - loss: 7.8411e-08\n",
      "Epoch 182/200\n",
      " - 0s - loss: 7.3405e-08\n",
      "Epoch 183/200\n",
      " - 0s - loss: 6.8069e-08\n",
      "Epoch 184/200\n",
      " - 0s - loss: 6.2015e-08\n",
      "Epoch 185/200\n",
      " - 0s - loss: 5.7710e-08\n",
      "Epoch 186/200\n",
      " - 0s - loss: 5.5319e-08\n",
      "Epoch 187/200\n",
      " - 0s - loss: 5.0968e-08\n",
      "Epoch 188/200\n",
      " - 0s - loss: 4.7437e-08\n",
      "Epoch 189/200\n",
      " - 0s - loss: 4.4459e-08\n",
      "Epoch 190/200\n",
      " - 0s - loss: 4.1924e-08\n",
      "Epoch 191/200\n",
      " - 0s - loss: 3.8094e-08\n",
      "Epoch 192/200\n",
      " - 0s - loss: 3.6288e-08\n",
      "Epoch 193/200\n",
      " - 0s - loss: 3.4733e-08\n",
      "Epoch 194/200\n",
      " - 0s - loss: 3.1437e-08\n",
      "Epoch 195/200\n",
      " - 0s - loss: 2.8670e-08\n",
      "Epoch 196/200\n",
      " - 0s - loss: 2.7312e-08\n",
      "Epoch 197/200\n",
      " - 0s - loss: 2.4847e-08\n",
      "Epoch 198/200\n",
      " - 0s - loss: 2.3918e-08\n",
      "Epoch 199/200\n",
      " - 0s - loss: 2.1952e-08\n",
      "Epoch 200/200\n",
      " - 0s - loss: 2.1129e-08\n"
     ]
    },
    {
     "data": {
      "text/plain": [
       "<keras.callbacks.History at 0x26a7569da88>"
      ]
     },
     "execution_count": 28,
     "metadata": {},
     "output_type": "execute_result"
    }
   ],
   "source": [
    "model.fit(X,Y,epochs = 200,verbose = 2)"
   ]
  },
  {
   "cell_type": "code",
   "execution_count": 30,
   "metadata": {},
   "outputs": [
    {
     "data": {
      "text/plain": [
       "array([[39.999985],\n",
       "       [50.00003 ],\n",
       "       [59.999943],\n",
       "       [70.00011 ],\n",
       "       [79.99973 ],\n",
       "       [90.00017 ]], dtype=float32)"
      ]
     },
     "execution_count": 30,
     "metadata": {},
     "output_type": "execute_result"
    }
   ],
   "source": [
    "model.predict(X)"
   ]
  },
  {
   "cell_type": "code",
   "execution_count": 31,
   "metadata": {},
   "outputs": [],
   "source": [
    "X_test = np.array([90,100,110])"
   ]
  },
  {
   "cell_type": "code",
   "execution_count": 32,
   "metadata": {},
   "outputs": [],
   "source": [
    "X_test = X_test.reshape((1,n_steps,n_features))"
   ]
  },
  {
   "cell_type": "code",
   "execution_count": 33,
   "metadata": {},
   "outputs": [
    {
     "data": {
      "text/plain": [
       "(1, 3, 1)"
      ]
     },
     "execution_count": 33,
     "metadata": {},
     "output_type": "execute_result"
    }
   ],
   "source": [
    "X_test.shape"
   ]
  },
  {
   "cell_type": "code",
   "execution_count": 34,
   "metadata": {},
   "outputs": [],
   "source": [
    "ydyna = model.predict(X_test)"
   ]
  },
  {
   "cell_type": "code",
   "execution_count": 35,
   "metadata": {},
   "outputs": [
    {
     "data": {
      "text/plain": [
       "array([[128.22533]], dtype=float32)"
      ]
     },
     "execution_count": 35,
     "metadata": {},
     "output_type": "execute_result"
    }
   ],
   "source": [
    "ydyna"
   ]
  },
  {
   "cell_type": "code",
   "execution_count": null,
   "metadata": {},
   "outputs": [],
   "source": []
  }
 ],
 "metadata": {
  "kernelspec": {
   "display_name": "Python 3",
   "language": "python",
   "name": "python3"
  },
  "language_info": {
   "codemirror_mode": {
    "name": "ipython",
    "version": 3
   },
   "file_extension": ".py",
   "mimetype": "text/x-python",
   "name": "python",
   "nbconvert_exporter": "python",
   "pygments_lexer": "ipython3",
   "version": "3.7.6"
  }
 },
 "nbformat": 4,
 "nbformat_minor": 4
}
