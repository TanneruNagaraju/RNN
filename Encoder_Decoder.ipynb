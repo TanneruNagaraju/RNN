{
 "cells": [
  {
   "cell_type": "code",
   "execution_count": 1,
   "metadata": {},
   "outputs": [],
   "source": [
    "import numpy as np"
   ]
  },
  {
   "cell_type": "code",
   "execution_count": 3,
   "metadata": {},
   "outputs": [],
   "source": [
    "# split a univariate sequence into samples\n",
    "def split_sequences(sequences,n_steps_in,n_steps_out):\n",
    "    X = list()\n",
    "    Y = list()\n",
    "    for i in range(len(sequences)):\n",
    "        # find the end of this pattern\n",
    "        end_ix = i + n_steps_in #(0+3,1+3,2+3,4+3,5+3)\n",
    "        out_end_ix = end_ix + n_steps_out #(3+2,4+2,5+2,6+2,7+2)\n",
    "        # check if we are beyond the dataset\n",
    "        if out_end_ix > len(sequences):\n",
    "            break\n",
    "        # gather input and output parts of the pattern\n",
    "        seq_x = sequences[i:end_ix]\n",
    "        seq_y = sequences[end_ix:out_end_ix]\n",
    "        X.append(seq_x)\n",
    "        Y.append(seq_y)\n",
    "    return np.array(X),np.array(Y)"
   ]
  },
  {
   "cell_type": "code",
   "execution_count": 4,
   "metadata": {},
   "outputs": [],
   "source": [
    "# define input sequence\n",
    "sequence = [10,20,30,40,50,60,70,80,90]"
   ]
  },
  {
   "cell_type": "code",
   "execution_count": 5,
   "metadata": {},
   "outputs": [],
   "source": [
    "n_steps = 3\n",
    "n_steps_out = 2"
   ]
  },
  {
   "cell_type": "code",
   "execution_count": 6,
   "metadata": {},
   "outputs": [],
   "source": [
    "X,Y = split_sequences(sequence,n_steps,n_steps_out)"
   ]
  },
  {
   "cell_type": "code",
   "execution_count": 7,
   "metadata": {},
   "outputs": [
    {
     "data": {
      "text/plain": [
       "array([[10, 20, 30],\n",
       "       [20, 30, 40],\n",
       "       [30, 40, 50],\n",
       "       [40, 50, 60],\n",
       "       [50, 60, 70]])"
      ]
     },
     "execution_count": 7,
     "metadata": {},
     "output_type": "execute_result"
    }
   ],
   "source": [
    "X"
   ]
  },
  {
   "cell_type": "code",
   "execution_count": 8,
   "metadata": {},
   "outputs": [
    {
     "data": {
      "text/plain": [
       "(5, 3)"
      ]
     },
     "execution_count": 8,
     "metadata": {},
     "output_type": "execute_result"
    }
   ],
   "source": [
    "X.shape"
   ]
  },
  {
   "cell_type": "code",
   "execution_count": 9,
   "metadata": {},
   "outputs": [
    {
     "data": {
      "text/plain": [
       "array([[40, 50],\n",
       "       [50, 60],\n",
       "       [60, 70],\n",
       "       [70, 80],\n",
       "       [80, 90]])"
      ]
     },
     "execution_count": 9,
     "metadata": {},
     "output_type": "execute_result"
    }
   ],
   "source": [
    "Y"
   ]
  },
  {
   "cell_type": "code",
   "execution_count": 10,
   "metadata": {},
   "outputs": [
    {
     "data": {
      "text/plain": [
       "(5, 2)"
      ]
     },
     "execution_count": 10,
     "metadata": {},
     "output_type": "execute_result"
    }
   ],
   "source": [
    "Y.shape"
   ]
  },
  {
   "cell_type": "markdown",
   "metadata": {},
   "source": [
    "In the case of the Encoder-Decoder model, the output, or y part, of the training dataset must also have this shape.\n",
    "\n",
    "\n",
    "This is because the model will predict a given number of time steps with a given number of features for each input sample."
   ]
  },
  {
   "cell_type": "code",
   "execution_count": 11,
   "metadata": {},
   "outputs": [],
   "source": [
    "n_features = 1"
   ]
  },
  {
   "cell_type": "code",
   "execution_count": 12,
   "metadata": {},
   "outputs": [],
   "source": [
    "X = X.reshape(X.shape[0],X.shape[1],n_features)\n",
    "Y = Y.reshape(Y.shape[0],Y.shape[1],n_features)"
   ]
  },
  {
   "cell_type": "code",
   "execution_count": 13,
   "metadata": {},
   "outputs": [
    {
     "data": {
      "text/plain": [
       "array([[[10],\n",
       "        [20],\n",
       "        [30]],\n",
       "\n",
       "       [[20],\n",
       "        [30],\n",
       "        [40]],\n",
       "\n",
       "       [[30],\n",
       "        [40],\n",
       "        [50]],\n",
       "\n",
       "       [[40],\n",
       "        [50],\n",
       "        [60]],\n",
       "\n",
       "       [[50],\n",
       "        [60],\n",
       "        [70]]])"
      ]
     },
     "execution_count": 13,
     "metadata": {},
     "output_type": "execute_result"
    }
   ],
   "source": [
    "X"
   ]
  },
  {
   "cell_type": "code",
   "execution_count": 14,
   "metadata": {},
   "outputs": [
    {
     "data": {
      "text/plain": [
       "(5, 3, 1)"
      ]
     },
     "execution_count": 14,
     "metadata": {},
     "output_type": "execute_result"
    }
   ],
   "source": [
    "X.shape"
   ]
  },
  {
   "cell_type": "code",
   "execution_count": 15,
   "metadata": {},
   "outputs": [
    {
     "data": {
      "text/plain": [
       "(5, 2, 1)"
      ]
     },
     "execution_count": 15,
     "metadata": {},
     "output_type": "execute_result"
    }
   ],
   "source": [
    "Y.shape"
   ]
  },
  {
   "cell_type": "code",
   "execution_count": 16,
   "metadata": {},
   "outputs": [
    {
     "data": {
      "text/plain": [
       "array([[[40],\n",
       "        [50]],\n",
       "\n",
       "       [[50],\n",
       "        [60]],\n",
       "\n",
       "       [[60],\n",
       "        [70]],\n",
       "\n",
       "       [[70],\n",
       "        [80]],\n",
       "\n",
       "       [[80],\n",
       "        [90]]])"
      ]
     },
     "execution_count": 16,
     "metadata": {},
     "output_type": "execute_result"
    }
   ],
   "source": [
    "Y"
   ]
  },
  {
   "cell_type": "markdown",
   "metadata": {},
   "source": [
    "# Model Building"
   ]
  },
  {
   "cell_type": "code",
   "execution_count": 56,
   "metadata": {},
   "outputs": [],
   "source": [
    "from keras.models import Sequential\n",
    "from keras.layers import Dense\n",
    "from keras.layers import LSTM\n",
    "from keras.layers import RepeatVector\n",
    "from keras.layers import TimeDistributed"
   ]
  },
  {
   "cell_type": "markdown",
   "metadata": {},
   "source": [
    "# Encoder-Decoder Model\n",
    "A model specifically developed for forecasting variable length output sequences is called the Encoder-Decoder LSTM.\n",
    "\n",
    "The model was designed for prediction problems where there are both input and output sequences, so-called sequence-to-sequence, or seq2seq problems, such as translating text from one language to another.\n",
    "\n",
    "As its name suggests, the model is comprised of two sub-models: the encoder and the decoder.\n",
    "\n",
    "The encoder is a model responsible for reading and interpreting the input sequence. The output of the encoder is a fixed length vector that represents the model’s interpretation of the sequence. \n",
    "\n",
    "The encoder is traditionally a Vanilla LSTM model, although other encoder models can be used such as Stacked, Bidirectional, and CNN models."
   ]
  },
  {
   "cell_type": "code",
   "execution_count": 63,
   "metadata": {},
   "outputs": [],
   "source": [
    "# define model\n",
    "model = Sequential()\n",
    "model.add(LSTM(100,activation = 'relu',input_shape = (n_steps,n_features)))"
   ]
  },
  {
   "cell_type": "markdown",
   "metadata": {},
   "source": [
    "The decoder uses the output of the encoder as an input.\n",
    "\n",
    "First, the fixed-length output of the encoder is repeated, once for each required time step in the output sequence."
   ]
  },
  {
   "cell_type": "code",
   "execution_count": 64,
   "metadata": {},
   "outputs": [],
   "source": [
    "model.add(RepeatVector(n_steps_out))"
   ]
  },
  {
   "cell_type": "markdown",
   "metadata": {},
   "source": [
    "This sequence is then provided to an LSTM decoder model.\n",
    "\n",
    "The model must output a value for each value in the output time step, which can be interpreted by a single output model"
   ]
  },
  {
   "cell_type": "code",
   "execution_count": 65,
   "metadata": {},
   "outputs": [],
   "source": [
    "model.add(LSTM(100,activation = 'relu',return_sequences = True))\n"
   ]
  },
  {
   "cell_type": "markdown",
   "metadata": {},
   "source": [
    "We can use the same output layer or layers to make each one-step prediction in the output sequence.\n",
    "\n",
    "This can be achieved by wrapping the output part of the model in a TimeDistributed wrapper."
   ]
  },
  {
   "cell_type": "code",
   "execution_count": 66,
   "metadata": {},
   "outputs": [],
   "source": [
    "model.add(TimeDistributed(Dense(1)))"
   ]
  },
  {
   "cell_type": "code",
   "execution_count": 67,
   "metadata": {},
   "outputs": [],
   "source": [
    "model.compile(optimizer = 'adam',loss = 'mse')"
   ]
  },
  {
   "cell_type": "code",
   "execution_count": 68,
   "metadata": {},
   "outputs": [
    {
     "name": "stdout",
     "output_type": "stream",
     "text": [
      "Epoch 1/100\n",
      "5/5 [==============================] - 3s 694ms/step - loss: 4427.1938\n",
      "Epoch 2/100\n",
      "5/5 [==============================] - 0s 2ms/step - loss: 4381.4443\n",
      "Epoch 3/100\n",
      "5/5 [==============================] - 0s 2ms/step - loss: 4335.0410\n",
      "Epoch 4/100\n",
      "5/5 [==============================] - 0s 2ms/step - loss: 4287.1729\n",
      "Epoch 5/100\n",
      "5/5 [==============================] - 0s 2ms/step - loss: 4235.8164\n",
      "Epoch 6/100\n",
      "5/5 [==============================] - 0s 2ms/step - loss: 4179.6689\n",
      "Epoch 7/100\n",
      "5/5 [==============================] - 0s 2ms/step - loss: 4115.9775\n",
      "Epoch 8/100\n",
      "5/5 [==============================] - 0s 1ms/step - loss: 4041.6770\n",
      "Epoch 9/100\n",
      "5/5 [==============================] - 0s 2ms/step - loss: 3952.9087\n",
      "Epoch 10/100\n",
      "5/5 [==============================] - 0s 1ms/step - loss: 3845.6694\n",
      "Epoch 11/100\n",
      "5/5 [==============================] - 0s 2ms/step - loss: 3716.0671\n",
      "Epoch 12/100\n",
      "5/5 [==============================] - 0s 1ms/step - loss: 3558.8804\n",
      "Epoch 13/100\n",
      "5/5 [==============================] - 0s 1ms/step - loss: 3370.6199\n",
      "Epoch 14/100\n",
      "5/5 [==============================] - 0s 2ms/step - loss: 3151.1567\n",
      "Epoch 15/100\n",
      "5/5 [==============================] - 0s 1ms/step - loss: 2901.6321\n",
      "Epoch 16/100\n",
      "5/5 [==============================] - 0s 2ms/step - loss: 2627.8445\n",
      "Epoch 17/100\n",
      "5/5 [==============================] - 0s 1ms/step - loss: 2337.8472\n",
      "Epoch 18/100\n",
      "5/5 [==============================] - 0s 2ms/step - loss: 2030.1498\n",
      "Epoch 19/100\n",
      "5/5 [==============================] - 0s 2ms/step - loss: 1711.3877\n",
      "Epoch 20/100\n",
      "5/5 [==============================] - 0s 1ms/step - loss: 1395.3676\n",
      "Epoch 21/100\n",
      "5/5 [==============================] - 0s 2ms/step - loss: 1108.2635\n",
      "Epoch 22/100\n",
      "5/5 [==============================] - 0s 2ms/step - loss: 872.3109\n",
      "Epoch 23/100\n",
      "5/5 [==============================] - 0s 1ms/step - loss: 731.6710\n",
      "Epoch 24/100\n",
      "5/5 [==============================] - 0s 2ms/step - loss: 732.5789\n",
      "Epoch 25/100\n",
      "5/5 [==============================] - 0s 1ms/step - loss: 853.4260\n",
      "Epoch 26/100\n",
      "5/5 [==============================] - 0s 2ms/step - loss: 962.8525\n",
      "Epoch 27/100\n",
      "5/5 [==============================] - 0s 2ms/step - loss: 977.9354\n",
      "Epoch 28/100\n",
      "5/5 [==============================] - 0s 1ms/step - loss: 910.0609\n",
      "Epoch 29/100\n",
      "5/5 [==============================] - 0s 2ms/step - loss: 810.1251\n",
      "Epoch 30/100\n",
      "5/5 [==============================] - 0s 2ms/step - loss: 708.7578\n",
      "Epoch 31/100\n",
      "5/5 [==============================] - 0s 1ms/step - loss: 627.7369\n",
      "Epoch 32/100\n",
      "5/5 [==============================] - 0s 2ms/step - loss: 571.2625\n",
      "Epoch 33/100\n",
      "5/5 [==============================] - 0s 1ms/step - loss: 537.8988\n",
      "Epoch 34/100\n",
      "5/5 [==============================] - 0s 2ms/step - loss: 520.9348\n",
      "Epoch 35/100\n",
      "5/5 [==============================] - 0s 2ms/step - loss: 512.3922\n",
      "Epoch 36/100\n",
      "5/5 [==============================] - 0s 1ms/step - loss: 506.1134\n",
      "Epoch 37/100\n",
      "5/5 [==============================] - 0s 2ms/step - loss: 496.0969\n",
      "Epoch 38/100\n",
      "5/5 [==============================] - 0s 2ms/step - loss: 479.4791\n",
      "Epoch 39/100\n",
      "5/5 [==============================] - 0s 2ms/step - loss: 455.4289\n",
      "Epoch 40/100\n",
      "5/5 [==============================] - 0s 2ms/step - loss: 425.2827\n",
      "Epoch 41/100\n",
      "5/5 [==============================] - 0s 1ms/step - loss: 392.0038\n",
      "Epoch 42/100\n",
      "5/5 [==============================] - 0s 2ms/step - loss: 364.0100\n",
      "Epoch 43/100\n",
      "5/5 [==============================] - 0s 2ms/step - loss: 350.3634\n",
      "Epoch 44/100\n",
      "5/5 [==============================] - 0s 1ms/step - loss: 344.8963\n",
      "Epoch 45/100\n",
      "5/5 [==============================] - 0s 2ms/step - loss: 328.4846\n",
      "Epoch 46/100\n",
      "5/5 [==============================] - 0s 2ms/step - loss: 299.8924\n",
      "Epoch 47/100\n",
      "5/5 [==============================] - 0s 2ms/step - loss: 270.0694\n",
      "Epoch 48/100\n",
      "5/5 [==============================] - 0s 2ms/step - loss: 246.3693\n",
      "Epoch 49/100\n",
      "5/5 [==============================] - 0s 1ms/step - loss: 228.5887\n",
      "Epoch 50/100\n",
      "5/5 [==============================] - 0s 2ms/step - loss: 212.6775\n",
      "Epoch 51/100\n",
      "5/5 [==============================] - 0s 2ms/step - loss: 195.8345\n",
      "Epoch 52/100\n",
      "5/5 [==============================] - 0s 1ms/step - loss: 177.8786\n",
      "Epoch 53/100\n",
      "5/5 [==============================] - 0s 2ms/step - loss: 158.6023\n",
      "Epoch 54/100\n",
      "5/5 [==============================] - 0s 1ms/step - loss: 140.0603\n",
      "Epoch 55/100\n",
      "5/5 [==============================] - 0s 2ms/step - loss: 123.6612\n",
      "Epoch 56/100\n",
      "5/5 [==============================] - 0s 2ms/step - loss: 109.4607\n",
      "Epoch 57/100\n",
      "5/5 [==============================] - 0s 2ms/step - loss: 95.7122\n",
      "Epoch 58/100\n",
      "5/5 [==============================] - 0s 2ms/step - loss: 80.6462\n",
      "Epoch 59/100\n",
      "5/5 [==============================] - 0s 2ms/step - loss: 64.7644\n",
      "Epoch 60/100\n",
      "5/5 [==============================] - 0s 1ms/step - loss: 49.5093\n",
      "Epoch 61/100\n",
      "5/5 [==============================] - 0s 2ms/step - loss: 36.6008\n",
      "Epoch 62/100\n",
      "5/5 [==============================] - 0s 2ms/step - loss: 27.2302\n",
      "Epoch 63/100\n",
      "5/5 [==============================] - 0s 2ms/step - loss: 20.0237\n",
      "Epoch 64/100\n",
      "5/5 [==============================] - 0s 2ms/step - loss: 14.5398\n",
      "Epoch 65/100\n",
      "5/5 [==============================] - 0s 1ms/step - loss: 10.4482\n",
      "Epoch 66/100\n",
      "5/5 [==============================] - 0s 2ms/step - loss: 8.2386\n",
      "Epoch 67/100\n",
      "5/5 [==============================] - 0s 2ms/step - loss: 8.0362\n",
      "Epoch 68/100\n",
      "5/5 [==============================] - 0s 1ms/step - loss: 8.7479\n",
      "Epoch 69/100\n",
      "5/5 [==============================] - 0s 2ms/step - loss: 9.4604\n",
      "Epoch 70/100\n",
      "5/5 [==============================] - 0s 1ms/step - loss: 10.4175\n",
      "Epoch 71/100\n",
      "5/5 [==============================] - 0s 2ms/step - loss: 11.5693\n",
      "Epoch 72/100\n",
      "5/5 [==============================] - 0s 1ms/step - loss: 12.3179\n",
      "Epoch 73/100\n",
      "5/5 [==============================] - 0s 1ms/step - loss: 12.4107\n",
      "Epoch 74/100\n",
      "5/5 [==============================] - 0s 1ms/step - loss: 12.1133\n",
      "Epoch 75/100\n",
      "5/5 [==============================] - 0s 1ms/step - loss: 11.0606\n",
      "Epoch 76/100\n",
      "5/5 [==============================] - 0s 2ms/step - loss: 9.4113\n",
      "Epoch 77/100\n",
      "5/5 [==============================] - 0s 1ms/step - loss: 6.9815\n",
      "Epoch 78/100\n",
      "5/5 [==============================] - 0s 2ms/step - loss: 4.8237\n",
      "Epoch 79/100\n",
      "5/5 [==============================] - 0s 1ms/step - loss: 3.0323\n",
      "Epoch 80/100\n",
      "5/5 [==============================] - 0s 2ms/step - loss: 2.7220\n",
      "Epoch 81/100\n",
      "5/5 [==============================] - 0s 1ms/step - loss: 3.2232\n",
      "Epoch 82/100\n",
      "5/5 [==============================] - 0s 2ms/step - loss: 3.5332\n",
      "Epoch 83/100\n",
      "5/5 [==============================] - 0s 1ms/step - loss: 3.7982\n",
      "Epoch 84/100\n",
      "5/5 [==============================] - 0s 2ms/step - loss: 3.4727\n",
      "Epoch 85/100\n",
      "5/5 [==============================] - 0s 1ms/step - loss: 2.6358\n",
      "Epoch 86/100\n",
      "5/5 [==============================] - 0s 1ms/step - loss: 1.8706\n",
      "Epoch 87/100\n",
      "5/5 [==============================] - 0s 2ms/step - loss: 1.2900\n",
      "Epoch 88/100\n",
      "5/5 [==============================] - 0s 1ms/step - loss: 1.1195\n",
      "Epoch 89/100\n",
      "5/5 [==============================] - 0s 2ms/step - loss: 1.3279\n",
      "Epoch 90/100\n",
      "5/5 [==============================] - 0s 1ms/step - loss: 1.4872\n",
      "Epoch 91/100\n",
      "5/5 [==============================] - 0s 2ms/step - loss: 1.4871\n",
      "Epoch 92/100\n",
      "5/5 [==============================] - 0s 1ms/step - loss: 1.3615\n",
      "Epoch 93/100\n",
      "5/5 [==============================] - 0s 2ms/step - loss: 1.1040\n",
      "Epoch 94/100\n",
      "5/5 [==============================] - 0s 2ms/step - loss: 0.8326\n",
      "Epoch 95/100\n",
      "5/5 [==============================] - 0s 1ms/step - loss: 0.7297\n",
      "Epoch 96/100\n",
      "5/5 [==============================] - 0s 2ms/step - loss: 0.7256\n",
      "Epoch 97/100\n",
      "5/5 [==============================] - 0s 1ms/step - loss: 0.6971\n",
      "Epoch 98/100\n",
      "5/5 [==============================] - 0s 2ms/step - loss: 0.6722\n",
      "Epoch 99/100\n",
      "5/5 [==============================] - 0s 1ms/step - loss: 0.6585\n",
      "Epoch 100/100\n",
      "5/5 [==============================] - 0s 2ms/step - loss: 0.5825\n"
     ]
    },
    {
     "data": {
      "text/plain": [
       "<keras.callbacks.History at 0x1f5b9189408>"
      ]
     },
     "execution_count": 68,
     "metadata": {},
     "output_type": "execute_result"
    }
   ],
   "source": [
    "model.fit(X,Y,epochs=100)"
   ]
  },
  {
   "cell_type": "markdown",
   "metadata": {},
   "source": [
    "# Prediction"
   ]
  },
  {
   "cell_type": "code",
   "execution_count": 69,
   "metadata": {},
   "outputs": [],
   "source": [
    "x_input = np.array([70,80,90])"
   ]
  },
  {
   "cell_type": "code",
   "execution_count": 70,
   "metadata": {},
   "outputs": [],
   "source": [
    "x_input = x_input.reshape((1,n_steps,n_features))"
   ]
  },
  {
   "cell_type": "code",
   "execution_count": 71,
   "metadata": {},
   "outputs": [
    {
     "data": {
      "text/plain": [
       "array([[[102.07573 ],\n",
       "        [113.712585]]], dtype=float32)"
      ]
     },
     "execution_count": 71,
     "metadata": {},
     "output_type": "execute_result"
    }
   ],
   "source": [
    "model.predict(x_input)"
   ]
  },
  {
   "cell_type": "code",
   "execution_count": null,
   "metadata": {},
   "outputs": [],
   "source": []
  },
  {
   "cell_type": "code",
   "execution_count": null,
   "metadata": {},
   "outputs": [],
   "source": []
  }
 ],
 "metadata": {
  "kernelspec": {
   "display_name": "Python 3",
   "language": "python",
   "name": "python3"
  },
  "language_info": {
   "codemirror_mode": {
    "name": "ipython",
    "version": 3
   },
   "file_extension": ".py",
   "mimetype": "text/x-python",
   "name": "python",
   "nbconvert_exporter": "python",
   "pygments_lexer": "ipython3",
   "version": "3.7.6"
  }
 },
 "nbformat": 4,
 "nbformat_minor": 4
}
