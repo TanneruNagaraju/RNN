{
 "cells": [
  {
   "cell_type": "code",
   "execution_count": 1,
   "metadata": {},
   "outputs": [],
   "source": [
    "import numpy as np\n",
    "import pandas as pd"
   ]
  },
  {
   "cell_type": "code",
   "execution_count": 2,
   "metadata": {},
   "outputs": [],
   "source": [
    "df = pd.read_csv(\"C:/Users/TANNERU/Downloads/Dataset for coding/cleaned_hm.csv\")"
   ]
  },
  {
   "cell_type": "code",
   "execution_count": 3,
   "metadata": {},
   "outputs": [
    {
     "data": {
      "text/html": [
       "<div>\n",
       "<style scoped>\n",
       "    .dataframe tbody tr th:only-of-type {\n",
       "        vertical-align: middle;\n",
       "    }\n",
       "\n",
       "    .dataframe tbody tr th {\n",
       "        vertical-align: top;\n",
       "    }\n",
       "\n",
       "    .dataframe thead th {\n",
       "        text-align: right;\n",
       "    }\n",
       "</style>\n",
       "<table border=\"1\" class=\"dataframe\">\n",
       "  <thead>\n",
       "    <tr style=\"text-align: right;\">\n",
       "      <th></th>\n",
       "      <th>hmid</th>\n",
       "      <th>wid</th>\n",
       "      <th>reflection_period</th>\n",
       "      <th>original_hm</th>\n",
       "      <th>cleaned_hm</th>\n",
       "      <th>modified</th>\n",
       "      <th>num_sentence</th>\n",
       "      <th>ground_truth_category</th>\n",
       "      <th>predicted_category</th>\n",
       "    </tr>\n",
       "  </thead>\n",
       "  <tbody>\n",
       "    <tr>\n",
       "      <th>0</th>\n",
       "      <td>27673</td>\n",
       "      <td>2053</td>\n",
       "      <td>24h</td>\n",
       "      <td>I went on a successful date with someone I fel...</td>\n",
       "      <td>I went on a successful date with someone I fel...</td>\n",
       "      <td>True</td>\n",
       "      <td>1</td>\n",
       "      <td>NaN</td>\n",
       "      <td>affection</td>\n",
       "    </tr>\n",
       "    <tr>\n",
       "      <th>1</th>\n",
       "      <td>27674</td>\n",
       "      <td>2</td>\n",
       "      <td>24h</td>\n",
       "      <td>I was happy when my son got 90% marks in his e...</td>\n",
       "      <td>I was happy when my son got 90% marks in his e...</td>\n",
       "      <td>True</td>\n",
       "      <td>1</td>\n",
       "      <td>NaN</td>\n",
       "      <td>affection</td>\n",
       "    </tr>\n",
       "    <tr>\n",
       "      <th>2</th>\n",
       "      <td>27675</td>\n",
       "      <td>1936</td>\n",
       "      <td>24h</td>\n",
       "      <td>I went to the gym this morning and did yoga.</td>\n",
       "      <td>I went to the gym this morning and did yoga.</td>\n",
       "      <td>True</td>\n",
       "      <td>1</td>\n",
       "      <td>NaN</td>\n",
       "      <td>exercise</td>\n",
       "    </tr>\n",
       "    <tr>\n",
       "      <th>3</th>\n",
       "      <td>27676</td>\n",
       "      <td>206</td>\n",
       "      <td>24h</td>\n",
       "      <td>We had a serious talk with some friends of our...</td>\n",
       "      <td>We had a serious talk with some friends of our...</td>\n",
       "      <td>True</td>\n",
       "      <td>2</td>\n",
       "      <td>bonding</td>\n",
       "      <td>bonding</td>\n",
       "    </tr>\n",
       "    <tr>\n",
       "      <th>4</th>\n",
       "      <td>27677</td>\n",
       "      <td>6227</td>\n",
       "      <td>24h</td>\n",
       "      <td>I went with grandchildren to butterfly display...</td>\n",
       "      <td>I went with grandchildren to butterfly display...</td>\n",
       "      <td>True</td>\n",
       "      <td>1</td>\n",
       "      <td>NaN</td>\n",
       "      <td>affection</td>\n",
       "    </tr>\n",
       "    <tr>\n",
       "      <th>...</th>\n",
       "      <td>...</td>\n",
       "      <td>...</td>\n",
       "      <td>...</td>\n",
       "      <td>...</td>\n",
       "      <td>...</td>\n",
       "      <td>...</td>\n",
       "      <td>...</td>\n",
       "      <td>...</td>\n",
       "      <td>...</td>\n",
       "    </tr>\n",
       "    <tr>\n",
       "      <th>100530</th>\n",
       "      <td>128762</td>\n",
       "      <td>112</td>\n",
       "      <td>24h</td>\n",
       "      <td>My husband announced he is getting a decent bo...</td>\n",
       "      <td>My husband announced he is getting a decent bo...</td>\n",
       "      <td>True</td>\n",
       "      <td>1</td>\n",
       "      <td>NaN</td>\n",
       "      <td>affection</td>\n",
       "    </tr>\n",
       "    <tr>\n",
       "      <th>100531</th>\n",
       "      <td>128763</td>\n",
       "      <td>714</td>\n",
       "      <td>24h</td>\n",
       "      <td>Had a can of Pepsi to drink.</td>\n",
       "      <td>Had a can of Pepsi to drink.</td>\n",
       "      <td>True</td>\n",
       "      <td>1</td>\n",
       "      <td>NaN</td>\n",
       "      <td>enjoy_the_moment</td>\n",
       "    </tr>\n",
       "    <tr>\n",
       "      <th>100532</th>\n",
       "      <td>128764</td>\n",
       "      <td>3934</td>\n",
       "      <td>24h</td>\n",
       "      <td>Cuddling with my girlfriend last night.</td>\n",
       "      <td>Cuddling with my girlfriend last night.</td>\n",
       "      <td>True</td>\n",
       "      <td>1</td>\n",
       "      <td>affection</td>\n",
       "      <td>affection</td>\n",
       "    </tr>\n",
       "    <tr>\n",
       "      <th>100533</th>\n",
       "      <td>128765</td>\n",
       "      <td>1629</td>\n",
       "      <td>24h</td>\n",
       "      <td>I had a great meeting yesterday at work with m...</td>\n",
       "      <td>I had a great meeting yesterday at work with m...</td>\n",
       "      <td>True</td>\n",
       "      <td>1</td>\n",
       "      <td>NaN</td>\n",
       "      <td>bonding</td>\n",
       "    </tr>\n",
       "    <tr>\n",
       "      <th>100534</th>\n",
       "      <td>128766</td>\n",
       "      <td>141</td>\n",
       "      <td>24h</td>\n",
       "      <td>I had a great workout last night.</td>\n",
       "      <td>I had a great workout last night.</td>\n",
       "      <td>True</td>\n",
       "      <td>1</td>\n",
       "      <td>NaN</td>\n",
       "      <td>exercise</td>\n",
       "    </tr>\n",
       "  </tbody>\n",
       "</table>\n",
       "<p>100535 rows × 9 columns</p>\n",
       "</div>"
      ],
      "text/plain": [
       "          hmid   wid reflection_period  \\\n",
       "0        27673  2053               24h   \n",
       "1        27674     2               24h   \n",
       "2        27675  1936               24h   \n",
       "3        27676   206               24h   \n",
       "4        27677  6227               24h   \n",
       "...        ...   ...               ...   \n",
       "100530  128762   112               24h   \n",
       "100531  128763   714               24h   \n",
       "100532  128764  3934               24h   \n",
       "100533  128765  1629               24h   \n",
       "100534  128766   141               24h   \n",
       "\n",
       "                                              original_hm  \\\n",
       "0       I went on a successful date with someone I fel...   \n",
       "1       I was happy when my son got 90% marks in his e...   \n",
       "2            I went to the gym this morning and did yoga.   \n",
       "3       We had a serious talk with some friends of our...   \n",
       "4       I went with grandchildren to butterfly display...   \n",
       "...                                                   ...   \n",
       "100530  My husband announced he is getting a decent bo...   \n",
       "100531                       Had a can of Pepsi to drink.   \n",
       "100532            Cuddling with my girlfriend last night.   \n",
       "100533  I had a great meeting yesterday at work with m...   \n",
       "100534                  I had a great workout last night.   \n",
       "\n",
       "                                               cleaned_hm  modified  \\\n",
       "0       I went on a successful date with someone I fel...      True   \n",
       "1       I was happy when my son got 90% marks in his e...      True   \n",
       "2            I went to the gym this morning and did yoga.      True   \n",
       "3       We had a serious talk with some friends of our...      True   \n",
       "4       I went with grandchildren to butterfly display...      True   \n",
       "...                                                   ...       ...   \n",
       "100530  My husband announced he is getting a decent bo...      True   \n",
       "100531                       Had a can of Pepsi to drink.      True   \n",
       "100532            Cuddling with my girlfriend last night.      True   \n",
       "100533  I had a great meeting yesterday at work with m...      True   \n",
       "100534                  I had a great workout last night.      True   \n",
       "\n",
       "        num_sentence ground_truth_category predicted_category  \n",
       "0                  1                   NaN          affection  \n",
       "1                  1                   NaN          affection  \n",
       "2                  1                   NaN           exercise  \n",
       "3                  2               bonding            bonding  \n",
       "4                  1                   NaN          affection  \n",
       "...              ...                   ...                ...  \n",
       "100530             1                   NaN          affection  \n",
       "100531             1                   NaN   enjoy_the_moment  \n",
       "100532             1             affection          affection  \n",
       "100533             1                   NaN            bonding  \n",
       "100534             1                   NaN           exercise  \n",
       "\n",
       "[100535 rows x 9 columns]"
      ]
     },
     "execution_count": 3,
     "metadata": {},
     "output_type": "execute_result"
    }
   ],
   "source": [
    "df"
   ]
  },
  {
   "cell_type": "code",
   "execution_count": 4,
   "metadata": {},
   "outputs": [
    {
     "data": {
      "text/plain": [
       "hmid                         0\n",
       "wid                          0\n",
       "reflection_period            0\n",
       "original_hm                  0\n",
       "cleaned_hm                   0\n",
       "modified                     0\n",
       "num_sentence                 0\n",
       "ground_truth_category    86410\n",
       "predicted_category           0\n",
       "dtype: int64"
      ]
     },
     "execution_count": 4,
     "metadata": {},
     "output_type": "execute_result"
    }
   ],
   "source": [
    "df.isnull().sum()"
   ]
  },
  {
   "cell_type": "code",
   "execution_count": 5,
   "metadata": {},
   "outputs": [
    {
     "data": {
      "text/plain": [
       "affection           34168\n",
       "achievement         33993\n",
       "enjoy_the_moment    11144\n",
       "bonding             10727\n",
       "leisure              7458\n",
       "nature               1843\n",
       "exercise             1202\n",
       "Name: predicted_category, dtype: int64"
      ]
     },
     "execution_count": 5,
     "metadata": {},
     "output_type": "execute_result"
    }
   ],
   "source": [
    "df['predicted_category'].value_counts()"
   ]
  },
  {
   "cell_type": "code",
   "execution_count": 6,
   "metadata": {},
   "outputs": [
    {
     "data": {
      "text/plain": [
       "1     83711\n",
       "2      9542\n",
       "3      3847\n",
       "4      1624\n",
       "5       821\n",
       "6       336\n",
       "7       183\n",
       "8       107\n",
       "10       68\n",
       "9        61\n",
       "11       35\n",
       "13       26\n",
       "12       21\n",
       "16       17\n",
       "18       17\n",
       "14       14\n",
       "17       14\n",
       "19       12\n",
       "21       10\n",
       "25        7\n",
       "15        7\n",
       "23        7\n",
       "24        5\n",
       "26        5\n",
       "22        4\n",
       "29        3\n",
       "31        3\n",
       "30        3\n",
       "20        3\n",
       "27        2\n",
       "32        2\n",
       "37        2\n",
       "40        2\n",
       "56        1\n",
       "46        1\n",
       "53        1\n",
       "51        1\n",
       "48        1\n",
       "69        1\n",
       "35        1\n",
       "45        1\n",
       "44        1\n",
       "42        1\n",
       "58        1\n",
       "34        1\n",
       "28        1\n",
       "60        1\n",
       "Name: num_sentence, dtype: int64"
      ]
     },
     "execution_count": 6,
     "metadata": {},
     "output_type": "execute_result"
    }
   ],
   "source": [
    "df['num_sentence'].value_counts()"
   ]
  },
  {
   "cell_type": "code",
   "execution_count": 7,
   "metadata": {},
   "outputs": [],
   "source": [
    "#deleting num_sentences  which are having more that 10 sentences in a word\n",
    "mod_df = df.loc[df['num_sentence']<=10]"
   ]
  },
  {
   "cell_type": "code",
   "execution_count": 8,
   "metadata": {},
   "outputs": [
    {
     "data": {
      "text/html": [
       "<div>\n",
       "<style scoped>\n",
       "    .dataframe tbody tr th:only-of-type {\n",
       "        vertical-align: middle;\n",
       "    }\n",
       "\n",
       "    .dataframe tbody tr th {\n",
       "        vertical-align: top;\n",
       "    }\n",
       "\n",
       "    .dataframe thead th {\n",
       "        text-align: right;\n",
       "    }\n",
       "</style>\n",
       "<table border=\"1\" class=\"dataframe\">\n",
       "  <thead>\n",
       "    <tr style=\"text-align: right;\">\n",
       "      <th></th>\n",
       "      <th>hmid</th>\n",
       "      <th>wid</th>\n",
       "      <th>reflection_period</th>\n",
       "      <th>original_hm</th>\n",
       "      <th>cleaned_hm</th>\n",
       "      <th>modified</th>\n",
       "      <th>num_sentence</th>\n",
       "      <th>ground_truth_category</th>\n",
       "      <th>predicted_category</th>\n",
       "    </tr>\n",
       "  </thead>\n",
       "  <tbody>\n",
       "    <tr>\n",
       "      <th>0</th>\n",
       "      <td>27673</td>\n",
       "      <td>2053</td>\n",
       "      <td>24h</td>\n",
       "      <td>I went on a successful date with someone I fel...</td>\n",
       "      <td>I went on a successful date with someone I fel...</td>\n",
       "      <td>True</td>\n",
       "      <td>1</td>\n",
       "      <td>NaN</td>\n",
       "      <td>affection</td>\n",
       "    </tr>\n",
       "    <tr>\n",
       "      <th>1</th>\n",
       "      <td>27674</td>\n",
       "      <td>2</td>\n",
       "      <td>24h</td>\n",
       "      <td>I was happy when my son got 90% marks in his e...</td>\n",
       "      <td>I was happy when my son got 90% marks in his e...</td>\n",
       "      <td>True</td>\n",
       "      <td>1</td>\n",
       "      <td>NaN</td>\n",
       "      <td>affection</td>\n",
       "    </tr>\n",
       "    <tr>\n",
       "      <th>2</th>\n",
       "      <td>27675</td>\n",
       "      <td>1936</td>\n",
       "      <td>24h</td>\n",
       "      <td>I went to the gym this morning and did yoga.</td>\n",
       "      <td>I went to the gym this morning and did yoga.</td>\n",
       "      <td>True</td>\n",
       "      <td>1</td>\n",
       "      <td>NaN</td>\n",
       "      <td>exercise</td>\n",
       "    </tr>\n",
       "    <tr>\n",
       "      <th>3</th>\n",
       "      <td>27676</td>\n",
       "      <td>206</td>\n",
       "      <td>24h</td>\n",
       "      <td>We had a serious talk with some friends of our...</td>\n",
       "      <td>We had a serious talk with some friends of our...</td>\n",
       "      <td>True</td>\n",
       "      <td>2</td>\n",
       "      <td>bonding</td>\n",
       "      <td>bonding</td>\n",
       "    </tr>\n",
       "    <tr>\n",
       "      <th>4</th>\n",
       "      <td>27677</td>\n",
       "      <td>6227</td>\n",
       "      <td>24h</td>\n",
       "      <td>I went with grandchildren to butterfly display...</td>\n",
       "      <td>I went with grandchildren to butterfly display...</td>\n",
       "      <td>True</td>\n",
       "      <td>1</td>\n",
       "      <td>NaN</td>\n",
       "      <td>affection</td>\n",
       "    </tr>\n",
       "    <tr>\n",
       "      <th>...</th>\n",
       "      <td>...</td>\n",
       "      <td>...</td>\n",
       "      <td>...</td>\n",
       "      <td>...</td>\n",
       "      <td>...</td>\n",
       "      <td>...</td>\n",
       "      <td>...</td>\n",
       "      <td>...</td>\n",
       "      <td>...</td>\n",
       "    </tr>\n",
       "    <tr>\n",
       "      <th>100530</th>\n",
       "      <td>128762</td>\n",
       "      <td>112</td>\n",
       "      <td>24h</td>\n",
       "      <td>My husband announced he is getting a decent bo...</td>\n",
       "      <td>My husband announced he is getting a decent bo...</td>\n",
       "      <td>True</td>\n",
       "      <td>1</td>\n",
       "      <td>NaN</td>\n",
       "      <td>affection</td>\n",
       "    </tr>\n",
       "    <tr>\n",
       "      <th>100531</th>\n",
       "      <td>128763</td>\n",
       "      <td>714</td>\n",
       "      <td>24h</td>\n",
       "      <td>Had a can of Pepsi to drink.</td>\n",
       "      <td>Had a can of Pepsi to drink.</td>\n",
       "      <td>True</td>\n",
       "      <td>1</td>\n",
       "      <td>NaN</td>\n",
       "      <td>enjoy_the_moment</td>\n",
       "    </tr>\n",
       "    <tr>\n",
       "      <th>100532</th>\n",
       "      <td>128764</td>\n",
       "      <td>3934</td>\n",
       "      <td>24h</td>\n",
       "      <td>Cuddling with my girlfriend last night.</td>\n",
       "      <td>Cuddling with my girlfriend last night.</td>\n",
       "      <td>True</td>\n",
       "      <td>1</td>\n",
       "      <td>affection</td>\n",
       "      <td>affection</td>\n",
       "    </tr>\n",
       "    <tr>\n",
       "      <th>100533</th>\n",
       "      <td>128765</td>\n",
       "      <td>1629</td>\n",
       "      <td>24h</td>\n",
       "      <td>I had a great meeting yesterday at work with m...</td>\n",
       "      <td>I had a great meeting yesterday at work with m...</td>\n",
       "      <td>True</td>\n",
       "      <td>1</td>\n",
       "      <td>NaN</td>\n",
       "      <td>bonding</td>\n",
       "    </tr>\n",
       "    <tr>\n",
       "      <th>100534</th>\n",
       "      <td>128766</td>\n",
       "      <td>141</td>\n",
       "      <td>24h</td>\n",
       "      <td>I had a great workout last night.</td>\n",
       "      <td>I had a great workout last night.</td>\n",
       "      <td>True</td>\n",
       "      <td>1</td>\n",
       "      <td>NaN</td>\n",
       "      <td>exercise</td>\n",
       "    </tr>\n",
       "  </tbody>\n",
       "</table>\n",
       "<p>100300 rows × 9 columns</p>\n",
       "</div>"
      ],
      "text/plain": [
       "          hmid   wid reflection_period  \\\n",
       "0        27673  2053               24h   \n",
       "1        27674     2               24h   \n",
       "2        27675  1936               24h   \n",
       "3        27676   206               24h   \n",
       "4        27677  6227               24h   \n",
       "...        ...   ...               ...   \n",
       "100530  128762   112               24h   \n",
       "100531  128763   714               24h   \n",
       "100532  128764  3934               24h   \n",
       "100533  128765  1629               24h   \n",
       "100534  128766   141               24h   \n",
       "\n",
       "                                              original_hm  \\\n",
       "0       I went on a successful date with someone I fel...   \n",
       "1       I was happy when my son got 90% marks in his e...   \n",
       "2            I went to the gym this morning and did yoga.   \n",
       "3       We had a serious talk with some friends of our...   \n",
       "4       I went with grandchildren to butterfly display...   \n",
       "...                                                   ...   \n",
       "100530  My husband announced he is getting a decent bo...   \n",
       "100531                       Had a can of Pepsi to drink.   \n",
       "100532            Cuddling with my girlfriend last night.   \n",
       "100533  I had a great meeting yesterday at work with m...   \n",
       "100534                  I had a great workout last night.   \n",
       "\n",
       "                                               cleaned_hm  modified  \\\n",
       "0       I went on a successful date with someone I fel...      True   \n",
       "1       I was happy when my son got 90% marks in his e...      True   \n",
       "2            I went to the gym this morning and did yoga.      True   \n",
       "3       We had a serious talk with some friends of our...      True   \n",
       "4       I went with grandchildren to butterfly display...      True   \n",
       "...                                                   ...       ...   \n",
       "100530  My husband announced he is getting a decent bo...      True   \n",
       "100531                       Had a can of Pepsi to drink.      True   \n",
       "100532            Cuddling with my girlfriend last night.      True   \n",
       "100533  I had a great meeting yesterday at work with m...      True   \n",
       "100534                  I had a great workout last night.      True   \n",
       "\n",
       "        num_sentence ground_truth_category predicted_category  \n",
       "0                  1                   NaN          affection  \n",
       "1                  1                   NaN          affection  \n",
       "2                  1                   NaN           exercise  \n",
       "3                  2               bonding            bonding  \n",
       "4                  1                   NaN          affection  \n",
       "...              ...                   ...                ...  \n",
       "100530             1                   NaN          affection  \n",
       "100531             1                   NaN   enjoy_the_moment  \n",
       "100532             1             affection          affection  \n",
       "100533             1                   NaN            bonding  \n",
       "100534             1                   NaN           exercise  \n",
       "\n",
       "[100300 rows x 9 columns]"
      ]
     },
     "execution_count": 8,
     "metadata": {},
     "output_type": "execute_result"
    }
   ],
   "source": [
    "mod_df"
   ]
  },
  {
   "cell_type": "code",
   "execution_count": 9,
   "metadata": {},
   "outputs": [
    {
     "data": {
      "text/plain": [
       "1     83711\n",
       "2      9542\n",
       "3      3847\n",
       "4      1624\n",
       "5       821\n",
       "6       336\n",
       "7       183\n",
       "8       107\n",
       "10       68\n",
       "9        61\n",
       "Name: num_sentence, dtype: int64"
      ]
     },
     "execution_count": 9,
     "metadata": {},
     "output_type": "execute_result"
    }
   ],
   "source": [
    "mod_df['num_sentence'].value_counts()"
   ]
  },
  {
   "cell_type": "code",
   "execution_count": 10,
   "metadata": {},
   "outputs": [
    {
     "data": {
      "text/plain": [
       "affection           34020\n",
       "achievement         33966\n",
       "enjoy_the_moment    11115\n",
       "bonding             10700\n",
       "leisure              7458\n",
       "nature               1839\n",
       "exercise             1202\n",
       "Name: predicted_category, dtype: int64"
      ]
     },
     "execution_count": 10,
     "metadata": {},
     "output_type": "execute_result"
    }
   ],
   "source": [
    "mod_df['predicted_category'].value_counts()"
   ]
  },
  {
   "cell_type": "code",
   "execution_count": 11,
   "metadata": {},
   "outputs": [],
   "source": [
    "X = mod_df['cleaned_hm'].values\n",
    "Y = mod_df['predicted_category']"
   ]
  },
  {
   "cell_type": "code",
   "execution_count": 12,
   "metadata": {},
   "outputs": [
    {
     "name": "stdout",
     "output_type": "stream",
     "text": [
      "['I went on a successful date with someone I felt sympathy and connection with.'\n",
      " 'I was happy when my son got 90% marks in his examination '\n",
      " 'I went to the gym this morning and did yoga.' ...\n",
      " 'Cuddling with my girlfriend last night.'\n",
      " \"I had a great meeting yesterday at work with my boss and a few colleagues and we went out for lunch afterward; everybody was excited by the projects we're working on and how efficient our team is.\"\n",
      " 'I had a great workout last night.']\n"
     ]
    }
   ],
   "source": [
    "print(X)"
   ]
  },
  {
   "cell_type": "code",
   "execution_count": 13,
   "metadata": {},
   "outputs": [
    {
     "name": "stdout",
     "output_type": "stream",
     "text": [
      "0                affection\n",
      "1                affection\n",
      "2                 exercise\n",
      "3                  bonding\n",
      "4                affection\n",
      "                ...       \n",
      "100530           affection\n",
      "100531    enjoy_the_moment\n",
      "100532           affection\n",
      "100533             bonding\n",
      "100534            exercise\n",
      "Name: predicted_category, Length: 100300, dtype: object\n"
     ]
    }
   ],
   "source": [
    "print(Y)"
   ]
  },
  {
   "cell_type": "markdown",
   "metadata": {},
   "source": [
    "# LabelEncoding"
   ]
  },
  {
   "cell_type": "code",
   "execution_count": 14,
   "metadata": {},
   "outputs": [],
   "source": [
    "from sklearn.preprocessing import LabelEncoder\n",
    "le = LabelEncoder()\n",
    "Y = le.fit_transform(Y)"
   ]
  },
  {
   "cell_type": "code",
   "execution_count": 15,
   "metadata": {},
   "outputs": [
    {
     "name": "stdout",
     "output_type": "stream",
     "text": [
      "[1 1 4 ... 1 2 4]\n"
     ]
    }
   ],
   "source": [
    "print(Y)"
   ]
  },
  {
   "cell_type": "code",
   "execution_count": 16,
   "metadata": {},
   "outputs": [
    {
     "name": "stdout",
     "output_type": "stream",
     "text": [
      "Counter({1: 34020, 0: 33966, 3: 11115, 2: 10700, 5: 7458, 6: 1839, 4: 1202})\n"
     ]
    }
   ],
   "source": [
    "from collections import Counter\n",
    "print(Counter(Y)) #alphabetic order"
   ]
  },
  {
   "cell_type": "markdown",
   "metadata": {},
   "source": [
    "# Onehotencoding"
   ]
  },
  {
   "cell_type": "code",
   "execution_count": 17,
   "metadata": {},
   "outputs": [],
   "source": [
    "Y = Y.reshape(-1,1)"
   ]
  },
  {
   "cell_type": "code",
   "execution_count": 18,
   "metadata": {},
   "outputs": [],
   "source": [
    "from sklearn.preprocessing import OneHotEncoder\n",
    "onehot = OneHotEncoder(categories = 'auto')\n",
    "Y = onehot.fit_transform(Y).toarray()"
   ]
  },
  {
   "cell_type": "code",
   "execution_count": 19,
   "metadata": {},
   "outputs": [
    {
     "name": "stdout",
     "output_type": "stream",
     "text": [
      "(100300, 7)\n"
     ]
    }
   ],
   "source": [
    "#print(Y)\n",
    "print(Y.shape)"
   ]
  },
  {
   "cell_type": "code",
   "execution_count": 20,
   "metadata": {},
   "outputs": [
    {
     "data": {
      "text/plain": [
       "array([[0., 1., 0., ..., 0., 0., 0.],\n",
       "       [0., 1., 0., ..., 0., 0., 0.],\n",
       "       [0., 0., 0., ..., 1., 0., 0.],\n",
       "       ...,\n",
       "       [0., 1., 0., ..., 0., 0., 0.],\n",
       "       [0., 0., 1., ..., 0., 0., 0.],\n",
       "       [0., 0., 0., ..., 1., 0., 0.]])"
      ]
     },
     "execution_count": 20,
     "metadata": {},
     "output_type": "execute_result"
    }
   ],
   "source": [
    "Y"
   ]
  },
  {
   "cell_type": "markdown",
   "metadata": {},
   "source": [
    "# Data cleaning"
   ]
  },
  {
   "cell_type": "code",
   "execution_count": 21,
   "metadata": {},
   "outputs": [],
   "source": [
    "import re\n",
    "import nltk\n",
    "from nltk.stem import PorterStemmer\n",
    "from nltk.stem import WordNetLemmatizer\n",
    "from nltk.corpus import stopwords"
   ]
  },
  {
   "cell_type": "code",
   "execution_count": 22,
   "metadata": {},
   "outputs": [],
   "source": [
    "ps = PorterStemmer()\n",
    "lemma = WordNetLemmatizer()\n",
    "corpus = []"
   ]
  },
  {
   "cell_type": "code",
   "execution_count": 23,
   "metadata": {},
   "outputs": [
    {
     "data": {
      "text/plain": [
       "'Watching cupcake wars with my three teen children'"
      ]
     },
     "execution_count": 23,
     "metadata": {},
     "output_type": "execute_result"
    }
   ],
   "source": [
    "X[9]"
   ]
  },
  {
   "cell_type": "code",
   "execution_count": 24,
   "metadata": {},
   "outputs": [
    {
     "data": {
      "text/plain": [
       "numpy.ndarray"
      ]
     },
     "execution_count": 24,
     "metadata": {},
     "output_type": "execute_result"
    }
   ],
   "source": [
    "type(X)"
   ]
  },
  {
   "cell_type": "code",
   "execution_count": 25,
   "metadata": {},
   "outputs": [
    {
     "data": {
      "text/plain": [
       "100300"
      ]
     },
     "execution_count": 25,
     "metadata": {},
     "output_type": "execute_result"
    }
   ],
   "source": [
    "len(X)"
   ]
  },
  {
   "cell_type": "code",
   "execution_count": 26,
   "metadata": {},
   "outputs": [],
   "source": [
    "for i in range(0,len(X)):\n",
    "    review = re.sub('[^a-zA-Z]',' ',X[i])\n",
    "    review = review.lower()\n",
    "    review = review.split()\n",
    "    #stemming\n",
    "    review = [ps.stem(word) for word in review if word not in set(stopwords.words('english'))]\n",
    "    #lemmatising\n",
    "    #review = [lemma.lemmatize(word) for word in review if word not in stopwords.words('english')]\n",
    "    review = ' '.join(review)\n",
    "    corpus.append(review)\n",
    "    "
   ]
  },
  {
   "cell_type": "code",
   "execution_count": 27,
   "metadata": {},
   "outputs": [
    {
     "data": {
      "text/plain": [
       "100300"
      ]
     },
     "execution_count": 27,
     "metadata": {},
     "output_type": "execute_result"
    }
   ],
   "source": [
    "len(corpus)"
   ]
  },
  {
   "cell_type": "code",
   "execution_count": 31,
   "metadata": {},
   "outputs": [
    {
     "data": {
      "text/plain": [
       "'went success date someon felt sympathi connect'"
      ]
     },
     "execution_count": 31,
     "metadata": {},
     "output_type": "execute_result"
    }
   ],
   "source": [
    "corpus[0]"
   ]
  },
  {
   "cell_type": "code",
   "execution_count": 32,
   "metadata": {},
   "outputs": [],
   "source": [
    "from keras.preprocessing.text import one_hot\n",
    "from keras.preprocessing.sequence import pad_sequences\n",
    "from keras.models import Sequential\n",
    "from keras.layers import Dense\n",
    "from keras.layers import Flatten\n",
    "from keras.layers import LSTM\n",
    "from keras.layers import Dropout\n",
    "from keras.layers.embeddings import Embedding"
   ]
  },
  {
   "cell_type": "code",
   "execution_count": 33,
   "metadata": {},
   "outputs": [],
   "source": [
    "vocab_size = 27000"
   ]
  },
  {
   "cell_type": "markdown",
   "metadata": {},
   "source": [
    "# OneHot"
   ]
  },
  {
   "cell_type": "code",
   "execution_count": 34,
   "metadata": {},
   "outputs": [],
   "source": [
    "onehot = [one_hot(d,vocab_size)for d in corpus]"
   ]
  },
  {
   "cell_type": "code",
   "execution_count": 35,
   "metadata": {},
   "outputs": [
    {
     "data": {
      "text/plain": [
       "100300"
      ]
     },
     "execution_count": 35,
     "metadata": {},
     "output_type": "execute_result"
    }
   ],
   "source": [
    "len(onehot)"
   ]
  },
  {
   "cell_type": "code",
   "execution_count": 36,
   "metadata": {},
   "outputs": [
    {
     "data": {
      "text/plain": [
       "[3884, 1531, 5678, 24193, 25567, 444, 24314, 16774, 20027]"
      ]
     },
     "execution_count": 36,
     "metadata": {},
     "output_type": "execute_result"
    }
   ],
   "source": [
    "onehot[3]"
   ]
  },
  {
   "cell_type": "markdown",
   "metadata": {},
   "source": [
    "# padding"
   ]
  },
  {
   "cell_type": "code",
   "execution_count": 37,
   "metadata": {},
   "outputs": [],
   "source": [
    "max_length = 55"
   ]
  },
  {
   "cell_type": "code",
   "execution_count": 39,
   "metadata": {},
   "outputs": [],
   "source": [
    "pad_docs = pad_sequences(onehot,padding='pre',maxlen = max_length)"
   ]
  },
  {
   "cell_type": "code",
   "execution_count": 40,
   "metadata": {},
   "outputs": [
    {
     "data": {
      "text/plain": [
       "100300"
      ]
     },
     "execution_count": 40,
     "metadata": {},
     "output_type": "execute_result"
    }
   ],
   "source": [
    "len(pad_docs)"
   ]
  },
  {
   "cell_type": "code",
   "execution_count": 43,
   "metadata": {},
   "outputs": [
    {
     "data": {
      "text/plain": [
       "55"
      ]
     },
     "execution_count": 43,
     "metadata": {},
     "output_type": "execute_result"
    }
   ],
   "source": [
    "len(pad_docs[999])"
   ]
  },
  {
   "cell_type": "code",
   "execution_count": 45,
   "metadata": {},
   "outputs": [
    {
     "data": {
      "text/plain": [
       "(100300, 55)"
      ]
     },
     "execution_count": 45,
     "metadata": {},
     "output_type": "execute_result"
    }
   ],
   "source": [
    "pad_docs.shape"
   ]
  },
  {
   "cell_type": "markdown",
   "metadata": {},
   "source": [
    "# Creating Model"
   ]
  },
  {
   "cell_type": "code",
   "execution_count": 46,
   "metadata": {},
   "outputs": [],
   "source": [
    "dimensions = 100"
   ]
  },
  {
   "cell_type": "code",
   "execution_count": 48,
   "metadata": {},
   "outputs": [],
   "source": [
    "model = Sequential()\n",
    "model.add(Embedding(vocab_size,dimensions,input_length = max_length))\n",
    "model.add(Dropout(0.3))\n",
    "model.add(LSTM(500))\n",
    "model.add(Dropout(0.3))\n",
    "model.add(Dense(7,activation = 'softmax'))\n",
    "model.compile(optimizer = 'adam',loss = 'categorical_crossentropy',metrics = ['accuracy'])"
   ]
  },
  {
   "cell_type": "code",
   "execution_count": 51,
   "metadata": {},
   "outputs": [],
   "source": [
    "X_in = np.array(pad_docs)#inputs\n",
    "Y = np.array(Y)#targets"
   ]
  },
  {
   "cell_type": "code",
   "execution_count": 52,
   "metadata": {},
   "outputs": [
    {
     "data": {
      "text/plain": [
       "(100300, 55)"
      ]
     },
     "execution_count": 52,
     "metadata": {},
     "output_type": "execute_result"
    }
   ],
   "source": [
    "X_in.shape"
   ]
  },
  {
   "cell_type": "code",
   "execution_count": 53,
   "metadata": {},
   "outputs": [],
   "source": [
    "from sklearn.model_selection import train_test_split\n",
    "Xtrain,Xtest,Ytrain,Ytest = train_test_split(X_in,Y,test_size = 0.25,random_state = 42) "
   ]
  },
  {
   "cell_type": "code",
   "execution_count": 54,
   "metadata": {},
   "outputs": [
    {
     "name": "stdout",
     "output_type": "stream",
     "text": [
      "(75225, 55)\n",
      "(25075, 55)\n",
      "(75225, 7)\n",
      "(25075, 7)\n"
     ]
    }
   ],
   "source": [
    "print(Xtrain.shape)\n",
    "print(Xtest.shape)\n",
    "print(Ytrain.shape)\n",
    "print(Ytest.shape)"
   ]
  },
  {
   "cell_type": "code",
   "execution_count": 60,
   "metadata": {},
   "outputs": [
    {
     "name": "stdout",
     "output_type": "stream",
     "text": [
      "Train on 75225 samples, validate on 25075 samples\n",
      "Epoch 1/10\n",
      "75225/75225 [==============================] - 458s 6ms/step - loss: 0.4675 - acc: 0.8403 - val_loss: 0.4058 - val_acc: 0.8600\n",
      "Epoch 2/10\n",
      "75225/75225 [==============================] - 436s 6ms/step - loss: 0.3439 - acc: 0.8819 - val_loss: 0.3635 - val_acc: 0.8730\n",
      "Epoch 3/10\n",
      "75225/75225 [==============================] - 410s 5ms/step - loss: 0.2884 - acc: 0.8995 - val_loss: 0.3465 - val_acc: 0.8803\n",
      "Epoch 4/10\n",
      "75225/75225 [==============================] - 409s 5ms/step - loss: 0.2552 - acc: 0.9103 - val_loss: 0.3442 - val_acc: 0.8810\n",
      "Epoch 5/10\n",
      "75225/75225 [==============================] - 407s 5ms/step - loss: 0.2319 - acc: 0.9185 - val_loss: 0.3400 - val_acc: 0.8797\n",
      "Epoch 6/10\n",
      "75225/75225 [==============================] - 410s 5ms/step - loss: 0.2150 - acc: 0.9233 - val_loss: 0.3474 - val_acc: 0.8794\n",
      "Epoch 7/10\n",
      "75225/75225 [==============================] - 406s 5ms/step - loss: 0.2040 - acc: 0.9269 - val_loss: 0.3690 - val_acc: 0.8802\n",
      "Epoch 8/10\n",
      "75225/75225 [==============================] - 465s 6ms/step - loss: 0.1916 - acc: 0.9311 - val_loss: 0.3585 - val_acc: 0.8790\n",
      "Epoch 9/10\n",
      "75225/75225 [==============================] - 3138s 42ms/step - loss: 0.1816 - acc: 0.9360 - val_loss: 0.3750 - val_acc: 0.8780\n",
      "Epoch 10/10\n",
      "75225/75225 [==============================] - 524s 7ms/step - loss: 0.1742 - acc: 0.9385 - val_loss: 0.3836 - val_acc: 0.8761\n"
     ]
    }
   ],
   "source": [
    "cl = model.fit(Xtrain,Ytrain,validation_data =(Xtest,Ytest),epochs = 10,batch_size = 512)"
   ]
  },
  {
   "cell_type": "code",
   "execution_count": 62,
   "metadata": {},
   "outputs": [
    {
     "name": "stdout",
     "output_type": "stream",
     "text": [
      "[[1.7274641e-04 9.9777943e-01 8.2602055e-05 ... 1.0212841e-06\n",
      "  6.1786780e-04 1.4250710e-05]\n",
      " [9.9896467e-01 1.5538852e-04 6.5380933e-05 ... 2.7275280e-04\n",
      "  2.9146243e-04 1.4449414e-05]\n",
      " [3.7999564e-01 6.1977565e-01 1.8717618e-04 ... 5.1743802e-07\n",
      "  9.5518726e-06 1.4011897e-06]\n",
      " ...\n",
      " [9.9898249e-01 2.5831739e-04 6.5051190e-06 ... 1.1813347e-05\n",
      "  5.5156602e-04 3.0281112e-06]\n",
      " [7.2049553e-04 9.9726725e-01 1.5063814e-04 ... 6.2182726e-06\n",
      "  5.4085111e-05 6.5122484e-05]\n",
      " [9.9510324e-01 1.7892317e-03 3.5924074e-04 ... 7.4505333e-05\n",
      "  2.8923783e-04 1.0213278e-04]]\n"
     ]
    }
   ],
   "source": [
    "predict = model.predict(Xtest)\n",
    "print(predict)"
   ]
  },
  {
   "cell_type": "code",
   "execution_count": 72,
   "metadata": {},
   "outputs": [
    {
     "data": {
      "text/plain": [
       "(25075, 7)"
      ]
     },
     "execution_count": 72,
     "metadata": {},
     "output_type": "execute_result"
    }
   ],
   "source": [
    "predict.shape"
   ]
  },
  {
   "cell_type": "code",
   "execution_count": 142,
   "metadata": {},
   "outputs": [
    {
     "name": "stdout",
     "output_type": "stream",
     "text": [
      "[1, 0, 1, 5, 1, 1, 3, 0, 1, 3]\n",
      "(25075, 7)\n"
     ]
    }
   ],
   "source": [
    "Ypred = [np.argmax(no) for no in predict]\n",
    "#print(Ypred)\n",
    "#print(Ypred.shape)\n",
    "print(Ypred[:10])\n",
    "print(Ytest.shape)"
   ]
  },
  {
   "cell_type": "code",
   "execution_count": 143,
   "metadata": {},
   "outputs": [],
   "source": [
    "Ypred1 = np.array(Ypred)\n",
    "Ypred1 = Ypred1.reshape(-1,1)"
   ]
  },
  {
   "cell_type": "code",
   "execution_count": 144,
   "metadata": {},
   "outputs": [],
   "source": [
    "from sklearn.preprocessing import OneHotEncoder\n",
    "onehot = OneHotEncoder(categories = 'auto')\n",
    "Ypred2 = onehot.fit_transform(Ypred1).toarray()"
   ]
  },
  {
   "cell_type": "code",
   "execution_count": 145,
   "metadata": {},
   "outputs": [
    {
     "name": "stdout",
     "output_type": "stream",
     "text": [
      "(25075, 7)\n"
     ]
    }
   ],
   "source": [
    "print(Ypred2.shape)"
   ]
  },
  {
   "cell_type": "code",
   "execution_count": 146,
   "metadata": {},
   "outputs": [
    {
     "data": {
      "text/plain": [
       "array([[0., 1., 0., 0., 0., 0., 0.],\n",
       "       [1., 0., 0., 0., 0., 0., 0.],\n",
       "       [0., 1., 0., 0., 0., 0., 0.],\n",
       "       [0., 0., 0., 0., 0., 1., 0.],\n",
       "       [0., 1., 0., 0., 0., 0., 0.],\n",
       "       [0., 1., 0., 0., 0., 0., 0.],\n",
       "       [0., 0., 0., 1., 0., 0., 0.],\n",
       "       [1., 0., 0., 0., 0., 0., 0.],\n",
       "       [0., 1., 0., 0., 0., 0., 0.],\n",
       "       [0., 0., 0., 1., 0., 0., 0.]])"
      ]
     },
     "execution_count": 146,
     "metadata": {},
     "output_type": "execute_result"
    }
   ],
   "source": [
    "Ypred2[:10]"
   ]
  },
  {
   "cell_type": "code",
   "execution_count": 147,
   "metadata": {},
   "outputs": [
    {
     "data": {
      "text/plain": [
       "array([[0., 1., 0., 0., 0., 0., 0.],\n",
       "       [1., 0., 0., 0., 0., 0., 0.],\n",
       "       [1., 0., 0., 0., 0., 0., 0.],\n",
       "       [0., 0., 0., 0., 0., 1., 0.],\n",
       "       [0., 1., 0., 0., 0., 0., 0.],\n",
       "       [0., 1., 0., 0., 0., 0., 0.],\n",
       "       [0., 0., 0., 1., 0., 0., 0.],\n",
       "       [1., 0., 0., 0., 0., 0., 0.],\n",
       "       [0., 1., 0., 0., 0., 0., 0.],\n",
       "       [0., 0., 0., 1., 0., 0., 0.]])"
      ]
     },
     "execution_count": 147,
     "metadata": {},
     "output_type": "execute_result"
    }
   ],
   "source": [
    "Ytest[:10]"
   ]
  },
  {
   "cell_type": "code",
   "execution_count": 148,
   "metadata": {},
   "outputs": [
    {
     "name": "stdout",
     "output_type": "stream",
     "text": [
      "[[[15716   833]\n",
      "  [ 1111  7415]]\n",
      "\n",
      " [[15989   658]\n",
      "  [  524  7904]]\n",
      "\n",
      " [[22244   196]\n",
      "  [  185  2450]]\n",
      "\n",
      " [[21546   721]\n",
      "  [  772  2036]]\n",
      "\n",
      " [[24718    39]\n",
      "  [   60   258]]\n",
      "\n",
      " [[22651   516]\n",
      "  [  377  1531]]\n",
      "\n",
      " [[24480   143]\n",
      "  [   77   375]]]\n"
     ]
    }
   ],
   "source": [
    "from sklearn.metrics import multilabel_confusion_matrix\n",
    "print(multilabel_confusion_matrix(Ytest,Ypred2))"
   ]
  },
  {
   "cell_type": "code",
   "execution_count": 149,
   "metadata": {},
   "outputs": [
    {
     "name": "stdout",
     "output_type": "stream",
     "text": [
      "(25075,)\n"
     ]
    }
   ],
   "source": [
    "Ytest1 = np.argmax(Ytest,axis = 1 )\n",
    "print(Ytest1.shape)"
   ]
  },
  {
   "cell_type": "code",
   "execution_count": 150,
   "metadata": {},
   "outputs": [
    {
     "data": {
      "text/plain": [
       "array([1, 0, 0, 5, 1, 1, 3, 0, 1, 3, 0, 0, 0, 1, 0], dtype=int64)"
      ]
     },
     "execution_count": 150,
     "metadata": {},
     "output_type": "execute_result"
    }
   ],
   "source": [
    "Ytest1[:15]"
   ]
  },
  {
   "cell_type": "code",
   "execution_count": 151,
   "metadata": {},
   "outputs": [
    {
     "data": {
      "text/plain": [
       "array([[1],\n",
       "       [0],\n",
       "       [1],\n",
       "       [5],\n",
       "       [1],\n",
       "       [1],\n",
       "       [3],\n",
       "       [0],\n",
       "       [1],\n",
       "       [3],\n",
       "       [0],\n",
       "       [0],\n",
       "       [0],\n",
       "       [1],\n",
       "       [0]], dtype=int64)"
      ]
     },
     "execution_count": 151,
     "metadata": {},
     "output_type": "execute_result"
    }
   ],
   "source": [
    "Ypred1[:15]"
   ]
  },
  {
   "cell_type": "code",
   "execution_count": 124,
   "metadata": {},
   "outputs": [
    {
     "name": "stdout",
     "output_type": "stream",
     "text": [
      "Counter({0: 8526, 1: 8428, 3: 2808, 2: 2635, 5: 1908, 6: 452, 4: 318})\n"
     ]
    }
   ],
   "source": [
    "from collections import Counter\n",
    "print(Counter(Ytest1)) #alphabetic order"
   ]
  },
  {
   "cell_type": "code",
   "execution_count": 152,
   "metadata": {},
   "outputs": [
    {
     "name": "stdout",
     "output_type": "stream",
     "text": [
      "Counter({1: 8562, 0: 8248, 3: 2757, 2: 2646, 5: 2047, 6: 518, 4: 297})\n"
     ]
    }
   ],
   "source": [
    "Ypred = np.array(Ypred)\n",
    "from collections import Counter\n",
    "print(Counter(Ypred)) #alphabetic order"
   ]
  },
  {
   "cell_type": "code",
   "execution_count": 153,
   "metadata": {},
   "outputs": [
    {
     "name": "stdout",
     "output_type": "stream",
     "text": [
      "<class 'numpy.ndarray'>\n",
      "<class 'numpy.ndarray'>\n"
     ]
    }
   ],
   "source": [
    "print(type(Ytest1))\n",
    "print(type(Ypred1))"
   ]
  },
  {
   "cell_type": "code",
   "execution_count": 127,
   "metadata": {},
   "outputs": [
    {
     "name": "stdout",
     "output_type": "stream",
     "text": [
      "[[7415  357   69  361   21  248   55]\n",
      " [ 211 7904   88  133    3   66   23]\n",
      " [  72   57 2450   40    1   11    4]\n",
      " [ 376  162   27 2036    8  168   31]\n",
      " [  25    7    1    6  258    9   12]\n",
      " [ 125   56   11  165    2 1531   18]\n",
      " [  24   19    0   16    4   14  375]]\n"
     ]
    }
   ],
   "source": [
    "from sklearn.metrics import confusion_matrix\n",
    "print(confusion_matrix(Ytest1,Ypred1))"
   ]
  },
  {
   "cell_type": "code",
   "execution_count": 116,
   "metadata": {},
   "outputs": [
    {
     "name": "stdout",
     "output_type": "stream",
     "text": [
      "0.8761316051844467\n"
     ]
    }
   ],
   "source": [
    "from sklearn.metrics import accuracy_score\n",
    "print(accuracy_score(Ytest,Ypred2))"
   ]
  },
  {
   "cell_type": "code",
   "execution_count": null,
   "metadata": {},
   "outputs": [],
   "source": []
  },
  {
   "cell_type": "markdown",
   "metadata": {},
   "source": [
    "# Data Visualization"
   ]
  },
  {
   "cell_type": "code",
   "execution_count": 65,
   "metadata": {},
   "outputs": [],
   "source": [
    "import matplotlib.pyplot as plt"
   ]
  },
  {
   "cell_type": "code",
   "execution_count": 67,
   "metadata": {},
   "outputs": [
    {
     "data": {
      "text/plain": [
       "dict_keys(['val_loss', 'val_acc', 'loss', 'acc'])"
      ]
     },
     "execution_count": 67,
     "metadata": {},
     "output_type": "execute_result"
    }
   ],
   "source": [
    "cl.history.keys()"
   ]
  },
  {
   "cell_type": "code",
   "execution_count": 68,
   "metadata": {},
   "outputs": [
    {
     "data": {
      "image/png": "[encoded data removed]",
      "text/plain": [
       "<Figure size 432x288 with 1 Axes>"
      ]
     },
     "metadata": {
      "needs_background": "light"
     },
     "output_type": "display_data"
    }
   ],
   "source": [
    "#Loss visualization\n",
    "plt.plot(cl.history['loss'],label = 'Training')\n",
    "plt.plot(cl.history['val_loss'],label = 'Validation')\n",
    "plt.xlabel('Epochs')\n",
    "plt.ylabel('Loss')\n",
    "plt.title('Loss vs Epochs')\n",
    "plt.legend()\n",
    "plt.show()\n"
   ]
  },
  {
   "cell_type": "code",
   "execution_count": 69,
   "metadata": {},
   "outputs": [
    {
     "data": {
      "image/png": "[encoded data removed]",
      "text/plain": [
       "<Figure size 432x288 with 1 Axes>"
      ]
     },
     "metadata": {
      "needs_background": "light"
     },
     "output_type": "display_data"
    }
   ],
   "source": [
    "#Accuracy visualization\n",
    "plt.plot(cl.history['acc'],label = 'Training')\n",
    "plt.plot(cl.history['val_acc'],label = 'Validation')\n",
    "plt.xlabel('Epochs')\n",
    "plt.ylabel('Accuracy')\n",
    "plt.title('Accuracy vs Epochs')\n",
    "plt.legend()\n",
    "plt.show()"
   ]
  },
  {
   "cell_type": "code",
   "execution_count": null,
   "metadata": {},
   "outputs": [],
   "source": []
  }
 ],
 "metadata": {
  "kernelspec": {
   "display_name": "Python 3",
   "language": "python",
   "name": "python3"
  },
  "language_info": {
   "codemirror_mode": {
    "name": "ipython",
    "version": 3
   },
   "file_extension": ".py",
   "mimetype": "text/x-python",
   "name": "python",
   "nbconvert_exporter": "python",
   "pygments_lexer": "ipython3",
   "version": "3.7.6"
  }
 },
 "nbformat": 4,
 "nbformat_minor": 4
}
